{
 "cells": [
  {
   "cell_type": "markdown",
   "metadata": {},
   "source": [
    "# Web Scraping Lab\n",
    "\n",
    "You will find in this notebook some scrapy exercises to practise your scraping skills.\n",
    "\n",
    "**Tips:**\n",
    "\n",
    "- Check the response status code for each request to ensure you have obtained the intended contennt.\n",
    "- Print the response text in each request to understand the kind of info you are getting and its format.\n",
    "- Check for patterns in the response text to extract the data/info requested in each question.\n",
    "- Visit each url and take a look at its source through Chrome DevTools. You'll need to identify the html tags, special class names etc. used for the html content you are expected to extract."
   ]
  },
  {
   "cell_type": "markdown",
   "metadata": {},
   "source": [
    "- [Requests library](http://docs.python-requests.org/en/master/#the-user-guide) documentation \n",
    "- [Beautiful Soup Doc](https://www.crummy.com/software/BeautifulSoup/bs4/doc/)\n",
    "- [Urllib](https://docs.python.org/3/library/urllib.html#module-urllib)\n",
    "- [re lib](https://docs.python.org/3/library/re.html)\n",
    "- [lxml lib](https://lxml.de/)\n",
    "- [Scrapy](https://scrapy.org/)\n",
    "- [List of HTTP status codes](https://en.wikipedia.org/wiki/List_of_HTTP_status_codes)\n",
    "- [HTML basics](http://www.simplehtmlguide.com/cheatsheet.php)\n",
    "- [CSS basics](https://www.cssbasics.com/#page_start)"
   ]
  },
  {
   "cell_type": "markdown",
   "metadata": {},
   "source": [
    "#### Below are the libraries and modules you may need. `requests`,  `BeautifulSoup` and `pandas` are imported for you. If you prefer to use additional libraries feel free to uncomment them."
   ]
  },
  {
   "cell_type": "code",
   "execution_count": 1,
   "metadata": {},
   "outputs": [],
   "source": [
    "import requests\n",
    "from bs4 import BeautifulSoup\n",
    "import pandas as pd\n",
    "# from pprint import pprint\n",
    "# from lxml import html\n",
    "# from lxml.html import fromstring\n",
    "# import urllib.request\n",
    "# from urllib.request import urlopen\n",
    "# import random\n",
    "# import re\n",
    "# import scrapy"
   ]
  },
  {
   "cell_type": "markdown",
   "metadata": {},
   "source": [
    "#### Download, parse (using BeautifulSoup), and print the content from the Trending Developers page from GitHub:"
   ]
  },
  {
   "cell_type": "code",
   "execution_count": 2,
   "metadata": {},
   "outputs": [],
   "source": [
    "# This is the url you will scrape in this exercise\n",
    "url = 'https://github.com/trending/developers'"
   ]
  },
  {
   "cell_type": "code",
   "execution_count": 5,
   "metadata": {},
   "outputs": [
    {
     "output_type": "execute_result",
     "data": {
      "text/plain": [
       "ick\",\"payload\":{\"click_context\":\"TRENDING_DEVELOPERS_PAGE\",\"click_target\":\"OWNER\",\"click_visual_representation\":\"TRENDING_DEVELOPER\",\"actor_id\":null,\"record_id\":630670,\"originating_url\":\"https://github.com/trending/developers\",\"user_id\":null}}' data-hydro-click-hmac=\"93cfe2ec6f10e4778fbd56122fc2a2a6611c83b5cf26a20a5a636c0d56d600e4\" href=\"/koxudaxi\">\n",
       "              koxudaxi\n",
       "</a> </p>\n",
       "</div>\n",
       "<div class=\"col-md-6\">\n",
       "<div class=\"mt-2 mb-3 my-md-0\">\n",
       "<article>\n",
       "<div class=\"f6 color-text-secondary text-uppercase mb-1\"><svg aria-hidden=\"true\" class=\"octicon octicon-flame text-orange-light mr-1\" height=\"16\" version=\"1.1\" viewbox=\"0 0 16 16\" width=\"16\"><path d=\"M7.998 14.5c2.832 0 5-1.98 5-4.5 0-1.463-.68-2.19-1.879-3.383l-.036-.037c-1.013-1.008-2.3-2.29-2.834-4.434-.322.256-.63.579-.864.953-.432.696-.621 1.58-.046 2.73.473.947.67 2.284-.278 3.232-.61.61-1.545.84-2.403.633a2.788 2.788 0 01-1.436-.874A3.21 3.21 0 003 10c0 2.53 2.164 4.5 4.998 4.5zM9.533.753C9.496.34 9.16.009 8.77.146 7.035.75 4.34 3.187 5.997 6.5c.344.689.285 1.218.003 1.5-.419.419-1.54.487-2.04-.832-.173-.454-.659-.762-1.035-.454C2.036 7.44 1.5 8.702 1.5 10c0 3.512 2.998 6 6.498 6s6.5-2.5 6.5-6c0-2.137-1.128-3.26-2.312-4.438-1.19-1.184-2.436-2.425-2.653-4.81z\" fill-rule=\"evenodd\"></path></svg>Popular repo</div>\n",
       "<h1 class=\"h4 lh-condensed\">\n",
       "<a class=\"css-truncate css-truncate-target\" data-ga-click=\"Explore, go to repository, location:trending developers\" data-hydro-click='{\"event_type\":\"explore.click\",\"payload\":{\"click_context\":\"TRENDING_DEVELOPERS_PAGE\",\"click_target\":\"REPOSITORY\",\"click_visual_representation\":\"REPOSITORY_NAME_HEADING\",\"actor_id\":null,\"record_id\":189179081,\"originating_url\":\"https://github.com/trending/developers\",\"user_id\":null}}' data-hydro-click-hmac=\"5afd48cf27d0ce49f0290b7e80424a70f1f344529023ea2757a13c528784b4f7\" href=\"/koxudaxi/datamodel-code-generator\" style=\"max-width: 175px;\">\n",
       "<svg aria-hidden=\"true\" class=\"octicon octicon-repo color-text-secondary mr-1\" height=\"16\" version=\"1.1\" viewbox=\"0 0 16 16\" width=\"16\"><path d=\"M2 2.5A2.5 2.5 0 014.5 0h8.75a.75.75 0 01.75.75v12.5a.75.75 0 01-.75.75h-2.5a.75.75 0 110-1.5h1.75v-2h-8a1 1 0 00-.714 1.7.75.75 0 01-1.072 1.05A2.495 2.495 0 012 11.5v-9zm10.5-1V9h-8c-.356 0-.694.074-1 .208V2.5a1 1 0 011-1h8zM5 12.25v3.25a.25.25 0 00.4.2l1.45-1.087a.25.25 0 01.3 0L8.6 15.7a.25.25 0 00.4-.2v-3.25a.25.25 0 00-.25-.25h-3.5a.25.25 0 00-.25.25z\" fill-rule=\"evenodd\"></path></svg>\n",
       "      datamodel-code-generator\n",
       "</a> </h1>\n",
       "<div class=\"f6 color-text-secondary mt-1\">\n",
       "      Pydantic model generator for easy conversion of JSON, OpenAPI, JSON Schema, and YAML data sources.\n",
       "    </div>\n",
       "</article>\n",
       "</div>\n",
       "</div>\n",
       "</div>\n",
       "<div class=\"col-sm-4 d-flex flex-sm-justify-end ml-sm-3\">\n",
       "<div class=\"mr-2\">\n",
       "<a aria-label=\"Sponsor @koxudaxi\" class=\"btn btn-sm btn-block\" data-hydro-click='{\"event_type\":\"sponsors.button_click\",\"payload\":{\"button\":\"TRENDING_DEVELOPER_SPONSOR\",\"sponsorable_login\":\"koxudaxi\",\"originating_url\":\"https://github.com/trending/developers\",\"user_id\":null}}' data-hydro-click-hmac=\"5421d2c61cb9bfcabba5caa18c06cbe918edbcb62e2132a3d9e1e615534cb715\" href=\"/sponsors/koxudaxi\">\n",
       "<svg aria-hidden=\"true\" class=\"octicon octicon-heart icon-sponsor mr-1 text-pink v-align-middle\" height=\"16\" version=\"1.1\" viewbox=\"0 0 16 16\" width=\"16\"><path d=\"M4.25 2.5c-1.336 0-2.75 1.164-2.75 3 0 2.15 1.58 4.144 3.365 5.682A20.565 20.565 0 008 13.393a20.561 20.561 0 003.135-2.211C12.92 9.644 14.5 7.65 14.5 5.5c0-1.836-1.414-3-2.75-3-1.373 0-2.609.986-3.029 2.456a.75.75 0 01-1.442 0C6.859 3.486 5.623 2.5 4.25 2.5zM8 14.25l-.345.666-.002-.001-.006-.003-.018-.01a7.643 7.643 0 01-.31-.17 22.075 22.075 0 01-3.434-2.414C2.045 10.731 0 8.35 0 5.5 0 2.836 2.086 1 4.25 1 5.797 1 7.153 1.802 8 3.02 8.847 1.802 10.203 1 11.75 1 13.914 1 16 2.836 16 5.5c0 2.85-2.045 5.231-3.885 6.818a22.08 22.08 0 01-3.744 2.584l-.018.01-.006.003h-.002L8 14.25zm0 0l.345.666a.752.752 0 01-.69 0L8 14.25z\" fill-rule=\"evenodd\"></path></svg>\n",
       "<span class=\"v-align-middle\">Sponsor</span>\n",
       "</a>\n",
       "</div>\n",
       "<div class=\"user-profile-following-container\">\n",
       "<div class=\"user-following-container\">\n",
       "<span class=\"user-following-container\">\n",
       "<span class=\"follow d-block\">\n",
       "<a class=\"btn btn-sm btn-block\" data-hydro-click='{\"event_type\":\"authentication.click\",\"payload\":{\"location_in_page\":\"follow button\",\"repository_id\":null,\"auth_type\":\"LOG_IN\",\"originating_url\":\"https://github.com/trending/developers\",\"user_id\":null}}' data-hydro-click-hmac=\"758ca9b951a863373b9dca2759329881977e0c89c5a5b03c5cc5efdefcb67f4a\" href=\"/login?return_to=%2Ftrending%2Fdevelopers\">Follow</a>\n",
       "</span>\n",
       "</span>\n",
       "</div>\n",
       "</div>\n",
       "</div>\n",
       "</div>\n",
       "</article>\n",
       "<article class=\"Box-row d-flex\" id=\"pa-alexmojaki\">\n",
       "<a class=\"color-text-secondary f6 text-center\" href=\"#pa-alexmojaki\" style=\"width: 16px;\">\n",
       "    24\n",
       "</a>\n",
       "<div class=\"mx-3\">\n",
       "<a data-hydro-click='{\"event_type\":\"explore.click\",\"payload\":{\"click_context\":\"TRENDING_DEVELOPERS_PAGE\",\"click_target\":\"OWNER\",\"click_visual_representation\":\"TRENDING_DEVELOPER\",\"actor_id\":null,\"record_id\":3627481,\"originating_url\":\"https://github.com/trending/developers\",\"user_id\":null}}' data-hydro-click-hmac=\"14766eaf4bed406bf4061ecc0b8c383e632d5ebbfc7ffe1810418a049e666e84\" href=\"/alexmojaki\">\n",
       "<img alt=\"@alexmojaki\" class=\"rounded avatar-user\" height=\"48\" src=\"https://avatars.githubusercontent.com/u/3627481?s=96&amp;v=4\" width=\"48\"/>\n",
       "</a> </div>\n",
       "<div class=\"d-sm-flex flex-auto\">\n",
       "<div class=\"col-sm-8 d-md-flex\">\n",
       "<div class=\"col-md-6\">\n",
       "<h1 class=\"h3 lh-condensed\">\n",
       "<a data-hydro-click='{\"event_type\":\"explore.click\",\"payload\":{\"click_context\":\"TRENDING_DEVELOPERS_PAGE\",\"click_target\":\"OWNER\",\"click_visual_representation\":\"TRENDING_DEVELOPER\",\"actor_id\":null,\"record_id\":3627481,\"originating_url\":\"https://github.com/trending/developers\",\"user_id\":null}}' data-hydro-click-hmac=\"14766eaf4bed406bf4061ecc0b8c383e632d5ebbfc7ffe1810418a049e666e84\" href=\"/alexmojaki\">\n",
       "            Alex Hall\n",
       "</a> </h1>\n",
       "<p class=\"f4 text-normal mb-1\">\n",
       "<a class=\"Link--secondary\" data-hydro-click='{\"event_type\":\"explore.click\",\"payload\":{\"click_context\":\"TRENDING_DEVELOPERS_PAGE\",\"click_target\":\"OWNER\",\"click_visual_representation\":\"TRENDING_DEVELOPER\",\"actor_id\":null,\"record_id\":3627481,\"originating_url\":\"https://github.com/trending/developers\",\"user_id\":null}}' data-hydro-click-hmac=\"14766eaf4bed406bf4061ecc0b8c383e632d5ebbfc7ffe1810418a049e666e84\" href=\"/alexmojaki\">\n",
       "              alexmojaki\n",
       "</a> </p>\n",
       "</div>\n",
       "<div class=\"col-md-6\">\n",
       "<div class=\"mt-2 mb-3 my-md-0\">\n",
       "<article>\n",
       "<div class=\"f6 color-text-secondary text-uppercase mb-1\"><svg aria-hidden=\"true\" class=\"octicon octicon-flame text-orange-light mr-1\" height=\"16\" version=\"1.1\" viewbox=\"0 0 16 16\" width=\"16\"><path d=\"M7.998 14.5c2.832 0 5-1.98 5-4.5 0-1.463-.68-2.19-1.879-3.383l-.036-.037c-1.013-1.008-2.3-2.29-2.834-4.434-.322.256-.63.579-.864.953-.432.696-.621 1.58-.046 2.73.473.947.67 2.284-.278 3.232-.61.61-1.545.84-2.403.633a2.788 2.788 0 01-1.436-.874A3.21 3.21 0 003 10c0 2.53 2.164 4.5 4.998 4.5zM9.533.753C9.496.34 9.16.009 8.77.146 7.035.75 4.34 3.187 5.997 6.5c.344.689.285 1.218.003 1.5-.419.419-1.54.487-2.04-.832-.173-.454-.659-.762-1.035-.454C2.036 7.44 1.5 8.702 1.5 10c0 3.512 2.998 6 6.498 6s6.5-2.5 6.5-6c0-2.137-1.128-3.26-2.312-4.438-1.19-1.184-2.436-2.425-2.653-4.81z\" fill-rule=\"evenodd\"></path></svg>Popular repo</div>\n",
       "<h1 class=\"h4 lh-condensed\">\n",
       "<a class=\"css-truncate css-truncate-target\" data-ga-click=\"Explore, go to repository, location:trending developers\" data-hydro-click='{\"event_type\":\"explore.click\",\"payload\":{\"click_context\":\"TRENDING_DEVELOPERS_PAGE\",\"click_target\":\"REPOSITORY\",\"click_visual_representation\":\"REPOSITORY_NAME_HEADING\",\"actor_id\":null,\"record_id\":186476740,\"originating_url\":\"https://github.com/trending/developers\",\"user_id\":null}}' data-hydro-click-hmac=\"a56b76612657c04f7b748b8ebfdb007c59c40da988dae00f813c0355a45ee3c1\" href=\"/alexmojaki/snoop\" style=\"max-width: 175px;\">\n",
       "<svg aria-hidden=\"true\" class=\"octicon octicon-repo color-text-secondary mr-1\" height=\"16\" version=\"1.1\" viewbox=\"0 0 16 16\" width=\"16\"><path d=\"M2 2.5A2.5 2.5 0 014.5 0h8.75a.75.75 0 01.75.75v12.5a.75.75 0 01-.75.75h-2.5a.75.75 0 110-1.5h1.75v-2h-8a1 1 0 00-.714 1.7.75.75 0 01-1.072 1.05A2.495 2.495 0 012 11.5v-9zm10.5-1V9h-8c-.356 0-.694.074-1 .208V2.5a1 1 0 011-1h8zM5 12.25v3.25a.25.25 0 00.4.2l1.45-1.087a.25.25 0 01.3 0L8.6 15.7a.25.25 0 00.4-.2v-3.25a.25.25 0 00-.25-.25h-3.5a.25.25 0 00-.25.25z\" fill-rule=\"evenodd\"></path></svg>\n",
       "      snoop\n",
       "</a> </h1>\n",
       "<div class=\"f6 color-text-secondary mt-1\">\n",
       "      A powerful set of Python debugging tools, based on PySnooper\n",
       "    </div>\n",
       "</article>\n",
       "</div>\n",
       "</div>\n",
       "</div>\n",
       "<div class=\"col-sm-4 d-flex flex-sm-justify-end ml-sm-3\">\n",
       "<div class=\"user-profile-following-container\">\n",
       "<div class=\"user-following-container\">\n",
       "<span class=\"user-following-container\">\n",
       "<span class=\"follow d-block\">\n",
       "<a class=\"btn btn-sm btn-block\" data-hydro-click='{\"event_type\":\"authentication.click\",\"payload\":{\"location_in_page\":\"follow button\",\"repository_id\":null,\"auth_type\":\"LOG_IN\",\"originating_url\":\"https://github.com/trending/developers\",\"user_id\":null}}' data-hydro-click-hmac=\"758ca9b951a863373b9dca2759329881977e0c89c5a5b03c5cc5efdefcb67f4a\" href=\"/login?return_to=%2Ftrending%2Fdevelopers\">Follow</a>\n",
       "</span>\n",
       "</span>\n",
       "</div>\n",
       "</div>\n",
       "</div>\n",
       "</div>\n",
       "</article>\n",
       "<article class=\"Box-row d-flex\" id=\"pa-omry\">\n",
       "<a class=\"color-text-secondary f6 text-center\" href=\"#pa-omry\" style=\"width: 16px;\">\n",
       "    25\n",
       "</a>\n",
       "<div class=\"mx-3\">\n",
       "<a data-hydro-click='{\"event_type\":\"explore.click\",\"payload\":{\"click_context\":\"TRENDING_DEVELOPERS_PAGE\",\"click_target\":\"OWNER\",\"click_visual_representation\":\"TRENDING_DEVELOPER\",\"actor_id\":null,\"record_id\":376455,\"originating_url\":\"https://github.com/trending/developers\",\"user_id\":null}}' data-hydro-click-hmac=\"9f93f796674dd055740ce78774deba622805d93980f9ada2a05c290d645d980e\" href=\"/omry\">\n",
       "<img alt=\"@omry\" class=\"rounded avatar-user\" height=\"48\" src=\"https://avatars.githubusercontent.com/u/376455?s=96&amp;v=4\" width=\"48\"/>\n",
       "</a> </div>\n",
       "<div class=\"d-sm-flex flex-auto\">\n",
       "<div class=\"col-sm-8 d-md-flex\">\n",
       "<div class=\"col-md-6\">\n",
       "<h1 class=\"h3 lh-condensed\">\n",
       "<a data-hydro-click='{\"event_type\":\"explore.click\",\"payload\":{\"click_context\":\"TRENDING_DEVELOPERS_PAGE\",\"click_target\":\"OWNER\",\"click_visual_representation\":\"TRENDING_DEVELOPER\",\"actor_id\":null,\"record_id\":376455,\"originating_url\":\"https://github.com/trending/developers\",\"user_id\":null}}' data-hydro-click-hmac=\"9f93f796674dd055740ce78774deba622805d93980f9ada2a05c290d645d980e\" href=\"/omry\">\n",
       "            Omry Yadan\n",
       "</a> </h1>\n",
       "<p class=\"f4 text-normal mb-1\">\n",
       "<a class=\"Link--secondary\" data-hydro-click='{\"event_type\":\"explore.click\",\"payload\":{\"click_context\":\"TRENDING_DEVELOPERS_PAGE\",\"click_target\":\"OWNER\",\"click_visual_representation\":\"TRENDING_DEVELOPER\",\"actor_id\":null,\"record_id\":376455,\"originating_url\":\"https://github.com/trending/developers\",\"user_id\":null}}' data-hydro-click-hmac=\"9f93f796674dd055740ce78774deba622805d93980f9ada2a05c290d645d980e\" href=\"/omry\">\n",
       "              omry\n",
       "</a> </p>\n",
       "</div>\n",
       "<div class=\"col-md-6\">\n",
       "<div class=\"mt-2 mb-3 my-md-0\">\n",
       "<article>\n",
       "<div class=\"f6 color-text-secondary text-uppercase mb-1\"><svg aria-hidden=\"true\" class=\"octicon octicon-flame text-orange-light mr-1\" height=\"16\" version=\"1.1\" viewbox=\"0 0 16 16\" width=\"16\"><path d=\"M7.998 14.5c2.832 0 5-1.98 5-4.5 0-1.463-.68-2.19-1.879-3.383l-.036-.037c-1.013-1.008-2.3-2.29-2.834-4.434-.322.256-.63.579-.864.953-.432.696-.621 1.58-.046 2.73.473.947.67 2.284-.278 3.232-.61.61-1.545.84-2.403.633a2.788 2.788 0 01-1.436-.874A3.21 3.21 0 003 10c0 2.53 2.164 4.5 4.998 4.5zM9.533.753C9.496.34 9.16.009 8.77.146 7.035.75 4.34 3.187 5.997 6.5c.344.689.285 1.218.003 1.5-.419.419-1.54.487-2.04-.832-.173-.454-.659-.762-1.035-.454C2.036 7.44 1.5 8.702 1.5 10c0 3.512 2.998 6 6.498 6s6.5-2.5 6.5-6c0-2.137-1.128-3.26-2.312-4.438-1.19-1.184-2.436-2.425-2.653-4.81z\" fill-rule=\"evenodd\"></path></svg>Popular repo</div>\n",
       "<h1 class=\"h4 lh-condensed\">\n",
       "<a class=\"css-truncate css-truncate-target\" data-ga-click=\"Explore, go to repository, location:trending developers\" data-hydro-click='{\"event_type\":\"explore.click\",\"payload\":{\"click_context\":\"TRENDING_DEVELOPERS_PAGE\",\"click_target\":\"REPOSITORY\",\"click_visual_representation\":\"REPOSITORY_NAME_HEADING\",\"actor_id\":null,\"record_id\":147219819,\"originating_url\":\"https://github.com/trending/developers\",\"user_id\":null}}' data-hydro-click-hmac=\"bda58e6b5853547c4f49043b47bb00058ebbf93b5d8a28124358570a0d4efd80\" href=\"/omry/omegaconf\" style=\"max-width: 175px;\">\n",
       "<svg aria-hidden=\"true\" class=\"octicon octicon-repo color-text-secondary mr-1\" height=\"16\" version=\"1.1\" viewbox=\"0 0 16 16\" width=\"16\"><path d=\"M2 2.5A2.5 2.5 0 014.5 0h8.75a.75.75 0 01.75.75v12.5a.75.75 0 01-.75.75h-2.5a.75.75 0 110-1.5h1.75v-2h-8a1 1 0 00-.714 1.7.75.75 0 01-1.072 1.05A2.495 2.495 0 012 11.5v-9zm10.5-1V9h-8c-.356 0-.694.074-1 .208V2.5a1 1 0 011-1h8zM5 12.25v3.25a.25.25 0 00.4.2l1.45-1.087a.25.25 0 01.3 0L8.6 15.7a.25.25 0 00.4-.2v-3.25a.25.25 0 00-.25-.25h-3.5a.25.25 0 00-.25.25z\" fill-rule=\"evenodd\"></path></svg>\n",
       "      omegaconf\n",
       "</a> </h1>\n",
       "<div class=\"f6 color-text-secondary mt-1\">\n",
       "      Flexible Python configuration system. The last one you will ever need.\n",
       "    </div>\n",
       "</article>\n",
       "</div>\n",
       "</div>\n",
       "</div>\n",
       "<div class=\"col-sm-4 d-flex flex-sm-justify-end ml-sm-3\">\n",
       "<div class=\"user-profile-following-container\">\n",
       "<div class=\"user-following-container\">\n",
       "<span class=\"user-following-container\">\n",
       "<span class=\"follow d-block\">\n",
       "<a class=\"btn btn-sm btn-block\" data-hydro-click='{\"event_type\":\"authentication.click\",\"payload\":{\"location_in_page\":\"follow button\",\"repository_id\":null,\"auth_type\":\"LOG_IN\",\"originating_url\":\"https://github.com/trending/developers\",\"user_id\":null}}' data-hydro-click-hmac=\"758ca9b951a863373b9dca2759329881977e0c89c5a5b03c5cc5efdefcb67f4a\" href=\"/login?return_to=%2Ftrending%2Fdevelopers\">Follow</a>\n",
       "</span>\n",
       "</span>\n",
       "</div>\n",
       "</div>\n",
       "</div>\n",
       "</div>\n",
       "</article>\n",
       "</div>\n",
       "</div>\n",
       "</div>\n",
       "</main>\n",
       "</div>\n",
       "<div class=\"footer container-lg width-full p-responsive\" role=\"contentinfo\">\n",
       "<div class=\"position-relative d-flex flex-row-reverse flex-lg-row flex-wrap flex-lg-nowrap flex-justify-center flex-lg-justify-between pt-6 pb-2 mt-6 f6 color-text-secondary border-top color-border-secondary\">\n",
       "<ul class=\"list-style-none d-flex flex-wrap col-12 col-lg-5 flex-justify-center flex-lg-justify-between mb-2 mb-lg-0\">\n",
       "<li class=\"mr-3 mr-lg-0\">© 2021 GitHub, Inc.</li>\n",
       "<li class=\"mr-3 mr-lg-0\"><a data-ga-click=\"Footer, go to terms, text:terms\" href=\"https://docs.github.com/en/github/site-policy/github-terms-of-service\">Terms</a></li>\n",
       "<li class=\"mr-3 mr-lg-0\"><a data-ga-click=\"Footer, go to privacy, text:privacy\" href=\"https://docs.github.com/en/github/site-policy/github-privacy-statement\">Privacy</a></li>\n",
       "<li class=\"mr-3 mr-lg-0\"><a data-ga-click=\"Footer, go to security, text:security\" href=\"https://github.com/security\">Security</a></li>\n",
       "<li class=\"mr-3 mr-lg-0\"><a data-ga-click=\"Footer, go to status, text:status\" href=\"https://www.githubstatus.com/\">Status</a></li>\n",
       "<li><a data-ga-click=\"Footer, go to help, text:Docs\" href=\"https://docs.github.com\">Docs</a></li>\n",
       "</ul>\n",
       "<a aria-label=\"Homepage\" class=\"footer-octicon d-none d-lg-block mx-lg-4\" href=\"https://github.com\" title=\"GitHub\">\n",
       "<svg aria-hidden=\"true\" class=\"octicon octicon-mark-github\" height=\"24\" version=\"1.1\" viewbox=\"0 0 16 16\" width=\"24\"><path d=\"M8 0C3.58 0 0 3.58 0 8c0 3.54 2.29 6.53 5.47 7.59.4.07.55-.17.55-.38 0-.19-.01-.82-.01-1.49-2.01.37-2.53-.49-2.69-.94-.09-.23-.48-.94-.82-1.13-.28-.15-.68-.52-.01-.53.63-.01 1.08.58 1.23.82.72 1.21 1.87.87 2.33.66.07-.52.28-.87.51-1.07-1.78-.2-3.64-.89-3.64-3.95 0-.87.31-1.59.82-2.15-.08-.2-.36-1.02.08-2.12 0 0 .67-.21 2.2.82.64-.18 1.32-.27 2-.27.68 0 1.36.09 2 .27 1.53-1.04 2.2-.82 2.2-.82.44 1.1.16 1.92.08 2.12.51.56.82 1.27.82 2.15 0 3.07-1.87 3.75-3.65 3.95.29.25.54.73.54 1.48 0 1.07-.01 1.93-.01 2.2 0 .21.15.46.55.38A8.013 8.013 0 0016 8c0-4.42-3.58-8-8-8z\" fill-rule=\"evenodd\"></path></svg>\n",
       "</a>\n",
       "<ul class=\"list-style-none d-flex flex-wrap col-12 col-lg-5 flex-justify-center flex-lg-justify-between mb-2 mb-lg-0\">\n",
       "<li class=\"mr-3 mr-lg-0\"><a data-ga-click=\"Footer, go to contact, text:contact\" href=\"https://support.github.com\">Contact GitHub</a></li>\n",
       "<li class=\"mr-3 mr-lg-0\"><a data-ga-click=\"Footer, go to Pricing, text:Pricing\" href=\"https://github.com/pricing\">Pricing</a></li>\n",
       "<li class=\"mr-3 mr-lg-0\"><a data-ga-click=\"Footer, go to api, text:api\" href=\"https://docs.github.com\">API</a></li>\n",
       "<li class=\"mr-3 mr-lg-0\"><a data-ga-click=\"Footer, go to training, text:training\" href=\"https://services.github.com\">Training</a></li>\n",
       "<li class=\"mr-3 mr-lg-0\"><a data-ga-click=\"Footer, go to blog, text:blog\" href=\"https://github.blog\">Blog</a></li>\n",
       "<li><a data-ga-click=\"Footer, go to about, text:about\" href=\"https://github.com/about\">About</a></li>\n",
       "</ul>\n",
       "</div>\n",
       "<div class=\"d-flex flex-justify-center pb-6\">\n",
       "<span class=\"f6 color-text-tertiary\"></span>\n",
       "</div>\n",
       "</div>\n",
       "<div class=\"ajax-error-message flash flash-error\" hidden=\"\" id=\"ajax-error-message\">\n",
       "<svg aria-hidden=\"true\" class=\"octicon octicon-alert\" height=\"16\" version=\"1.1\" viewbox=\"0 0 16 16\" width=\"16\"><path d=\"M8.22 1.754a.25.25 0 00-.44 0L1.698 13.132a.25.25 0 00.22.368h12.164a.25.25 0 00.22-.368L8.22 1.754zm-1.763-.707c.659-1.234 2.427-1.234 3.086 0l6.082 11.378A1.75 1.75 0 0114.082 15H1.918a1.75 1.75 0 01-1.543-2.575L6.457 1.047zM9 11a1 1 0 11-2 0 1 1 0 012 0zm-.25-5.25a.75.75 0 00-1.5 0v2.5a.75.75 0 001.5 0v-2.5z\" fill-rule=\"evenodd\"></path></svg>\n",
       "<button aria-label=\"Dismiss error\" class=\"flash-close js-ajax-error-dismiss\" type=\"button\">\n",
       "<svg aria-hidden=\"true\" class=\"octicon octicon-x\" height=\"16\" version=\"1.1\" viewbox=\"0 0 16 16\" width=\"16\"><path d=\"M3.72 3.72a.75.75 0 011.06 0L8 6.94l3.22-3.22a.75.75 0 111.06 1.06L9.06 8l3.22 3.22a.75.75 0 11-1.06 1.06L8 9.06l-3.22 3.22a.75.75 0 01-1.06-1.06L6.94 8 3.72 4.78a.75.75 0 010-1.06z\" fill-rule=\"evenodd\"></path></svg>\n",
       "</button>\n",
       "    You can’t perform that action at this time.\n",
       "  </div>\n",
       "<div class=\"js-stale-session-flash flash flash-warn flash-banner\" hidden=\"\">\n",
       "<svg aria-hidden=\"true\" class=\"octicon octicon-alert\" height=\"16\" version=\"1.1\" viewbox=\"0 0 16 16\" width=\"16\"><path d=\"M8.22 1.754a.25.25 0 00-.44 0L1.698 13.132a.25.25 0 00.22.368h12.164a.25.25 0 00.22-.368L8.22 1.754zm-1.763-.707c.659-1.234 2.427-1.234 3.086 0l6.082 11.378A1.75 1.75 0 0114.082 15H1.918a1.75 1.75 0 01-1.543-2.575L6.457 1.047zM9 11a1 1 0 11-2 0 1 1 0 012 0zm-.25-5.25a.75.75 0 00-1.5 0v2.5a.75.75 0 001.5 0v-2.5z\" fill-rule=\"evenodd\"></path></svg>\n",
       "<span class=\"js-stale-session-flash-signed-in\" hidden=\"\">You signed in with another tab or window. <a href=\"\">Reload</a> to refresh your session.</span>\n",
       "<span class=\"js-stale-session-flash-signed-out\" hidden=\"\">You signed out in another tab or window. <a href=\"\">Reload</a> to refresh your session.</span>\n",
       "</div>\n",
       "<template id=\"site-details-dialog\">\n",
       "<details class=\"details-reset details-overlay details-overlay-dark lh-default color-text-primary hx_rsm\" open=\"\">\n",
       "<summary aria-label=\"Close dialog\" role=\"button\"></summary>\n",
       "<details-dialog class=\"Box Box--overlay d-flex flex-column anim-fade-in fast hx_rsm-dialog hx_rsm-modal\">\n",
       "<button aria-label=\"Close dialog\" class=\"Box-btn-octicon m-0 btn-octicon position-absolute right-0 top-0\" data-close-dialog=\"\" type=\"button\">\n",
       "<svg aria-hidden=\"true\" class=\"octicon octicon-x\" height=\"16\" version=\"1.1\" viewbox=\"0 0 16 16\" width=\"16\"><path d=\"M3.72 3.72a.75.75 0 011.06 0L8 6.94l3.22-3.22a.75.75 0 111.06 1.06L9.06 8l3.22 3.22a.75.75 0 11-1.06 1.06L8 9.06l-3.22 3.22a.75.75 0 01-1.06-1.06L6.94 8 3.72 4.78a.75.75 0 010-1.06z\" fill-rule=\"evenodd\"></path></svg>\n",
       "</button>\n",
       "<div class=\"octocat-spinner my-6 js-details-dialog-spinner\"></div>\n",
       "</details-dialog>\n",
       "</details>\n",
       "</template>\n",
       "<div class=\"Popover js-hovercard-content position-absolute\" style=\"display: none; outline: none;\" tabindex=\"0\">\n",
       "<div class=\"Popover-message Popover-message--bottom-left Popover-message--large Box color-shadow-large\" style=\"width:360px;\">\n",
       "</div>\n",
       "</div>\n",
       "</body>\n",
       "</html>"
      ]
     },
     "metadata": {},
     "execution_count": 5
    }
   ],
   "source": [
    "#your code\n",
    "\n",
    "html = requests.get(url).content\n",
    "soup = BeautifulSoup(html, \"lxml\")\n",
    "soup\n"
   ]
  },
  {
   "cell_type": "markdown",
   "metadata": {},
   "source": [
    "#### Display the names of the trending developers retrieved in the previous step.\n",
    "\n",
    "Your output should be a Python list of developer names. Each name should not contain any html tag.\n",
    "\n",
    "**Instructions:**\n",
    "\n",
    "1. Find out the html tag and class names used for the developer names. You can achieve this using Chrome DevTools.\n",
    "\n",
    "1. Use BeautifulSoup to extract all the html elements that contain the developer names.\n",
    "\n",
    "1. Use string manipulation techniques to replace whitespaces and linebreaks (i.e. `\\n`) in the *text* of each html element. Use a list to store the clean names.\n",
    "\n",
    "1. Print the list of names.\n",
    "\n",
    "Your output should look like below:\n",
    "\n",
    "```\n",
    "['trimstray (@trimstray)',\n",
    " 'joewalnes (JoeWalnes)',\n",
    " 'charlax (Charles-AxelDein)',\n",
    " 'ForrestKnight (ForrestKnight)',\n",
    " 'revery-ui (revery-ui)',\n",
    " 'alibaba (Alibaba)',\n",
    " 'Microsoft (Microsoft)',\n",
    " 'github (GitHub)',\n",
    " 'facebook (Facebook)',\n",
    " 'boazsegev (Bo)',\n",
    " 'google (Google)',\n",
    " 'cloudfetch',\n",
    " 'sindresorhus (SindreSorhus)',\n",
    " 'tensorflow',\n",
    " 'apache (TheApacheSoftwareFoundation)',\n",
    " 'DevonCrawford (DevonCrawford)',\n",
    " 'ARMmbed (ArmMbed)',\n",
    " 'vuejs (vuejs)',\n",
    " 'fastai (fast.ai)',\n",
    " 'QiShaoXuan (Qi)',\n",
    " 'joelparkerhenderson (JoelParkerHenderson)',\n",
    " 'torvalds (LinusTorvalds)',\n",
    " 'CyC2018',\n",
    " 'komeiji-satori (神楽坂覚々)',\n",
    " 'script-8']\n",
    " ```"
   ]
  },
  {
   "cell_type": "code",
   "execution_count": 22,
   "metadata": {
    "tags": []
   },
   "outputs": [
    {
     "output_type": "stream",
     "name": "stdout",
     "text": [
      "['KevinOConnor (klipper)', 'Franck Nijhof (awesome-home-assistant)', 'Francois Zaninotto (Faker)', 'Michiel Borkent (jet)', 'Sebastián Ramírez (fastapi)', 'Magnus Edenhill (librdkafka)', 'Thibault Duplessis (lila)', 'Indrajeet Patil (ggstatsplot)', 'Mislav Marohnić (will_paginate)', 'Héctor Ramón (iced)', 'Tom Payne (chezmoi)', 'Mike McQuaid (strap)', 'Hadley Wickham (r4ds)', 'Sam Stephenson (bats)', 'Nate Smith (vilmibm)', 'Oskar Dudycz (ArchitectureWeekly)', 'William Chargin (lc3)', 'Satyajit Sahoo (react-native-tab-view)', 'Anthony Fu (vitesse)', 'Liam DeBeasi (none)', 'David Tolnay (cxx)', 'Yoni Goldberg (nodebestpractices)', 'Koudai Aono (datamodel-code-generator)', 'Alex Hall (snoop)', 'Omry Yadan (omegaconf)']\n"
     ]
    }
   ],
   "source": [
    "#your code\n",
    "\n",
    "rawnames = soup.find_all('h1', class_='h3 lh-condensed')\n",
    "rawrepos = soup.find_all('h1', class_='h4 lh-condensed')\n",
    "\n",
    "names = [name.select('a')[0].text.strip() for name in rawnames]\n",
    "repos = [repo.select('a')[0].text.strip() for repo in rawrepos]\n",
    "repos = repos[:19] + ['none'] + repos[19:]\n",
    "\n",
    "joined = [names[i] + ' ' + '(' + repos[i] + ')' for i in range(len(names)) ]\n",
    "\n",
    "print(joined)\n"
   ]
  },
  {
   "cell_type": "markdown",
   "metadata": {},
   "source": [
    "#### Display the trending Python repositories in GitHub\n",
    "\n",
    "The steps to solve this problem is similar to the previous one except that you need to find out the repository names instead of developer names."
   ]
  },
  {
   "cell_type": "code",
   "execution_count": 23,
   "metadata": {},
   "outputs": [
    {
     "output_type": "execute_result",
     "data": {
      "text/plain": [
       "nodd\"></path></svg>\n",
       "        2,748\n",
       "</a>\n",
       "<a class=\"Link--muted d-inline-block mr-3\" href=\"/fishtown-analytics/dbt/network/members.dbt\">\n",
       "<svg aria-hidden=\"true\" aria-label=\"fork\" class=\"octicon octicon-repo-forked\" height=\"16\" version=\"1.1\" viewbox=\"0 0 16 16\" width=\"16\"><path d=\"M5 3.25a.75.75 0 11-1.5 0 .75.75 0 011.5 0zm0 2.122a2.25 2.25 0 10-1.5 0v.878A2.25 2.25 0 005.75 8.5h1.5v2.128a2.251 2.251 0 101.5 0V8.5h1.5a2.25 2.25 0 002.25-2.25v-.878a2.25 2.25 0 10-1.5 0v.878a.75.75 0 01-.75.75h-4.5A.75.75 0 015 6.25v-.878zm3.75 7.378a.75.75 0 11-1.5 0 .75.75 0 011.5 0zm3-8.75a.75.75 0 100-1.5.75.75 0 000 1.5z\" fill-rule=\"evenodd\"></path></svg>\n",
       "        546\n",
       "</a>\n",
       "<span class=\"d-inline-block mr-3\">\n",
       "        Built by\n",
       "\n",
       "          <a class=\"d-inline-block\" data-hovercard-type=\"user\" data-hovercard-url=\"/users/drewbanin/hovercard\" data-hydro-click='{\"event_type\":\"explore.click\",\"payload\":{\"click_context\":\"TRENDING_REPOSITORIES_PAGE\",\"click_target\":\"CONTRIBUTING_DEVELOPER\",\"click_visual_representation\":\"DEVELOPER_AVATAR\",\"actor_id\":null,\"record_id\":null,\"originating_url\":\"https://github.com/trending/python?since=daily&amp;_pjax=%23js-pjax-container\",\"user_id\":6094455}}' data-hydro-click-hmac=\"3f786f9d0a879df15e58a4caa1d8ab5c66065928dd2cd59c69e1fd7d9703a988\" data-octo-click=\"hovercard-link-click\" data-octo-dimensions=\"link_type:self\" href=\"/drewbanin\"><img alt=\"@drewbanin\" class=\"avatar mb-1 avatar-user\" height=\"20\" src=\"https://avatars.githubusercontent.com/u/1541139?s=40&amp;v=4\" width=\"20\"/></a>\n",
       "<a class=\"d-inline-block\" data-hovercard-type=\"user\" data-hovercard-url=\"/users/beckjake/hovercard\" data-hydro-click='{\"event_type\":\"explore.click\",\"payload\":{\"click_context\":\"TRENDING_REPOSITORIES_PAGE\",\"click_target\":\"CONTRIBUTING_DEVELOPER\",\"click_visual_representation\":\"DEVELOPER_AVATAR\",\"actor_id\":null,\"record_id\":null,\"originating_url\":\"https://github.com/trending/python?since=daily&amp;_pjax=%23js-pjax-container\",\"user_id\":6094455}}' data-hydro-click-hmac=\"3f786f9d0a879df15e58a4caa1d8ab5c66065928dd2cd59c69e1fd7d9703a988\" data-octo-click=\"hovercard-link-click\" data-octo-dimensions=\"link_type:self\" href=\"/beckjake\"><img alt=\"@beckjake\" class=\"avatar mb-1 avatar-user\" height=\"20\" src=\"https://avatars.githubusercontent.com/u/452302?s=40&amp;v=4\" width=\"20\"/></a>\n",
       "<a class=\"d-inline-block\" data-hovercard-type=\"user\" data-hovercard-url=\"/users/cmcarthur/hovercard\" data-hydro-click='{\"event_type\":\"explore.click\",\"payload\":{\"click_context\":\"TRENDING_REPOSITORIES_PAGE\",\"click_target\":\"CONTRIBUTING_DEVELOPER\",\"click_visual_representation\":\"DEVELOPER_AVATAR\",\"actor_id\":null,\"record_id\":null,\"originating_url\":\"https://github.com/trending/python?since=daily&amp;_pjax=%23js-pjax-container\",\"user_id\":6094455}}' data-hydro-click-hmac=\"3f786f9d0a879df15e58a4caa1d8ab5c66065928dd2cd59c69e1fd7d9703a988\" data-octo-click=\"hovercard-link-click\" data-octo-dimensions=\"link_type:self\" href=\"/cmcarthur\"><img alt=\"@cmcarthur\" class=\"avatar mb-1 avatar-user\" height=\"20\" src=\"https://avatars.githubusercontent.com/u/846979?s=40&amp;v=4\" width=\"20\"/></a>\n",
       "<a class=\"d-inline-block\" data-hovercard-type=\"user\" data-hovercard-url=\"/users/jtcohen6/hovercard\" data-hydro-click='{\"event_type\":\"explore.click\",\"payload\":{\"click_context\":\"TRENDING_REPOSITORIES_PAGE\",\"click_target\":\"CONTRIBUTING_DEVELOPER\",\"click_visual_representation\":\"DEVELOPER_AVATAR\",\"actor_id\":null,\"record_id\":null,\"originating_url\":\"https://github.com/trending/python?since=daily&amp;_pjax=%23js-pjax-container\",\"user_id\":6094455}}' data-hydro-click-hmac=\"3f786f9d0a879df15e58a4caa1d8ab5c66065928dd2cd59c69e1fd7d9703a988\" data-octo-click=\"hovercard-link-click\" data-octo-dimensions=\"link_type:self\" href=\"/jtcohen6\"><img alt=\"@jtcohen6\" class=\"avatar mb-1 avatar-user\" height=\"20\" src=\"https://avatars.githubusercontent.com/u/13897643?s=40&amp;v=4\" width=\"20\"/></a>\n",
       "<a class=\"d-inline-block\" data-hovercard-type=\"user\" data-hovercard-url=\"/users/kconvey/hovercard\" data-hydro-click='{\"event_type\":\"explore.click\",\"payload\":{\"click_context\":\"TRENDING_REPOSITORIES_PAGE\",\"click_target\":\"CONTRIBUTING_DEVELOPER\",\"click_visual_representation\":\"DEVELOPER_AVATAR\",\"actor_id\":null,\"record_id\":null,\"originating_url\":\"https://github.com/trending/python?since=daily&amp;_pjax=%23js-pjax-container\",\"user_id\":6094455}}' data-hydro-click-hmac=\"3f786f9d0a879df15e58a4caa1d8ab5c66065928dd2cd59c69e1fd7d9703a988\" data-octo-click=\"hovercard-link-click\" data-octo-dimensions=\"link_type:self\" href=\"/kconvey\"><img alt=\"@kconvey\" class=\"avatar mb-1 avatar-user\" height=\"20\" src=\"https://avatars.githubusercontent.com/u/36738417?s=40&amp;v=4\" width=\"20\"/></a>\n",
       "</span>\n",
       "<span class=\"d-inline-block float-sm-right\">\n",
       "<svg aria-hidden=\"true\" class=\"octicon octicon-star\" height=\"16\" version=\"1.1\" viewbox=\"0 0 16 16\" width=\"16\"><path d=\"M8 .25a.75.75 0 01.673.418l1.882 3.815 4.21.612a.75.75 0 01.416 1.279l-3.046 2.97.719 4.192a.75.75 0 01-1.088.791L8 12.347l-3.766 1.98a.75.75 0 01-1.088-.79l.72-4.194L.818 6.374a.75.75 0 01.416-1.28l4.21-.611L7.327.668A.75.75 0 018 .25zm0 2.445L6.615 5.5a.75.75 0 01-.564.41l-3.097.45 2.24 2.184a.75.75 0 01.216.664l-.528 3.084 2.769-1.456a.75.75 0 01.698 0l2.77 1.456-.53-3.084a.75.75 0 01.216-.664l2.24-2.183-3.096-.45a.75.75 0 01-.564-.41L8 2.694v.001z\" fill-rule=\"evenodd\"></path></svg>\n",
       "        6 stars today\n",
       "</span> </div>\n",
       "</article>\n",
       "<article class=\"Box-row\">\n",
       "<div class=\"float-right d-flex\">\n",
       "<a aria-label=\"You must be signed in to star a repository\" class=\"btn btn-sm tooltipped tooltipped-s\" data-hydro-click='{\"event_type\":\"authentication.click\",\"payload\":{\"location_in_page\":\"star button\",\"repository_id\":51117837,\"auth_type\":\"LOG_IN\",\"originating_url\":\"https://github.com/trending/python?since=daily\",\"user_id\":null}}' data-hydro-click-hmac=\"53f3c91688db3c62606d7b9d01af37359d2c27645eca8dacc67cde524e2ac5e9\" href=\"/login?return_to=%2Ftensorflow%2Fmodels\" rel=\"nofollow\">\n",
       "<svg aria-hidden=\"true\" class=\"octicon octicon-star v-align-text-bottom mr-0 mr-md-1\" height=\"16\" version=\"1.1\" viewbox=\"0 0 16 16\" width=\"16\"><path d=\"M8 .25a.75.75 0 01.673.418l1.882 3.815 4.21.612a.75.75 0 01.416 1.279l-3.046 2.97.719 4.192a.75.75 0 01-1.088.791L8 12.347l-3.766 1.98a.75.75 0 01-1.088-.79l.72-4.194L.818 6.374a.75.75 0 01.416-1.28l4.21-.611L7.327.668A.75.75 0 018 .25zm0 2.445L6.615 5.5a.75.75 0 01-.564.41l-3.097.45 2.24 2.184a.75.75 0 01.216.664l-.528 3.084 2.769-1.456a.75.75 0 01.698 0l2.77 1.456-.53-3.084a.75.75 0 01.216-.664l2.24-2.183-3.096-.45a.75.75 0 01-.564-.41L8 2.694v.001z\" fill-rule=\"evenodd\"></path></svg>\n",
       "<span class=\"d-none d-md-inline\">\n",
       "        Star\n",
       "</span></a>\n",
       "</div>\n",
       "<h1 class=\"h3 lh-condensed\">\n",
       "<a data-hydro-click='{\"event_type\":\"explore.click\",\"payload\":{\"click_context\":\"TRENDING_REPOSITORIES_PAGE\",\"click_target\":\"REPOSITORY\",\"click_visual_representation\":\"REPOSITORY_NAME_HEADING\",\"actor_id\":null,\"record_id\":51117837,\"originating_url\":\"https://github.com/trending/python?since=daily\",\"user_id\":null}}' data-hydro-click-hmac=\"7dd5bb3d2dc211f561e03a34723897318966d9823d89ada135ffcb96808fc26e\" href=\"/tensorflow/models\">\n",
       "<svg aria-hidden=\"true\" class=\"octicon octicon-repo mr-1 color-text-secondary\" height=\"16\" version=\"1.1\" viewbox=\"0 0 16 16\" width=\"16\"><path d=\"M2 2.5A2.5 2.5 0 014.5 0h8.75a.75.75 0 01.75.75v12.5a.75.75 0 01-.75.75h-2.5a.75.75 0 110-1.5h1.75v-2h-8a1 1 0 00-.714 1.7.75.75 0 01-1.072 1.05A2.495 2.495 0 012 11.5v-9zm10.5-1V9h-8c-.356 0-.694.074-1 .208V2.5a1 1 0 011-1h8zM5 12.25v3.25a.25.25 0 00.4.2l1.45-1.087a.25.25 0 01.3 0L8.6 15.7a.25.25 0 00.4-.2v-3.25a.25.25 0 00-.25-.25h-3.5a.25.25 0 00-.25.25z\" fill-rule=\"evenodd\"></path></svg>\n",
       "<span class=\"text-normal\">\n",
       "        tensorflow /\n",
       "</span>\n",
       "      models\n",
       "</a> </h1>\n",
       "<p class=\"col-9 color-text-secondary my-1 pr-4\">\n",
       "      Models and examples built with TensorFlow\n",
       "    </p>\n",
       "<div class=\"f6 color-text-secondary mt-2\">\n",
       "<span class=\"d-inline-block ml-0 mr-3\">\n",
       "<span class=\"repo-language-color\" style=\"background-color: #3572A5\"></span>\n",
       "<span itemprop=\"programmingLanguage\">Python</span>\n",
       "</span>\n",
       "<a class=\"Link--muted d-inline-block mr-3\" href=\"/tensorflow/models/stargazers\">\n",
       "<svg aria-hidden=\"true\" aria-label=\"star\" class=\"octicon octicon-star\" height=\"16\" version=\"1.1\" viewbox=\"0 0 16 16\" width=\"16\"><path d=\"M8 .25a.75.75 0 01.673.418l1.882 3.815 4.21.612a.75.75 0 01.416 1.279l-3.046 2.97.719 4.192a.75.75 0 01-1.088.791L8 12.347l-3.766 1.98a.75.75 0 01-1.088-.79l.72-4.194L.818 6.374a.75.75 0 01.416-1.28l4.21-.611L7.327.668A.75.75 0 018 .25zm0 2.445L6.615 5.5a.75.75 0 01-.564.41l-3.097.45 2.24 2.184a.75.75 0 01.216.664l-.528 3.084 2.769-1.456a.75.75 0 01.698 0l2.77 1.456-.53-3.084a.75.75 0 01.216-.664l2.24-2.183-3.096-.45a.75.75 0 01-.564-.41L8 2.694v.001z\" fill-rule=\"evenodd\"></path></svg>\n",
       "        69,314\n",
       "</a>\n",
       "<a class=\"Link--muted d-inline-block mr-3\" href=\"/tensorflow/models/network/members.models\">\n",
       "<svg aria-hidden=\"true\" aria-label=\"fork\" class=\"octicon octicon-repo-forked\" height=\"16\" version=\"1.1\" viewbox=\"0 0 16 16\" width=\"16\"><path d=\"M5 3.25a.75.75 0 11-1.5 0 .75.75 0 011.5 0zm0 2.122a2.25 2.25 0 10-1.5 0v.878A2.25 2.25 0 005.75 8.5h1.5v2.128a2.251 2.251 0 101.5 0V8.5h1.5a2.25 2.25 0 002.25-2.25v-.878a2.25 2.25 0 10-1.5 0v.878a.75.75 0 01-.75.75h-4.5A.75.75 0 015 6.25v-.878zm3.75 7.378a.75.75 0 11-1.5 0 .75.75 0 011.5 0zm3-8.75a.75.75 0 100-1.5.75.75 0 000 1.5z\" fill-rule=\"evenodd\"></path></svg>\n",
       "        43,884\n",
       "</a>\n",
       "<span class=\"d-inline-block mr-3\">\n",
       "        Built by\n",
       "\n",
       "          <a class=\"d-inline-block\" data-hovercard-type=\"user\" data-hovercard-url=\"/users/saberkun/hovercard\" data-hydro-click='{\"event_type\":\"explore.click\",\"payload\":{\"click_context\":\"TRENDING_REPOSITORIES_PAGE\",\"click_target\":\"CONTRIBUTING_DEVELOPER\",\"click_visual_representation\":\"DEVELOPER_AVATAR\",\"actor_id\":null,\"record_id\":null,\"originating_url\":\"https://github.com/trending/python?since=daily\",\"user_id\":6133895}}' data-hydro-click-hmac=\"3cbc5d6592df086621c9befb1742e8d9531b9bb461155eb60c6bceec3a5ba890\" data-octo-click=\"hovercard-link-click\" data-octo-dimensions=\"link_type:self\" href=\"/saberkun\"><img alt=\"@saberkun\" class=\"avatar mb-1 avatar-user\" height=\"20\" src=\"https://avatars.githubusercontent.com/u/4873189?s=40&amp;v=4\" width=\"20\"/></a>\n",
       "<a class=\"d-inline-block\" data-hovercard-type=\"user\" data-hovercard-url=\"/users/tensorflower-gardener/hovercard\" data-hydro-click='{\"event_type\":\"explore.click\",\"payload\":{\"click_context\":\"TRENDING_REPOSITORIES_PAGE\",\"click_target\":\"CONTRIBUTING_DEVELOPER\",\"click_visual_representation\":\"DEVELOPER_AVATAR\",\"actor_id\":null,\"record_id\":null,\"originating_url\":\"https://github.com/trending/python?since=daily\",\"user_id\":6133895}}' data-hydro-click-hmac=\"3cbc5d6592df086621c9befb1742e8d9531b9bb461155eb60c6bceec3a5ba890\" data-octo-click=\"hovercard-link-click\" data-octo-dimensions=\"link_type:self\" href=\"/tensorflower-gardener\"><img alt=\"@tensorflower-gardener\" class=\"avatar mb-1 avatar-user\" height=\"20\" src=\"https://avatars.githubusercontent.com/u/17151892?s=40&amp;v=4\" width=\"20\"/></a>\n",
       "<a class=\"d-inline-block\" data-hovercard-type=\"user\" data-hovercard-url=\"/users/nealwu/hovercard\" data-hydro-click='{\"event_type\":\"explore.click\",\"payload\":{\"click_context\":\"TRENDING_REPOSITORIES_PAGE\",\"click_target\":\"CONTRIBUTING_DEVELOPER\",\"click_visual_representation\":\"DEVELOPER_AVATAR\",\"actor_id\":null,\"record_id\":null,\"originating_url\":\"https://github.com/trending/python?since=daily\",\"user_id\":6133895}}' data-hydro-click-hmac=\"3cbc5d6592df086621c9befb1742e8d9531b9bb461155eb60c6bceec3a5ba890\" data-octo-click=\"hovercard-link-click\" data-octo-dimensions=\"link_type:self\" href=\"/nealwu\"><img alt=\"@nealwu\" class=\"avatar mb-1 avatar-user\" height=\"20\" src=\"https://avatars.githubusercontent.com/u/726075?s=40&amp;v=4\" width=\"20\"/></a>\n",
       "<a class=\"d-inline-block\" data-hovercard-type=\"user\" data-hovercard-url=\"/users/MarkDaoust/hovercard\" data-hydro-click='{\"event_type\":\"explore.click\",\"payload\":{\"click_context\":\"TRENDING_REPOSITORIES_PAGE\",\"click_target\":\"CONTRIBUTING_DEVELOPER\",\"click_visual_representation\":\"DEVELOPER_AVATAR\",\"actor_id\":null,\"record_id\":null,\"originating_url\":\"https://github.com/trending/python?since=daily\",\"user_id\":6133895}}' data-hydro-click-hmac=\"3cbc5d6592df086621c9befb1742e8d9531b9bb461155eb60c6bceec3a5ba890\" data-octo-click=\"hovercard-link-click\" data-octo-dimensions=\"link_type:self\" href=\"/MarkDaoust\"><img alt=\"@MarkDaoust\" class=\"avatar mb-1 avatar-user\" height=\"20\" src=\"https://avatars.githubusercontent.com/u/1414837?s=40&amp;v=4\" width=\"20\"/></a>\n",
       "<a class=\"d-inline-block\" data-hovercard-type=\"user\" data-hovercard-url=\"/users/chenGitHuber/hovercard\" data-hydro-click='{\"event_type\":\"explore.click\",\"payload\":{\"click_context\":\"TRENDING_REPOSITORIES_PAGE\",\"click_target\":\"CONTRIBUTING_DEVELOPER\",\"click_visual_representation\":\"DEVELOPER_AVATAR\",\"actor_id\":null,\"record_id\":null,\"originating_url\":\"https://github.com/trending/python?since=daily\",\"user_id\":6133895}}' data-hydro-click-hmac=\"3cbc5d6592df086621c9befb1742e8d9531b9bb461155eb60c6bceec3a5ba890\" data-octo-click=\"hovercard-link-click\" data-octo-dimensions=\"link_type:self\" href=\"/chenGitHuber\"><img alt=\"@chenGitHuber\" class=\"avatar mb-1 avatar-user\" height=\"20\" src=\"https://avatars.githubusercontent.com/u/5509679?s=40&amp;v=4\" width=\"20\"/></a>\n",
       "</span>\n",
       "<span class=\"d-inline-block float-sm-right\">\n",
       "<svg aria-hidden=\"true\" class=\"octicon octicon-star\" height=\"16\" version=\"1.1\" viewbox=\"0 0 16 16\" width=\"16\"><path d=\"M8 .25a.75.75 0 01.673.418l1.882 3.815 4.21.612a.75.75 0 01.416 1.279l-3.046 2.97.719 4.192a.75.75 0 01-1.088.791L8 12.347l-3.766 1.98a.75.75 0 01-1.088-.79l.72-4.194L.818 6.374a.75.75 0 01.416-1.28l4.21-.611L7.327.668A.75.75 0 018 .25zm0 2.445L6.615 5.5a.75.75 0 01-.564.41l-3.097.45 2.24 2.184a.75.75 0 01.216.664l-.528 3.084 2.769-1.456a.75.75 0 01.698 0l2.77 1.456-.53-3.084a.75.75 0 01.216-.664l2.24-2.183-3.096-.45a.75.75 0 01-.564-.41L8 2.694v.001z\" fill-rule=\"evenodd\"></path></svg>\n",
       "        21 stars today\n",
       "</span> </div>\n",
       "</article>\n",
       "</div>\n",
       "</div>\n",
       "</div>\n",
       "</main>\n",
       "</div>\n",
       "<div class=\"footer container-lg width-full p-responsive\" role=\"contentinfo\">\n",
       "<div class=\"position-relative d-flex flex-row-reverse flex-lg-row flex-wrap flex-lg-nowrap flex-justify-center flex-lg-justify-between pt-6 pb-2 mt-6 f6 color-text-secondary border-top color-border-secondary\">\n",
       "<ul class=\"list-style-none d-flex flex-wrap col-12 col-lg-5 flex-justify-center flex-lg-justify-between mb-2 mb-lg-0\">\n",
       "<li class=\"mr-3 mr-lg-0\">© 2021 GitHub, Inc.</li>\n",
       "<li class=\"mr-3 mr-lg-0\"><a data-ga-click=\"Footer, go to terms, text:terms\" href=\"https://docs.github.com/en/github/site-policy/github-terms-of-service\">Terms</a></li>\n",
       "<li class=\"mr-3 mr-lg-0\"><a data-ga-click=\"Footer, go to privacy, text:privacy\" href=\"https://docs.github.com/en/github/site-policy/github-privacy-statement\">Privacy</a></li>\n",
       "<li class=\"mr-3 mr-lg-0\"><a data-ga-click=\"Footer, go to security, text:security\" href=\"https://github.com/security\">Security</a></li>\n",
       "<li class=\"mr-3 mr-lg-0\"><a data-ga-click=\"Footer, go to status, text:status\" href=\"https://www.githubstatus.com/\">Status</a></li>\n",
       "<li><a data-ga-click=\"Footer, go to help, text:Docs\" href=\"https://docs.github.com\">Docs</a></li>\n",
       "</ul>\n",
       "<a aria-label=\"Homepage\" class=\"footer-octicon d-none d-lg-block mx-lg-4\" href=\"https://github.com\" title=\"GitHub\">\n",
       "<svg aria-hidden=\"true\" class=\"octicon octicon-mark-github\" height=\"24\" version=\"1.1\" viewbox=\"0 0 16 16\" width=\"24\"><path d=\"M8 0C3.58 0 0 3.58 0 8c0 3.54 2.29 6.53 5.47 7.59.4.07.55-.17.55-.38 0-.19-.01-.82-.01-1.49-2.01.37-2.53-.49-2.69-.94-.09-.23-.48-.94-.82-1.13-.28-.15-.68-.52-.01-.53.63-.01 1.08.58 1.23.82.72 1.21 1.87.87 2.33.66.07-.52.28-.87.51-1.07-1.78-.2-3.64-.89-3.64-3.95 0-.87.31-1.59.82-2.15-.08-.2-.36-1.02.08-2.12 0 0 .67-.21 2.2.82.64-.18 1.32-.27 2-.27.68 0 1.36.09 2 .27 1.53-1.04 2.2-.82 2.2-.82.44 1.1.16 1.92.08 2.12.51.56.82 1.27.82 2.15 0 3.07-1.87 3.75-3.65 3.95.29.25.54.73.54 1.48 0 1.07-.01 1.93-.01 2.2 0 .21.15.46.55.38A8.013 8.013 0 0016 8c0-4.42-3.58-8-8-8z\" fill-rule=\"evenodd\"></path></svg>\n",
       "</a>\n",
       "<ul class=\"list-style-none d-flex flex-wrap col-12 col-lg-5 flex-justify-center flex-lg-justify-between mb-2 mb-lg-0\">\n",
       "<li class=\"mr-3 mr-lg-0\"><a data-ga-click=\"Footer, go to contact, text:contact\" href=\"https://support.github.com\">Contact GitHub</a></li>\n",
       "<li class=\"mr-3 mr-lg-0\"><a data-ga-click=\"Footer, go to Pricing, text:Pricing\" href=\"https://github.com/pricing\">Pricing</a></li>\n",
       "<li class=\"mr-3 mr-lg-0\"><a data-ga-click=\"Footer, go to api, text:api\" href=\"https://docs.github.com\">API</a></li>\n",
       "<li class=\"mr-3 mr-lg-0\"><a data-ga-click=\"Footer, go to training, text:training\" href=\"https://services.github.com\">Training</a></li>\n",
       "<li class=\"mr-3 mr-lg-0\"><a data-ga-click=\"Footer, go to blog, text:blog\" href=\"https://github.blog\">Blog</a></li>\n",
       "<li><a data-ga-click=\"Footer, go to about, text:about\" href=\"https://github.com/about\">About</a></li>\n",
       "</ul>\n",
       "</div>\n",
       "<div class=\"d-flex flex-justify-center pb-6\">\n",
       "<span class=\"f6 color-text-tertiary\"></span>\n",
       "</div>\n",
       "</div>\n",
       "<div class=\"ajax-error-message flash flash-error\" hidden=\"\" id=\"ajax-error-message\">\n",
       "<svg aria-hidden=\"true\" class=\"octicon octicon-alert\" height=\"16\" version=\"1.1\" viewbox=\"0 0 16 16\" width=\"16\"><path d=\"M8.22 1.754a.25.25 0 00-.44 0L1.698 13.132a.25.25 0 00.22.368h12.164a.25.25 0 00.22-.368L8.22 1.754zm-1.763-.707c.659-1.234 2.427-1.234 3.086 0l6.082 11.378A1.75 1.75 0 0114.082 15H1.918a1.75 1.75 0 01-1.543-2.575L6.457 1.047zM9 11a1 1 0 11-2 0 1 1 0 012 0zm-.25-5.25a.75.75 0 00-1.5 0v2.5a.75.75 0 001.5 0v-2.5z\" fill-rule=\"evenodd\"></path></svg>\n",
       "<button aria-label=\"Dismiss error\" class=\"flash-close js-ajax-error-dismiss\" type=\"button\">\n",
       "<svg aria-hidden=\"true\" class=\"octicon octicon-x\" height=\"16\" version=\"1.1\" viewbox=\"0 0 16 16\" width=\"16\"><path d=\"M3.72 3.72a.75.75 0 011.06 0L8 6.94l3.22-3.22a.75.75 0 111.06 1.06L9.06 8l3.22 3.22a.75.75 0 11-1.06 1.06L8 9.06l-3.22 3.22a.75.75 0 01-1.06-1.06L6.94 8 3.72 4.78a.75.75 0 010-1.06z\" fill-rule=\"evenodd\"></path></svg>\n",
       "</button>\n",
       "    You can’t perform that action at this time.\n",
       "  </div>\n",
       "<div class=\"js-stale-session-flash flash flash-warn flash-banner\" hidden=\"\">\n",
       "<svg aria-hidden=\"true\" class=\"octicon octicon-alert\" height=\"16\" version=\"1.1\" viewbox=\"0 0 16 16\" width=\"16\"><path d=\"M8.22 1.754a.25.25 0 00-.44 0L1.698 13.132a.25.25 0 00.22.368h12.164a.25.25 0 00.22-.368L8.22 1.754zm-1.763-.707c.659-1.234 2.427-1.234 3.086 0l6.082 11.378A1.75 1.75 0 0114.082 15H1.918a1.75 1.75 0 01-1.543-2.575L6.457 1.047zM9 11a1 1 0 11-2 0 1 1 0 012 0zm-.25-5.25a.75.75 0 00-1.5 0v2.5a.75.75 0 001.5 0v-2.5z\" fill-rule=\"evenodd\"></path></svg>\n",
       "<span class=\"js-stale-session-flash-signed-in\" hidden=\"\">You signed in with another tab or window. <a href=\"\">Reload</a> to refresh your session.</span>\n",
       "<span class=\"js-stale-session-flash-signed-out\" hidden=\"\">You signed out in another tab or window. <a href=\"\">Reload</a> to refresh your session.</span>\n",
       "</div>\n",
       "<template id=\"site-details-dialog\">\n",
       "<details class=\"details-reset details-overlay details-overlay-dark lh-default color-text-primary hx_rsm\" open=\"\">\n",
       "<summary aria-label=\"Close dialog\" role=\"button\"></summary>\n",
       "<details-dialog class=\"Box Box--overlay d-flex flex-column anim-fade-in fast hx_rsm-dialog hx_rsm-modal\">\n",
       "<button aria-label=\"Close dialog\" class=\"Box-btn-octicon m-0 btn-octicon position-absolute right-0 top-0\" data-close-dialog=\"\" type=\"button\">\n",
       "<svg aria-hidden=\"true\" class=\"octicon octicon-x\" height=\"16\" version=\"1.1\" viewbox=\"0 0 16 16\" width=\"16\"><path d=\"M3.72 3.72a.75.75 0 011.06 0L8 6.94l3.22-3.22a.75.75 0 111.06 1.06L9.06 8l3.22 3.22a.75.75 0 11-1.06 1.06L8 9.06l-3.22 3.22a.75.75 0 01-1.06-1.06L6.94 8 3.72 4.78a.75.75 0 010-1.06z\" fill-rule=\"evenodd\"></path></svg>\n",
       "</button>\n",
       "<div class=\"octocat-spinner my-6 js-details-dialog-spinner\"></div>\n",
       "</details-dialog>\n",
       "</details>\n",
       "</template>\n",
       "<div class=\"Popover js-hovercard-content position-absolute\" style=\"display: none; outline: none;\" tabindex=\"0\">\n",
       "<div class=\"Popover-message Popover-message--bottom-left Popover-message--large Box color-shadow-large\" style=\"width:360px;\">\n",
       "</div>\n",
       "</div>\n",
       "</body>\n",
       "</html>"
      ]
     },
     "metadata": {},
     "execution_count": 23
    }
   ],
   "source": [
    "# This is the url you will scrape in this exercise\n",
    "url = 'https://github.com/trending/python?since=daily'\n",
    "html = requests.get(url).content\n",
    "soup = BeautifulSoup(html, \"lxml\")\n",
    "soup\n"
   ]
  },
  {
   "cell_type": "code",
   "execution_count": 26,
   "metadata": {},
   "outputs": [
    {
     "output_type": "stream",
     "name": "stdout",
     "text": [
      "['facebookresearch/madgrad', 'gto76/python-cheatsheet', 'Datalux/Osintgram', 'ansible/ansible', 'CyberPunkMetalHead/bitcoin-bot-buy-if-elon-tweets', 'RasaHQ/rasa', 'nccgroup/ScoutSuite', 'facebookresearch/frankmocap', 'donnemartin/data-science-ipython-notebooks', 'tiangolo/fastapi', 'projectdiscovery/nuclei-templates', 'gruns/icecream', 'GoogleCloudPlatform/professional-services', 'ping/instagram_private_api', 'alibaba/taobao-iphone-device', 'JaidedAI/EasyOCR', 'Trusted-AI/adversarial-robustness-toolbox', 'PostHog/posthog', 'bentoml/BentoML', 'FederatedAI/FATE', 'berniwal/swin-transformer-pytorch', 'open-mmlab/mmdetection3d', 'fishtown-analytics/dbt', 'tensorflow/models']\n"
     ]
    }
   ],
   "source": [
    "#your code\n",
    "\n",
    "rawReposTrend = soup.find_all('h1', class_='h3 lh-condensed')\n",
    "\n",
    "reposTrend = [''.join(repo.select('a')[0].text.strip().split()) for repo in rawReposTrend]\n",
    "\n",
    "print(reposTrend)\n",
    "\n"
   ]
  },
  {
   "cell_type": "markdown",
   "metadata": {},
   "source": [
    "#### Display all the image links from Walt Disney wikipedia page"
   ]
  },
  {
   "cell_type": "code",
   "execution_count": 27,
   "metadata": {},
   "outputs": [
    {
     "output_type": "execute_result",
     "data": {
      "text/plain": [
       "8%D8%A7%D9%84%D9%B9_%DA%88%D8%B2%D9%86%DB%8C\" hreflang=\"pnb\" lang=\"pnb\" title=\"والٹ ڈزنی – Western Punjabi\">پنجابی</a></li><li class=\"interlanguage-link interwiki-pms\"><a class=\"interlanguage-link-target\" href=\"https://pms.wikipedia.org/wiki/Walt_Disney\" hreflang=\"pms\" lang=\"pms\" title=\"Walt Disney – Piedmontese\">Piemontèis</a></li><li class=\"interlanguage-link interwiki-nds\"><a class=\"interlanguage-link-target\" href=\"https://nds.wikipedia.org/wiki/Walt_Disney\" hreflang=\"nds\" lang=\"nds\" title=\"Walt Disney – Low German\">Plattdüütsch</a></li><li class=\"interlanguage-link interwiki-pl\"><a class=\"interlanguage-link-target\" href=\"https://pl.wikipedia.org/wiki/Walt_Disney\" hreflang=\"pl\" lang=\"pl\" title=\"Walt Disney – Polish\">Polski</a></li><li class=\"interlanguage-link interwiki-pt\"><a class=\"interlanguage-link-target\" href=\"https://pt.wikipedia.org/wiki/Walt_Disney\" hreflang=\"pt\" lang=\"pt\" title=\"Walt Disney – Portuguese\">Português</a></li><li class=\"interlanguage-link interwiki-ro\"><a class=\"interlanguage-link-target\" href=\"https://ro.wikipedia.org/wiki/Walt_Disney\" hreflang=\"ro\" lang=\"ro\" title=\"Walt Disney – Romanian\">Română</a></li><li class=\"interlanguage-link interwiki-qu\"><a class=\"interlanguage-link-target\" href=\"https://qu.wikipedia.org/wiki/Walt_Disney\" hreflang=\"qu\" lang=\"qu\" title=\"Walt Disney – Quechua\">Runa Simi</a></li><li class=\"interlanguage-link interwiki-rue\"><a class=\"interlanguage-link-target\" href=\"https://rue.wikipedia.org/wiki/%D0%A3%D0%BE%D0%BB%D1%82_%D0%94%D1%96%D1%81%D0%BD%D0%B5%D0%B9\" hreflang=\"rue\" lang=\"rue\" title=\"Уолт Дісней – Rusyn\">Русиньскый</a></li><li class=\"interlanguage-link interwiki-ru\"><a class=\"interlanguage-link-target\" href=\"https://ru.wikipedia.org/wiki/%D0%94%D0%B8%D1%81%D0%BD%D0%B5%D0%B9,_%D0%A3%D0%BE%D0%BB%D1%82\" hreflang=\"ru\" lang=\"ru\" title=\"Дисней, Уолт – Russian\">Русский</a></li><li class=\"interlanguage-link interwiki-sah\"><a class=\"interlanguage-link-target\" href=\"https://sah.wikipedia.org/wiki/%D0%A3%D0%BE%D0%BB%D1%82_%D0%94%D0%B8%D1%81%D0%BD%D0%B5%D0%B9\" hreflang=\"sah\" lang=\"sah\" title=\"Уолт Дисней – Sakha\">Саха тыла</a></li><li class=\"interlanguage-link interwiki-sa\"><a class=\"interlanguage-link-target\" href=\"https://sa.wikipedia.org/wiki/%E0%A4%B5%E0%A4%BE%E0%A4%B2%E0%A5%8D%E0%A4%9F_%E0%A4%A1%E0%A4%BF%E0%A4%9C%E0%A5%8D%E0%A4%A8%E0%A5%80\" hreflang=\"sa\" lang=\"sa\" title=\"वाल्ट डिज्नी – Sanskrit\">संस्कृतम्</a></li><li class=\"interlanguage-link interwiki-sat\"><a class=\"interlanguage-link-target\" href=\"https://sat.wikipedia.org/wiki/%E1%B1%A3%E1%B1%9F%E1%B1%9E%E1%B1%B4_%E1%B1%B0%E1%B1%A4%E1%B1%A5%E1%B1%B1%E1%B1%A4\" hreflang=\"sat\" lang=\"sat\" title=\"ᱣᱟᱞᱴ ᱰᱤᱥᱱᱤ – Santali\">ᱥᱟᱱᱛᱟᱲᱤ</a></li><li class=\"interlanguage-link interwiki-sc\"><a class=\"interlanguage-link-target\" href=\"https://sc.wikipedia.org/wiki/Walt_Disney\" hreflang=\"sc\" lang=\"sc\" title=\"Walt Disney – Sardinian\">Sardu</a></li><li class=\"interlanguage-link interwiki-sco\"><a class=\"interlanguage-link-target\" href=\"https://sco.wikipedia.org/wiki/Walt_Disney\" hreflang=\"sco\" lang=\"sco\" title=\"Walt Disney – Scots\">Scots</a></li><li class=\"interlanguage-link interwiki-sq\"><a class=\"interlanguage-link-target\" href=\"https://sq.wikipedia.org/wiki/Walt_Disney\" hreflang=\"sq\" lang=\"sq\" title=\"Walt Disney – Albanian\">Shqip</a></li><li class=\"interlanguage-link interwiki-scn\"><a class=\"interlanguage-link-target\" href=\"https://scn.wikipedia.org/wiki/Walt_Disney\" hreflang=\"scn\" lang=\"scn\" title=\"Walt Disney – Sicilian\">Sicilianu</a></li><li class=\"interlanguage-link interwiki-simple\"><a class=\"interlanguage-link-target\" href=\"https://simple.wikipedia.org/wiki/Walt_Disney\" hreflang=\"en-simple\" lang=\"en-simple\" title=\"Walt Disney – Simple English\">Simple English</a></li><li class=\"interlanguage-link interwiki-sk\"><a class=\"interlanguage-link-target\" href=\"https://sk.wikipedia.org/wiki/Walt_Disney\" hreflang=\"sk\" lang=\"sk\" title=\"Walt Disney – Slovak\">Slovenčina</a></li><li class=\"interlanguage-link interwiki-sl\"><a class=\"interlanguage-link-target\" href=\"https://sl.wikipedia.org/wiki/Walt_Disney\" hreflang=\"sl\" lang=\"sl\" title=\"Walt Disney – Slovenian\">Slovenščina</a></li><li class=\"interlanguage-link interwiki-szl\"><a class=\"interlanguage-link-target\" href=\"https://szl.wikipedia.org/wiki/Walt_Disney\" hreflang=\"szl\" lang=\"szl\" title=\"Walt Disney – Silesian\">Ślůnski</a></li><li class=\"interlanguage-link interwiki-ckb\"><a class=\"interlanguage-link-target\" href=\"https://ckb.wikipedia.org/wiki/%D9%88%D8%A7%DA%B5%D8%AA_%D8%AF%DB%8C%D8%B2%D9%86%DB%8C\" hreflang=\"ckb\" lang=\"ckb\" title=\"واڵت دیزنی – Central Kurdish\">کوردی</a></li><li class=\"interlanguage-link interwiki-sr\"><a class=\"interlanguage-link-target\" href=\"https://sr.wikipedia.org/wiki/%D0%92%D0%BE%D0%BB%D1%82_%D0%94%D0%B8%D0%B7%D0%BD%D0%B8\" hreflang=\"sr\" lang=\"sr\" title=\"Волт Дизни – Serbian\">Српски / srpski</a></li><li class=\"interlanguage-link interwiki-sh\"><a class=\"interlanguage-link-target\" href=\"https://sh.wikipedia.org/wiki/Walt_Disney\" hreflang=\"sh\" lang=\"sh\" title=\"Walt Disney – Serbo-Croatian\">Srpskohrvatski / српскохрватски</a></li><li class=\"interlanguage-link interwiki-su\"><a class=\"interlanguage-link-target\" href=\"https://su.wikipedia.org/wiki/Walt_Disney\" hreflang=\"su\" lang=\"su\" title=\"Walt Disney – Sundanese\">Sunda</a></li><li class=\"interlanguage-link interwiki-fi badge-Q17437798 badge-goodarticle\" title=\"good article badge\"><a class=\"interlanguage-link-target\" href=\"https://fi.wikipedia.org/wiki/Walt_Disney\" hreflang=\"fi\" lang=\"fi\" title=\"Walt Disney – Finnish\">Suomi</a></li><li class=\"interlanguage-link interwiki-sv\"><a class=\"interlanguage-link-target\" href=\"https://sv.wikipedia.org/wiki/Walt_Disney\" hreflang=\"sv\" lang=\"sv\" title=\"Walt Disney – Swedish\">Svenska</a></li><li class=\"interlanguage-link interwiki-tl\"><a class=\"interlanguage-link-target\" href=\"https://tl.wikipedia.org/wiki/Walt_Disney\" hreflang=\"tl\" lang=\"tl\" title=\"Walt Disney – Tagalog\">Tagalog</a></li><li class=\"interlanguage-link interwiki-ta\"><a class=\"interlanguage-link-target\" href=\"https://ta.wikipedia.org/wiki/%E0%AE%B5%E0%AE%BE%E0%AE%B2%E0%AF%8D%E0%AE%9F%E0%AF%8D_%E0%AE%9F%E0%AE%BF%E0%AE%B8%E0%AF%8D%E0%AE%A9%E0%AE%BF\" hreflang=\"ta\" lang=\"ta\" title=\"வால்ட் டிஸ்னி – Tamil\">தமிழ்</a></li><li class=\"interlanguage-link interwiki-tt\"><a class=\"interlanguage-link-target\" href=\"https://tt.wikipedia.org/wiki/%D0%A3%D0%BE%D0%BB%D1%82_%D0%94%D0%B8%D1%81%D0%BD%D0%B5%D0%B9\" hreflang=\"tt\" lang=\"tt\" title=\"Уолт Дисней – Tatar\">Татарча/tatarça</a></li><li class=\"interlanguage-link interwiki-te\"><a class=\"interlanguage-link-target\" href=\"https://te.wikipedia.org/wiki/%E0%B0%B5%E0%B0%BE%E0%B0%B2%E0%B1%8D%E0%B0%9F%E0%B1%8D_%E0%B0%A1%E0%B0%BF%E0%B0%B8%E0%B1%8D%E0%B0%A8%E0%B1%80\" hreflang=\"te\" lang=\"te\" title=\"వాల్ట్ డిస్నీ – Telugu\">తెలుగు</a></li><li class=\"interlanguage-link interwiki-th\"><a class=\"interlanguage-link-target\" href=\"https://th.wikipedia.org/wiki/%E0%B8%A7%E0%B8%AD%E0%B8%A5%E0%B8%95%E0%B9%8C_%E0%B8%94%E0%B8%B4%E0%B8%AA%E0%B8%99%E0%B8%B5%E0%B8%A2%E0%B9%8C\" hreflang=\"th\" lang=\"th\" title=\"วอลต์ ดิสนีย์ – Thai\">ไทย</a></li><li class=\"interlanguage-link interwiki-tg\"><a class=\"interlanguage-link-target\" href=\"https://tg.wikipedia.org/wiki/%D0%A3%D0%BE%D0%BB%D1%82_%D0%94%D0%B8%D1%81%D0%BD%D0%B5%D0%B9\" hreflang=\"tg\" lang=\"tg\" title=\"Уолт Дисней – Tajik\">Тоҷикӣ</a></li><li class=\"interlanguage-link interwiki-tr\"><a class=\"interlanguage-link-target\" href=\"https://tr.wikipedia.org/wiki/Walt_Disney\" hreflang=\"tr\" lang=\"tr\" title=\"Walt Disney – Turkish\">Türkçe</a></li><li class=\"interlanguage-link interwiki-uk\"><a class=\"interlanguage-link-target\" href=\"https://uk.wikipedia.org/wiki/%D0%92%D0%BE%D0%BB%D1%82_%D0%94%D1%96%D1%81%D0%BD%D0%B5%D0%B9\" hreflang=\"uk\" lang=\"uk\" title=\"Волт Дісней – Ukrainian\">Українська</a></li><li class=\"interlanguage-link interwiki-ur\"><a class=\"interlanguage-link-target\" href=\"https://ur.wikipedia.org/wiki/%D9%88%D8%A7%D9%84%D9%B9_%DA%88%D8%B2%D9%86%DB%8C\" hreflang=\"ur\" lang=\"ur\" title=\"والٹ ڈزنی – Urdu\">اردو</a></li><li class=\"interlanguage-link interwiki-vec\"><a class=\"interlanguage-link-target\" href=\"https://vec.wikipedia.org/wiki/Walt_Disney\" hreflang=\"vec\" lang=\"vec\" title=\"Walt Disney – Venetian\">Vèneto</a></li><li class=\"interlanguage-link interwiki-vep\"><a class=\"interlanguage-link-target\" href=\"https://vep.wikipedia.org/wiki/Disnei_Uolt\" hreflang=\"vep\" lang=\"vep\" title=\"Disnei Uolt – Veps\">Vepsän kel’</a></li><li class=\"interlanguage-link interwiki-vi\"><a class=\"interlanguage-link-target\" href=\"https://vi.wikipedia.org/wiki/Walt_Disney\" hreflang=\"vi\" lang=\"vi\" title=\"Walt Disney – Vietnamese\">Tiếng Việt</a></li><li class=\"interlanguage-link interwiki-vo\"><a class=\"interlanguage-link-target\" href=\"https://vo.wikipedia.org/wiki/Walt_Disney\" hreflang=\"vo\" lang=\"vo\" title=\"Walt Disney – Volapük\">Volapük</a></li><li class=\"interlanguage-link interwiki-wa\"><a class=\"interlanguage-link-target\" href=\"https://wa.wikipedia.org/wiki/Walt_Disney\" hreflang=\"wa\" lang=\"wa\" title=\"Walt Disney – Walloon\">Walon</a></li><li class=\"interlanguage-link interwiki-war\"><a class=\"interlanguage-link-target\" href=\"https://war.wikipedia.org/wiki/Walt_Disney\" hreflang=\"war\" lang=\"war\" title=\"Walt Disney – Waray\">Winaray</a></li><li class=\"interlanguage-link interwiki-wuu\"><a class=\"interlanguage-link-target\" href=\"https://wuu.wikipedia.org/wiki/%E5%8D%8E%E8%84%B1%C2%B7%E8%BF%AA%E5%A3%AB%E5%B0%BC\" hreflang=\"wuu\" lang=\"wuu\" title=\"华脱·迪士尼 – Wu Chinese\">吴语</a></li><li class=\"interlanguage-link interwiki-yi\"><a class=\"interlanguage-link-target\" href=\"https://yi.wikipedia.org/wiki/%D7%95%D7%95%D7%90%D7%9C%D7%98_%D7%93%D7%99%D7%96%D7%A0%D7%99\" hreflang=\"yi\" lang=\"yi\" title=\"וואלט דיזני – Yiddish\">ייִדיש</a></li><li class=\"interlanguage-link interwiki-yo\"><a class=\"interlanguage-link-target\" href=\"https://yo.wikipedia.org/wiki/Walt_Disney\" hreflang=\"yo\" lang=\"yo\" title=\"Walt Disney – Yoruba\">Yorùbá</a></li><li class=\"interlanguage-link interwiki-zh-yue\"><a class=\"interlanguage-link-target\" href=\"https://zh-yue.wikipedia.org/wiki/%E5%92%8C%E8%B7%AF%E8%BF%AA%E5%A3%AB%E5%B0%BC\" hreflang=\"yue\" lang=\"yue\" title=\"和路迪士尼 – Cantonese\">粵語</a></li><li class=\"interlanguage-link interwiki-bat-smg\"><a class=\"interlanguage-link-target\" href=\"https://bat-smg.wikipedia.org/wiki/Volts_D%C4%97sniejos\" hreflang=\"sgs\" lang=\"sgs\" title=\"Volts Dėsniejos – Samogitian\">Žemaitėška</a></li><li class=\"interlanguage-link interwiki-zh\"><a class=\"interlanguage-link-target\" href=\"https://zh.wikipedia.org/wiki/%E8%8F%AF%E7%89%B9%C2%B7%E8%BF%AA%E5%A3%AB%E5%B0%BC\" hreflang=\"zh\" lang=\"zh\" title=\"華特·迪士尼 – Chinese\">中文</a></li></ul>\n",
       "<div class=\"after-portlet after-portlet-lang\"><span class=\"wb-langlinks-edit wb-langlinks-link\"><a class=\"wbc-editpage\" href=\"https://www.wikidata.org/wiki/Special:EntityPage/Q8704#sitelinks-wikipedia\" title=\"Edit interlanguage links\">Edit links</a></span></div>\n",
       "</div>\n",
       "</nav>\n",
       "</div>\n",
       "</div>\n",
       "<footer class=\"mw-footer\" id=\"footer\" role=\"contentinfo\">\n",
       "<ul id=\"footer-info\">\n",
       "<li id=\"footer-info-lastmod\"> This page was last edited on 25 March 2021, at 06:16<span class=\"anonymous-show\"> (UTC)</span>.</li>\n",
       "<li id=\"footer-info-copyright\">Text is available under the <a href=\"//en.wikipedia.org/wiki/Wikipedia:Text_of_Creative_Commons_Attribution-ShareAlike_3.0_Unported_License\" rel=\"license\">Creative Commons Attribution-ShareAlike License</a><a href=\"//creativecommons.org/licenses/by-sa/3.0/\" rel=\"license\" style=\"display:none;\"></a>;\n",
       "additional terms may apply.  By using this site, you agree to the <a href=\"//foundation.wikimedia.org/wiki/Terms_of_Use\">Terms of Use</a> and <a href=\"//foundation.wikimedia.org/wiki/Privacy_policy\">Privacy Policy</a>. Wikipedia® is a registered trademark of the <a href=\"//www.wikimediafoundation.org/\">Wikimedia Foundation, Inc.</a>, a non-profit organization.</li>\n",
       "</ul>\n",
       "<ul id=\"footer-places\">\n",
       "<li id=\"footer-places-privacy\"><a class=\"extiw\" href=\"https://foundation.wikimedia.org/wiki/Privacy_policy\" title=\"wmf:Privacy policy\">Privacy policy</a></li>\n",
       "<li id=\"footer-places-about\"><a href=\"/wiki/Wikipedia:About\" title=\"Wikipedia:About\">About Wikipedia</a></li>\n",
       "<li id=\"footer-places-disclaimer\"><a href=\"/wiki/Wikipedia:General_disclaimer\" title=\"Wikipedia:General disclaimer\">Disclaimers</a></li>\n",
       "<li id=\"footer-places-contact\"><a href=\"//en.wikipedia.org/wiki/Wikipedia:Contact_us\">Contact Wikipedia</a></li>\n",
       "<li id=\"footer-places-mobileview\"><a class=\"noprint stopMobileRedirectToggle\" href=\"//en.m.wikipedia.org/w/index.php?title=Walt_Disney&amp;mobileaction=toggle_view_mobile\">Mobile view</a></li>\n",
       "<li id=\"footer-places-developers\"><a href=\"https://www.mediawiki.org/wiki/Special:MyLanguage/How_to_contribute\">Developers</a></li>\n",
       "<li id=\"footer-places-statslink\"><a href=\"https://stats.wikimedia.org/#/en.wikipedia.org\">Statistics</a></li>\n",
       "<li id=\"footer-places-cookiestatement\"><a href=\"https://foundation.wikimedia.org/wiki/Cookie_statement\">Cookie statement</a></li>\n",
       "</ul>\n",
       "<ul class=\"noprint\" id=\"footer-icons\">\n",
       "<li id=\"footer-copyrightico\"><a href=\"https://wikimediafoundation.org/\"><img alt=\"Wikimedia Foundation\" height=\"31\" loading=\"lazy\" src=\"/static/images/footer/wikimedia-button.png\" srcset=\"/static/images/footer/wikimedia-button-1.5x.png 1.5x, /static/images/footer/wikimedia-button-2x.png 2x\" width=\"88\"/></a></li>\n",
       "<li id=\"footer-poweredbyico\"><a href=\"https://www.mediawiki.org/\"><img alt=\"Powered by MediaWiki\" height=\"31\" loading=\"lazy\" src=\"/static/images/footer/poweredby_mediawiki_88x31.png\" srcset=\"/static/images/footer/poweredby_mediawiki_132x47.png 1.5x, /static/images/footer/poweredby_mediawiki_176x62.png 2x\" width=\"88\"/></a></li>\n",
       "</ul>\n",
       "<div style=\"clear: both;\"></div>\n",
       "</footer>\n",
       "<script>(RLQ=window.RLQ||[]).push(function(){mw.config.set({\"wgPageParseReport\":{\"limitreport\":{\"cputime\":\"3.315\",\"walltime\":\"3.851\",\"ppvisitednodes\":{\"value\":21420,\"limit\":1000000},\"postexpandincludesize\":{\"value\":490500,\"limit\":2097152},\"templateargumentsize\":{\"value\":79688,\"limit\":2097152},\"expansiondepth\":{\"value\":26,\"limit\":40},\"expensivefunctioncount\":{\"value\":44,\"limit\":500},\"unstrip-depth\":{\"value\":1,\"limit\":20},\"unstrip-size\":{\"value\":409328,\"limit\":5000000},\"entityaccesscount\":{\"value\":1,\"limit\":400},\"timingprofile\":[\"100.00% 3262.274      1 -total\",\" 20.34%  663.512      2 Template:Reflist\",\" 18.62%  607.316    146 Template:Sfn\",\" 13.00%  423.985     28 Template:Efn\",\"  9.79%  319.428     42 Template:Cite_web\",\"  9.01%  294.048      1 Template:Infobox_person\",\"  7.70%  251.329      1 Template:Infobox\",\"  6.15%  200.519      5 Template:Br_separated_entries\",\"  5.79%  189.024     14 Template:Navbox\",\"  5.57%  181.722     32 Template:Cite_news\"]},\"scribunto\":{\"limitreport-timeusage\":{\"value\":\"1.794\",\"limit\":\"10.000\"},\"limitreport-memusage\":{\"value\":34610356,\"limit\":52428800},\"limitreport-logs\":\"anchor_id_list = table#1 {\\n  [\\\"CITEREFAarons1964\\\"] = 1,\\n  [\\\"CITEREFAllen1990\\\"] = 1,\\n  [\\\"CITEREFBarrier1999\\\"] = 1,\\n  [\\\"CITEREFBarrier2007\\\"] = 1,\\n  [\\\"CITEREFBeard1982\\\"] = 1,\\n  [\\\"CITEREFBroggie2006\\\"] = 1,\\n  [\\\"CITEREFCanemaker2001\\\"] = 1,\\n  [\\\"CITEREFCarnaham2012\\\"] = 1,\\n  [\\\"CITEREFCeplairEnglund1983\\\"] = 1,\\n  [\\\"CITEREFCohen2004\\\"] = 1,\\n  [\\\"CITEREFCooke1966\\\"] = 1,\\n  [\\\"CITEREFCrowther2015\\\"] = 1,\\n  [\\\"CITEREFDanks2003\\\"] = 1,\\n  [\\\"CITEREFDargis2011\\\"] = 1,\\n  [\\\"CITEREFDobson2009\\\"] = 1,\\n  [\\\"CITEREFDostis2015\\\"] = 1,\\n  [\\\"CITEREFEliot1995\\\"] = 1,\\n  [\\\"CITEREFFinch1999\\\"] = 1,\\n  [\\\"CITEREFGabler2006\\\"] = 1,\\n  [\\\"CITEREFGettell2013\\\"] = 1,\\n  [\\\"CITEREFGritten2013\\\"] = 1,\\n  [\\\"CITEREFHollisEhrbar2006\\\"] = 1,\\n  [\\\"CITEREFIzard1967\\\"] = 1,\\n  [\\\"CITEREFKorkis2012\\\"] = 1,\\n  [\\\"CITEREFKrasniewicz2010\\\"] = 1,\\n  [\\\"CITEREFLanger2000\\\"] = 1,\\n  [\\\"CITEREFLeeMadej2012\\\"] = 1,\\n  [\\\"CITEREFLejeune1938\\\"] = 1,\\n  [\\\"CITEREFLejeune1951\\\"] = 1,\\n  [\\\"CITEREFMannheim2016\\\"] = 1,\\n  [\\\"CITEREFMarth1969\\\"] = 1,\\n  [\\\"CITEREFMeyers1988\\\"] = 1,\\n  [\\\"CITEREFMikkelson1995\\\"] = 1,\\n  [\\\"CITEREFMitgang1993\\\"] = 1,\\n  [\\\"CITEREFMosley1990\\\"] = 1,\\n  [\\\"CITEREFMumfordGordon\\\"] = 1,\\n  [\\\"CITEREFNichols2014\\\"] = 1,\\n  [\\\"CITEREFNorman2013\\\"] = 1,\\n  [\\\"CITEREFPainter2008\\\"] = 1,\\n  [\\\"CITEREFPatches2015\\\"] = 1,\\n  [\\\"CITEREFPierce1987\\\"] = 1,\\n  [\\\"CITEREFPoyser2009\\\"] = 1,\\n  [\\\"CITEREFPuig2010\\\"] = 1,\\n  [\\\"CITEREFRackl2009\\\"] = 1,\\n  [\\\"CITEREFRothstein2009\\\"] = 1,\\n  [\\\"CITEREFSchickel1986\\\"] = 1,\\n  [\\\"CITEREFSchmadel2003\\\"] = 1,\\n  [\\\"CITEREFScott1995\\\"] = 1,\\n  [\\\"CITEREFSingh2012\\\"] = 1,\\n  [\\\"CITEREFSolomon\\\"] = 1,\\n  [\\\"CITEREFSoteriou2012\\\"] = 1,\\n  [\\\"CITEREFTelotte2008\\\"] = 1,\\n  [\\\"CITEREFThomas1994\\\"] = 1,\\n  [\\\"CITEREFThomasJohnston1995\\\"] = 1,\\n  [\\\"CITEREFTomlinson2001\\\"] = 1,\\n  [\\\"CITEREFWatts1995\\\"] = 1,\\n  [\\\"CITEREFWatts2013\\\"] = 1,\\n  [\\\"CITEREFWilliamsDenneyDenney2004\\\"] = 1,\\n  [\\\"CITEREFWinter1997\\\"] = 1,\\n  [\\\"CITEREFWithrow2009\\\"] = 1,\\n}\\ntemplate_list = table#1 {\\n  [\\\"1986 Television Hall of Fame\\\"] = 1,\\n  [\\\"About\\\"] = 1,\\n  [\\\"Academy Honorary Award\\\"] = 1,\\n  [\\\"Authority control\\\"] = 1,\\n  [\\\"Birth date\\\"] = 1,\\n  [\\\"CURRENTYEAR\\\"] = 5,\\n  [\\\"Cecil B. DeMille Award 1952–1975\\\"] = 1,\\n  [\\\"Circa\\\"] = 1,\\n  [\\\"Cite AV media\\\"] = 5,\\n  [\\\"Cite book\\\"] = 29,\\n  [\\\"Cite journal\\\"] = 4,\\n  [\\\"Cite news\\\"] = 32,\\n  [\\\"Cite web\\\"] = 39,\\n  [\\\"Convert\\\"] = 1,\\n  [\\\"DEFAULTSORT:Disney, Walt\\\"] = 1,\\n  [\\\"Death date and age\\\"] = 1,\\n  [\\\"Disney\\\"] = 1,\\n  [\\\"Disneyland Resort\\\"] = 1,\\n  [\\\"Efn\\\"] = 28,\\n  [\\\"Featured article\\\"] = 1,\\n  [\\\"Flatlist\\\"] = 1,\\n  [\\\"Formatnum:{{Inflation\\\"] = 5,\\n  [\\\"Honorary César\\\"] = 1,\\n  [\\\"IMDb name\\\"] = 1,\\n  [\\\"IPAc-en\\\"] = 1,\\n  [\\\"Inflation\\\"] = 5,\\n  [\\\"Inflation-fn\\\"] = 3,\\n  [\\\"Infobox person\\\"] = 1,\\n  [\\\"Lang\\\"] = 5,\\n  [\\\"Navboxes\\\"] = 1,\\n  [\\\"Nee\\\"] = 1,\\n  [\\\"Nnbsp\\\"] = 1,\\n  [\\\"Not a typo\\\"] = 1,\\n  [\\\"Notes\\\"] = 1,\\n  [\\\"Nsmdns\\\"] = 31,\\n  [\\\"Plainlist\\\"] = 1,\\n  [\\\"Pp-30-500\\\"] = 1,\\n  [\\\"Pp-move-indef\\\"] = 1,\\n  [\\\"Refbegin\\\"] = 1,\\n  [\\\"Refend\\\"] = 1,\\n  [\\\"Reflist\\\"] = 1,\\n  [\\\"S-aft\\\"] = 1,\\n  [\\\"S-bef\\\"] = 1,\\n  [\\\"S-end\\\"] = 1,\\n  [\\\"S-start\\\"] = 1,\\n  [\\\"S-ttl\\\"] = 1,\\n  [\\\"See also\\\"] = 1,\\n  [\\\"Sfn\\\"] = 146,\\n  [\\\"Sfnm\\\"] = 20,\\n  [\\\"Short description\\\"] = 1,\\n  [\\\"Snds\\\"] = 1,\\n  [\\\"Subject bar\\\"] = 1,\\n  [\\\"Subscription\\\"] = 3,\\n  [\\\"Tcmdb name\\\"] = 1,\\n  [\\\"Thalberg Award\\\"] = 1,\\n  [\\\"The Interviews people\\\"] = 1,\\n  [\\\"Use American English\\\"] = 1,\\n  [\\\"Use mdy dates\\\"] = 1,\\n  [\\\"Winsor McCay Award 1970s\\\"] = 1,\\n  [\\\"Worldcat id\\\"] = 1,\\n}\\narticle_whitelist = table#1 {\\n}\\n\",\"limitreport-profile\":[[\"Scribunto_LuaSandboxCallback::callParserFunction\",\"360\",\"17.6\"],[\"?\",\"300\",\"14.7\"],[\"recursiveClone \\u003CmwInit.lua:41\\u003E\",\"200\",\"9.8\"],[\"Scribunto_LuaSandboxCallback::getExpandedArgument\",\"180\",\"8.8\"],[\"Scribunto_LuaSandboxCallback::getEntity\",\"100\",\"4.9\"],[\"Scribunto_LuaSandboxCallback::anchorEncode\",\"60\",\"2.9\"],[\"dataWrapper \\u003Cmw.lua:668\\u003E\",\"60\",\"2.9\"],[\"(for generator)\",\"60\",\"2.9\"],[\"Scribunto_LuaSandboxCallback::getEntityStatements\",\"60\",\"2.9\"],[\"\\u003Cmw.lua:690\\u003E\",\"40\",\"2.0\"],[\"[others]\",\"620\",\"30.4\"]]},\"cachereport\":{\"origin\":\"mw1330\",\"timestamp\":\"20210401002751\",\"ttl\":86400,\"transientcontent\":true}}});});</script>\n",
       "<script type=\"application/ld+json\">{\"@context\":\"https:\\/\\/schema.org\",\"@type\":\"Article\",\"name\":\"Walt Disney\",\"url\":\"https:\\/\\/en.wikipedia.org\\/wiki\\/Walt_Disney\",\"sameAs\":\"http:\\/\\/www.wikidata.org\\/entity\\/Q8704\",\"mainEntity\":\"http:\\/\\/www.wikidata.org\\/entity\\/Q8704\",\"author\":{\"@type\":\"Organization\",\"name\":\"Contributors to Wikimedia projects\"},\"publisher\":{\"@type\":\"Organization\",\"name\":\"Wikimedia Foundation, Inc.\",\"logo\":{\"@type\":\"ImageObject\",\"url\":\"https:\\/\\/www.wikimedia.org\\/static\\/images\\/wmf-hor-googpub.png\"}},\"datePublished\":\"2001-10-07T20:36:47Z\",\"dateModified\":\"2021-03-25T06:16:31Z\",\"image\":\"https:\\/\\/upload.wikimedia.org\\/wikipedia\\/commons\\/d\\/df\\/Walt_Disney_1946.JPG\",\"headline\":\"American film producer and businessman (1901-1966)\"}</script>\n",
       "<script>(RLQ=window.RLQ||[]).push(function(){mw.config.set({\"wgBackendResponseTime\":287,\"wgHostname\":\"mw1329\"});});</script>\n",
       "</body></html>"
      ]
     },
     "metadata": {},
     "execution_count": 27
    }
   ],
   "source": [
    "# This is the url you will scrape in this exercise\n",
    "url = 'https://en.wikipedia.org/wiki/Walt_Disney'\n",
    "html = requests.get(url).content\n",
    "soup = BeautifulSoup(html, \"lxml\")\n",
    "soup"
   ]
  },
  {
   "cell_type": "code",
   "execution_count": 46,
   "metadata": {},
   "outputs": [
    {
     "output_type": "execute_result",
     "data": {
      "text/plain": [
       "['upload.wikimedia.org/wikipedia/commons/thumb/d/df/Walt_Disney_1946.JPG/220px-Walt_Disney_1946.JPG',\n",
       " 'upload.wikimedia.org/wikipedia/commons/thumb/8/87/Walt_Disney_1942_signature.svg/150px-Walt_Disney_1942_signature.svg.png',\n",
       " 'upload.wikimedia.org/wikipedia/commons/thumb/c/c4/Walt_Disney_envelope_ca._1921.jpg/220px-Walt_Disney_envelope_ca._1921.jpg',\n",
       " 'upload.wikimedia.org/wikipedia/commons/thumb/0/0d/Trolley_Troubles_poster.jpg/170px-Trolley_Troubles_poster.jpg',\n",
       " 'upload.wikimedia.org/wikipedia/commons/thumb/7/71/Walt_Disney_and_his_cartoon_creation_%22Mickey_Mouse%22_-_National_Board_of_Review_Magazine.jpg/170px-Walt_Disney_and_his_cartoon_creation_%22Mickey_Mouse%22_-_National_Board_of_Review_Magazine.jpg',\n",
       " 'upload.wikimedia.org/wikipedia/en/thumb/4/4e/Steamboat-willie.jpg/170px-Steamboat-willie.jpg',\n",
       " 'upload.wikimedia.org/wikipedia/commons/thumb/5/57/Walt_Disney_1935.jpg/170px-Walt_Disney_1935.jpg',\n",
       " 'upload.wikimedia.org/wikipedia/commons/thumb/c/cd/Walt_Disney_Snow_white_1937_trailer_screenshot_%2813%29.jpg/220px-Walt_Disney_Snow_white_1937_trailer_screenshot_%2813%29.jpg',\n",
       " 'upload.wikimedia.org/wikipedia/commons/thumb/1/15/Disney_drawing_goofy.jpg/170px-Disney_drawing_goofy.jpg',\n",
       " 'upload.wikimedia.org/wikipedia/commons/thumb/1/13/DisneySchiphol1951.jpg/220px-DisneySchiphol1951.jpg',\n",
       " 'upload.wikimedia.org/wikipedia/commons/thumb/8/8c/WaltDisneyplansDisneylandDec1954.jpg/220px-WaltDisneyplansDisneylandDec1954.jpg',\n",
       " 'upload.wikimedia.org/wikipedia/commons/thumb/f/ff/Walt_disney_portrait_right.jpg/170px-Walt_disney_portrait_right.jpg',\n",
       " 'upload.wikimedia.org/wikipedia/commons/thumb/1/1a/Walt_Disney_Grave.JPG/170px-Walt_Disney_Grave.JPG',\n",
       " 'upload.wikimedia.org/wikipedia/commons/thumb/2/2d/Roy_O._Disney_with_Company_at_Press_Conference.jpg/170px-Roy_O._Disney_with_Company_at_Press_Conference.jpg',\n",
       " 'upload.wikimedia.org/wikipedia/commons/thumb/a/a9/Disney_Display_Case.JPG/170px-Disney_Display_Case.JPG',\n",
       " 'upload.wikimedia.org/wikipedia/commons/thumb/6/6c/Disney1968.jpg/170px-Disney1968.jpg',\n",
       " 'upload.wikimedia.org/wikipedia/commons/thumb/e/e3/Disneyland_Resort_logo.svg/135px-Disneyland_Resort_logo.svg.png',\n",
       " 'upload.wikimedia.org/wikipedia/commons/thumb/d/da/Animation_disc.svg/30px-Animation_disc.svg.png',\n",
       " 'upload.wikimedia.org/wikipedia/en/thumb/6/69/P_vip.svg/29px-P_vip.svg.png',\n",
       " 'upload.wikimedia.org/wikipedia/commons/thumb/1/1a/Magic_Kingdom_castle.jpg/24px-Magic_Kingdom_castle.jpg',\n",
       " 'upload.wikimedia.org/wikipedia/en/thumb/e/e7/Video-x-generic.svg/30px-Video-x-generic.svg.png',\n",
       " 'upload.wikimedia.org/wikipedia/commons/thumb/a/a3/Flag_of_Los_Angeles_County%2C_California.svg/30px-Flag_of_Los_Angeles_County%2C_California.svg.png',\n",
       " 'upload.wikimedia.org/wikipedia/commons/thumb/8/8c/Blank_television_set.svg/30px-Blank_television_set.svg.png',\n",
       " 'upload.wikimedia.org/wikipedia/en/thumb/a/a4/Flag_of_the_United_States.svg/30px-Flag_of_the_United_States.svg.png']"
      ]
     },
     "metadata": {},
     "execution_count": 46
    }
   ],
   "source": [
    "#your code\n",
    "\n",
    "rawimgs = soup.find_all('a', class_='image')\n",
    "#imgs_links = ['https://en.wikipedia.org/' + i['href'] for i in rawimgs]\n",
    "imgs_links = [i.select('img')[0]['src'][2:] for i in rawimgs]\n",
    "imgs_links\n"
   ]
  },
  {
   "cell_type": "code",
   "execution_count": 38,
   "metadata": {},
   "outputs": [
    {
     "output_type": "stream",
     "name": "stdout",
     "text": [
      "Collecting Pillow\n",
      "  Downloading Pillow-8.2.0-cp38-cp38-win_amd64.whl (2.2 MB)\n",
      "Installing collected packages: Pillow\n",
      "  Attempting uninstall: Pillow\n",
      "    Found existing installation: Pillow 7.2.0\n",
      "    Uninstalling Pillow-7.2.0:\n",
      "      Successfully uninstalled Pillow-7.2.0\n",
      "ERROR: Could not install packages due to an EnvironmentError: [WinError 5] Acceso denegado: 'C:\\\\Users\\\\Eduardo\\\\anaconda3\\\\Lib\\\\site-packages\\\\~il\\\\_imaging.cp38-win_amd64.pyd'\n",
      "Consider using the `--user` option or check the permissions.\n",
      "\n"
     ]
    }
   ],
   "source": [
    "!{sys.executable} -m pip install --upgrade Pillow"
   ]
  },
  {
   "cell_type": "markdown",
   "metadata": {},
   "source": [
    "#### Retrieve an arbitary Wikipedia page of \"Python\" and create a list of links on that page"
   ]
  },
  {
   "cell_type": "code",
   "execution_count": 47,
   "metadata": {},
   "outputs": [
    {
     "output_type": "execute_result",
     "data": {
      "text/plain": [
       "edirector?utm_source=donate&amp;utm_medium=sidebar&amp;utm_campaign=C13_en.wikipedia.org&amp;uselang=en\" title=\"Support us by donating to the Wikimedia Foundation\">Donate</a></li></ul>\n",
       "</div>\n",
       "</nav>\n",
       "<!-- Please do not use role attribute as CSS selector, it is deprecated. -->\n",
       "<nav aria-labelledby=\"p-interaction-label\" class=\"mw-portlet mw-portlet-interaction vector-menu vector-menu-portal portal\" id=\"p-interaction\" role=\"navigation\">\n",
       "<h3 class=\"vector-menu-heading\" id=\"p-interaction-label\">\n",
       "<span>Contribute</span>\n",
       "</h3>\n",
       "<div class=\"vector-menu-content\">\n",
       "<ul class=\"vector-menu-content-list\"><li id=\"n-help\"><a href=\"/wiki/Help:Contents\" title=\"Guidance on how to use and edit Wikipedia\">Help</a></li><li id=\"n-introduction\"><a href=\"/wiki/Help:Introduction\" title=\"Learn how to edit Wikipedia\">Learn to edit</a></li><li id=\"n-portal\"><a href=\"/wiki/Wikipedia:Community_portal\" title=\"The hub for editors\">Community portal</a></li><li id=\"n-recentchanges\"><a accesskey=\"r\" href=\"/wiki/Special:RecentChanges\" title=\"A list of recent changes to Wikipedia [r]\">Recent changes</a></li><li id=\"n-upload\"><a href=\"/wiki/Wikipedia:File_Upload_Wizard\" title=\"Add images or other media for use on Wikipedia\">Upload file</a></li></ul>\n",
       "</div>\n",
       "</nav>\n",
       "<!-- Please do not use role attribute as CSS selector, it is deprecated. -->\n",
       "<nav aria-labelledby=\"p-tb-label\" class=\"mw-portlet mw-portlet-tb vector-menu vector-menu-portal portal\" id=\"p-tb\" role=\"navigation\">\n",
       "<h3 class=\"vector-menu-heading\" id=\"p-tb-label\">\n",
       "<span>Tools</span>\n",
       "</h3>\n",
       "<div class=\"vector-menu-content\">\n",
       "<ul class=\"vector-menu-content-list\"><li id=\"t-whatlinkshere\"><a accesskey=\"j\" href=\"/wiki/Special:WhatLinksHere/Python\" title=\"List of all English Wikipedia pages containing links to this page [j]\">What links here</a></li><li id=\"t-recentchangeslinked\"><a accesskey=\"k\" href=\"/wiki/Special:RecentChangesLinked/Python\" rel=\"nofollow\" title=\"Recent changes in pages linked from this page [k]\">Related changes</a></li><li id=\"t-upload\"><a accesskey=\"u\" href=\"/wiki/Wikipedia:File_Upload_Wizard\" title=\"Upload files [u]\">Upload file</a></li><li id=\"t-specialpages\"><a accesskey=\"q\" href=\"/wiki/Special:SpecialPages\" title=\"A list of all special pages [q]\">Special pages</a></li><li id=\"t-permalink\"><a href=\"/w/index.php?title=Python&amp;oldid=997582414\" title=\"Permanent link to this revision of this page\">Permanent link</a></li><li id=\"t-info\"><a href=\"/w/index.php?title=Python&amp;action=info\" title=\"More information about this page\">Page information</a></li><li id=\"t-cite\"><a href=\"/w/index.php?title=Special:CiteThisPage&amp;page=Python&amp;id=997582414&amp;wpFormIdentifier=titleform\" title=\"Information on how to cite this page\">Cite this page</a></li><li id=\"t-wikibase\"><a accesskey=\"g\" href=\"https://www.wikidata.org/wiki/Special:EntityPage/Q747452\" title=\"Structured data on this page hosted by Wikidata [g]\">Wikidata item</a></li></ul>\n",
       "</div>\n",
       "</nav>\n",
       "<!-- Please do not use role attribute as CSS selector, it is deprecated. -->\n",
       "<nav aria-labelledby=\"p-coll-print_export-label\" class=\"mw-portlet mw-portlet-coll-print_export vector-menu vector-menu-portal portal\" id=\"p-coll-print_export\" role=\"navigation\">\n",
       "<h3 class=\"vector-menu-heading\" id=\"p-coll-print_export-label\">\n",
       "<span>Print/export</span>\n",
       "</h3>\n",
       "<div class=\"vector-menu-content\">\n",
       "<ul class=\"vector-menu-content-list\"><li id=\"coll-download-as-rl\"><a href=\"/w/index.php?title=Special:DownloadAsPdf&amp;page=Python&amp;action=show-download-screen\" title=\"Download this page as a PDF file\">Download as PDF</a></li><li id=\"t-print\"><a accesskey=\"p\" href=\"/w/index.php?title=Python&amp;printable=yes\" title=\"Printable version of this page [p]\">Printable version</a></li></ul>\n",
       "</div>\n",
       "</nav>\n",
       "<!-- Please do not use role attribute as CSS selector, it is deprecated. -->\n",
       "<nav aria-labelledby=\"p-wikibase-otherprojects-label\" class=\"mw-portlet mw-portlet-wikibase-otherprojects vector-menu vector-menu-portal portal\" id=\"p-wikibase-otherprojects\" role=\"navigation\">\n",
       "<h3 class=\"vector-menu-heading\" id=\"p-wikibase-otherprojects-label\">\n",
       "<span>In other projects</span>\n",
       "</h3>\n",
       "<div class=\"vector-menu-content\">\n",
       "<ul class=\"vector-menu-content-list\"><li class=\"wb-otherproject-link wb-otherproject-commons\"><a href=\"https://commons.wikimedia.org/wiki/Category:Python\" hreflang=\"en\">Wikimedia Commons</a></li></ul>\n",
       "</div>\n",
       "</nav>\n",
       "<!-- Please do not use role attribute as CSS selector, it is deprecated. -->\n",
       "<nav aria-labelledby=\"p-lang-label\" class=\"mw-portlet mw-portlet-lang vector-menu vector-menu-portal portal\" id=\"p-lang\" role=\"navigation\">\n",
       "<h3 class=\"vector-menu-heading\" id=\"p-lang-label\">\n",
       "<span>Languages</span>\n",
       "</h3>\n",
       "<div class=\"vector-menu-content\">\n",
       "<ul class=\"vector-menu-content-list\"><li class=\"interlanguage-link interwiki-af\"><a class=\"interlanguage-link-target\" href=\"https://af.wikipedia.org/wiki/Python\" hreflang=\"af\" lang=\"af\" title=\"Python – Afrikaans\">Afrikaans</a></li><li class=\"interlanguage-link interwiki-als\"><a class=\"interlanguage-link-target\" href=\"https://als.wikipedia.org/wiki/Python\" hreflang=\"gsw\" lang=\"gsw\" title=\"Python – Alemannisch\">Alemannisch</a></li><li class=\"interlanguage-link interwiki-ar\"><a class=\"interlanguage-link-target\" href=\"https://ar.wikipedia.org/wiki/%D8%A8%D8%A7%D9%8A%D8%AB%D9%88%D9%86_(%D8%AA%D9%88%D8%B6%D9%8A%D8%AD)\" hreflang=\"ar\" lang=\"ar\" title=\"بايثون (توضيح) – Arabic\">العربية</a></li><li class=\"interlanguage-link interwiki-az\"><a class=\"interlanguage-link-target\" href=\"https://az.wikipedia.org/wiki/Python\" hreflang=\"az\" lang=\"az\" title=\"Python – Azerbaijani\">Azərbaycanca</a></li><li class=\"interlanguage-link interwiki-bn\"><a class=\"interlanguage-link-target\" href=\"https://bn.wikipedia.org/wiki/%E0%A6%AA%E0%A6%BE%E0%A6%87%E0%A6%A5%E0%A6%A8_(%E0%A6%A6%E0%A7%8D%E0%A6%AC%E0%A7%8D%E0%A6%AF%E0%A6%B0%E0%A7%8D%E0%A6%A5%E0%A6%A4%E0%A6%BE_%E0%A6%A8%E0%A6%BF%E0%A6%B0%E0%A6%B8%E0%A6%A8)\" hreflang=\"bn\" lang=\"bn\" title=\"পাইথন (দ্ব্যর্থতা নিরসন) – Bangla\">বাংলা</a></li><li class=\"interlanguage-link interwiki-be\"><a class=\"interlanguage-link-target\" href=\"https://be.wikipedia.org/wiki/Python\" hreflang=\"be\" lang=\"be\" title=\"Python – Belarusian\">Беларуская</a></li><li class=\"interlanguage-link interwiki-bg\"><a class=\"interlanguage-link-target\" href=\"https://bg.wikipedia.org/wiki/%D0%9F%D0%B8%D1%82%D0%BE%D0%BD_(%D0%BF%D0%BE%D1%8F%D1%81%D0%BD%D0%B5%D0%BD%D0%B8%D0%B5)\" hreflang=\"bg\" lang=\"bg\" title=\"Питон (пояснение) – Bulgarian\">Български</a></li><li class=\"interlanguage-link interwiki-cs\"><a class=\"interlanguage-link-target\" href=\"https://cs.wikipedia.org/wiki/Python_(rozcestn%C3%ADk)\" hreflang=\"cs\" lang=\"cs\" title=\"Python (rozcestník) – Czech\">Čeština</a></li><li class=\"interlanguage-link interwiki-da\"><a class=\"interlanguage-link-target\" href=\"https://da.wikipedia.org/wiki/Python\" hreflang=\"da\" lang=\"da\" title=\"Python – Danish\">Dansk</a></li><li class=\"interlanguage-link interwiki-de\"><a class=\"interlanguage-link-target\" href=\"https://de.wikipedia.org/wiki/Python\" hreflang=\"de\" lang=\"de\" title=\"Python – German\">Deutsch</a></li><li class=\"interlanguage-link interwiki-eo\"><a class=\"interlanguage-link-target\" href=\"https://eo.wikipedia.org/wiki/Pitono_(apartigilo)\" hreflang=\"eo\" lang=\"eo\" title=\"Pitono (apartigilo) – Esperanto\">Esperanto</a></li><li class=\"interlanguage-link interwiki-eu\"><a class=\"interlanguage-link-target\" href=\"https://eu.wikipedia.org/wiki/Python_(argipena)\" hreflang=\"eu\" lang=\"eu\" title=\"Python (argipena) – Basque\">Euskara</a></li><li class=\"interlanguage-link interwiki-fa\"><a class=\"interlanguage-link-target\" href=\"https://fa.wikipedia.org/wiki/%D9%BE%D8%A7%DB%8C%D8%AA%D9%88%D9%86\" hreflang=\"fa\" lang=\"fa\" title=\"پایتون – Persian\">فارسی</a></li><li class=\"interlanguage-link interwiki-fr\"><a class=\"interlanguage-link-target\" href=\"https://fr.wikipedia.org/wiki/Python\" hreflang=\"fr\" lang=\"fr\" title=\"Python – French\">Français</a></li><li class=\"interlanguage-link interwiki-ko\"><a class=\"interlanguage-link-target\" href=\"https://ko.wikipedia.org/wiki/%ED%8C%8C%EC%9D%B4%EC%84%A0\" hreflang=\"ko\" lang=\"ko\" title=\"파이선 – Korean\">한국어</a></li><li class=\"interlanguage-link interwiki-hr\"><a class=\"interlanguage-link-target\" href=\"https://hr.wikipedia.org/wiki/Python_(razdvojba)\" hreflang=\"hr\" lang=\"hr\" title=\"Python (razdvojba) – Croatian\">Hrvatski</a></li><li class=\"interlanguage-link interwiki-io\"><a class=\"interlanguage-link-target\" href=\"https://io.wikipedia.org/wiki/Pitono\" hreflang=\"io\" lang=\"io\" title=\"Pitono – Ido\">Ido</a></li><li class=\"interlanguage-link interwiki-id\"><a class=\"interlanguage-link-target\" href=\"https://id.wikipedia.org/wiki/Python\" hreflang=\"id\" lang=\"id\" title=\"Python – Indonesian\">Bahasa Indonesia</a></li><li class=\"interlanguage-link interwiki-ia\"><a class=\"interlanguage-link-target\" href=\"https://ia.wikipedia.org/wiki/Python_(disambiguation)\" hreflang=\"ia\" lang=\"ia\" title=\"Python (disambiguation) – Interlingua\">Interlingua</a></li><li class=\"interlanguage-link interwiki-is\"><a class=\"interlanguage-link-target\" href=\"https://is.wikipedia.org/wiki/Python_(a%C3%B0greining)\" hreflang=\"is\" lang=\"is\" title=\"Python (aðgreining) – Icelandic\">Íslenska</a></li><li class=\"interlanguage-link interwiki-it\"><a class=\"interlanguage-link-target\" href=\"https://it.wikipedia.org/wiki/Python_(disambigua)\" hreflang=\"it\" lang=\"it\" title=\"Python (disambigua) – Italian\">Italiano</a></li><li class=\"interlanguage-link interwiki-he\"><a class=\"interlanguage-link-target\" href=\"https://he.wikipedia.org/wiki/%D7%A4%D7%99%D7%AA%D7%95%D7%9F\" hreflang=\"he\" lang=\"he\" title=\"פיתון – Hebrew\">עברית</a></li><li class=\"interlanguage-link interwiki-ka\"><a class=\"interlanguage-link-target\" href=\"https://ka.wikipedia.org/wiki/%E1%83%9E%E1%83%98%E1%83%97%E1%83%9D%E1%83%9C%E1%83%98_(%E1%83%9B%E1%83%A0%E1%83%90%E1%83%95%E1%83%90%E1%83%9A%E1%83%9B%E1%83%9C%E1%83%98%E1%83%A8%E1%83%95%E1%83%9C%E1%83%94%E1%83%9A%E1%83%9D%E1%83%95%E1%83%90%E1%83%9C%E1%83%98)\" hreflang=\"ka\" lang=\"ka\" title=\"პითონი (მრავალმნიშვნელოვანი) – Georgian\">ქართული</a></li><li class=\"interlanguage-link interwiki-kg\"><a class=\"interlanguage-link-target\" href=\"https://kg.wikipedia.org/wiki/Mboma_(nyoka)\" hreflang=\"kg\" lang=\"kg\" title=\"Mboma (nyoka) – Kongo\">Kongo</a></li><li class=\"interlanguage-link interwiki-la\"><a class=\"interlanguage-link-target\" href=\"https://la.wikipedia.org/wiki/Python_(discretiva)\" hreflang=\"la\" lang=\"la\" title=\"Python (discretiva) – Latin\">Latina</a></li><li class=\"interlanguage-link interwiki-lb\"><a class=\"interlanguage-link-target\" href=\"https://lb.wikipedia.org/wiki/Python\" hreflang=\"lb\" lang=\"lb\" title=\"Python – Luxembourgish\">Lëtzebuergesch</a></li><li class=\"interlanguage-link interwiki-hu\"><a class=\"interlanguage-link-target\" href=\"https://hu.wikipedia.org/wiki/Python_(egy%C3%A9rtelm%C5%B1s%C3%ADt%C5%91_lap)\" hreflang=\"hu\" lang=\"hu\" title=\"Python (egyértelműsítő lap) – Hungarian\">Magyar</a></li><li class=\"interlanguage-link interwiki-mr\"><a class=\"interlanguage-link-target\" href=\"https://mr.wikipedia.org/wiki/%E0%A4%AA%E0%A4%BE%E0%A4%AF%E0%A4%A5%E0%A5%89%E0%A4%A8_(%E0%A4%86%E0%A4%9C%E0%A5%8D%E0%A4%9E%E0%A4%BE%E0%A4%B5%E0%A4%B2%E0%A5%80_%E0%A4%AD%E0%A4%BE%E0%A4%B7%E0%A4%BE)\" hreflang=\"mr\" lang=\"mr\" title=\"पायथॉन (आज्ञावली भाषा) – Marathi\">मराठी</a></li><li class=\"interlanguage-link interwiki-nl\"><a class=\"interlanguage-link-target\" href=\"https://nl.wikipedia.org/wiki/Python\" hreflang=\"nl\" lang=\"nl\" title=\"Python – Dutch\">Nederlands</a></li><li class=\"interlanguage-link interwiki-ja\"><a class=\"interlanguage-link-target\" href=\"https://ja.wikipedia.org/wiki/%E3%83%91%E3%82%A4%E3%82%BD%E3%83%B3\" hreflang=\"ja\" lang=\"ja\" title=\"パイソン – Japanese\">日本語</a></li><li class=\"interlanguage-link interwiki-no\"><a class=\"interlanguage-link-target\" href=\"https://no.wikipedia.org/wiki/Pyton\" hreflang=\"nb\" lang=\"nb\" title=\"Pyton – Norwegian Bokmål\">Norsk bokmål</a></li><li class=\"interlanguage-link interwiki-pl\"><a class=\"interlanguage-link-target\" href=\"https://pl.wikipedia.org/wiki/Pyton\" hreflang=\"pl\" lang=\"pl\" title=\"Pyton – Polish\">Polski</a></li><li class=\"interlanguage-link interwiki-pt\"><a class=\"interlanguage-link-target\" href=\"https://pt.wikipedia.org/wiki/Python_(desambigua%C3%A7%C3%A3o)\" hreflang=\"pt\" lang=\"pt\" title=\"Python (desambiguação) – Portuguese\">Português</a></li><li class=\"interlanguage-link interwiki-ru\"><a class=\"interlanguage-link-target\" href=\"https://ru.wikipedia.org/wiki/Python_(%D0%B7%D0%BD%D0%B0%D1%87%D0%B5%D0%BD%D0%B8%D1%8F)\" hreflang=\"ru\" lang=\"ru\" title=\"Python (значения) – Russian\">Русский</a></li><li class=\"interlanguage-link interwiki-sk\"><a class=\"interlanguage-link-target\" href=\"https://sk.wikipedia.org/wiki/Python\" hreflang=\"sk\" lang=\"sk\" title=\"Python – Slovak\">Slovenčina</a></li><li class=\"interlanguage-link interwiki-sr\"><a class=\"interlanguage-link-target\" href=\"https://sr.wikipedia.org/wiki/%D0%9F%D0%B8%D1%82%D0%BE%D0%BD_(%D0%B2%D0%B8%D1%88%D0%B5%D0%B7%D0%BD%D0%B0%D1%87%D0%BD%D0%B0_%D0%BE%D0%B4%D1%80%D0%B5%D0%B4%D0%BD%D0%B8%D1%86%D0%B0)\" hreflang=\"sr\" lang=\"sr\" title=\"Питон (вишезначна одредница) – Serbian\">Српски / srpski</a></li><li class=\"interlanguage-link interwiki-sh\"><a class=\"interlanguage-link-target\" href=\"https://sh.wikipedia.org/wiki/Python\" hreflang=\"sh\" lang=\"sh\" title=\"Python – Serbo-Croatian\">Srpskohrvatski / српскохрватски</a></li><li class=\"interlanguage-link interwiki-fi\"><a class=\"interlanguage-link-target\" href=\"https://fi.wikipedia.org/wiki/Python\" hreflang=\"fi\" lang=\"fi\" title=\"Python – Finnish\">Suomi</a></li><li class=\"interlanguage-link interwiki-sv\"><a class=\"interlanguage-link-target\" href=\"https://sv.wikipedia.org/wiki/Pyton\" hreflang=\"sv\" lang=\"sv\" title=\"Pyton – Swedish\">Svenska</a></li><li class=\"interlanguage-link interwiki-th\"><a class=\"interlanguage-link-target\" href=\"https://th.wikipedia.org/wiki/%E0%B9%84%E0%B8%9E%E0%B8%97%E0%B8%AD%E0%B8%99\" hreflang=\"th\" lang=\"th\" title=\"ไพทอน – Thai\">ไทย</a></li><li class=\"interlanguage-link interwiki-tr\"><a class=\"interlanguage-link-target\" href=\"https://tr.wikipedia.org/wiki/Python\" hreflang=\"tr\" lang=\"tr\" title=\"Python – Turkish\">Türkçe</a></li><li class=\"interlanguage-link interwiki-uk\"><a class=\"interlanguage-link-target\" href=\"https://uk.wikipedia.org/wiki/%D0%9F%D1%96%D1%84%D0%BE%D0%BD\" hreflang=\"uk\" lang=\"uk\" title=\"Піфон – Ukrainian\">Українська</a></li><li class=\"interlanguage-link interwiki-ur\"><a class=\"interlanguage-link-target\" href=\"https://ur.wikipedia.org/wiki/%D9%BE%D8%A7%D8%A6%DB%8C%D8%AA%DA%BE%D9%88%D9%86\" hreflang=\"ur\" lang=\"ur\" title=\"پائیتھون – Urdu\">اردو</a></li><li class=\"interlanguage-link interwiki-vi\"><a class=\"interlanguage-link-target\" href=\"https://vi.wikipedia.org/wiki/Python\" hreflang=\"vi\" lang=\"vi\" title=\"Python – Vietnamese\">Tiếng Việt</a></li><li class=\"interlanguage-link interwiki-zh\"><a class=\"interlanguage-link-target\" href=\"https://zh.wikipedia.org/wiki/Python_(%E6%B6%88%E6%AD%A7%E4%B9%89)\" hreflang=\"zh\" lang=\"zh\" title=\"Python (消歧义) – Chinese\">中文</a></li></ul>\n",
       "<div class=\"after-portlet after-portlet-lang\"><span class=\"wb-langlinks-edit wb-langlinks-link\"><a class=\"wbc-editpage\" href=\"https://www.wikidata.org/wiki/Special:EntityPage/Q747452#sitelinks-wikipedia\" title=\"Edit interlanguage links\">Edit links</a></span></div>\n",
       "</div>\n",
       "</nav>\n",
       "</div>\n",
       "</div>\n",
       "<footer class=\"mw-footer\" id=\"footer\" role=\"contentinfo\">\n",
       "<ul id=\"footer-info\">\n",
       "<li id=\"footer-info-lastmod\"> This page was last edited on 1 January 2021, at 06:46<span class=\"anonymous-show\"> (UTC)</span>.</li>\n",
       "<li id=\"footer-info-copyright\">Text is available under the <a href=\"//en.wikipedia.org/wiki/Wikipedia:Text_of_Creative_Commons_Attribution-ShareAlike_3.0_Unported_License\" rel=\"license\">Creative Commons Attribution-ShareAlike License</a><a href=\"//creativecommons.org/licenses/by-sa/3.0/\" rel=\"license\" style=\"display:none;\"></a>;\n",
       "additional terms may apply.  By using this site, you agree to the <a href=\"//foundation.wikimedia.org/wiki/Terms_of_Use\">Terms of Use</a> and <a href=\"//foundation.wikimedia.org/wiki/Privacy_policy\">Privacy Policy</a>. Wikipedia® is a registered trademark of the <a href=\"//www.wikimediafoundation.org/\">Wikimedia Foundation, Inc.</a>, a non-profit organization.</li>\n",
       "</ul>\n",
       "<ul id=\"footer-places\">\n",
       "<li id=\"footer-places-privacy\"><a class=\"extiw\" href=\"https://foundation.wikimedia.org/wiki/Privacy_policy\" title=\"wmf:Privacy policy\">Privacy policy</a></li>\n",
       "<li id=\"footer-places-about\"><a href=\"/wiki/Wikipedia:About\" title=\"Wikipedia:About\">About Wikipedia</a></li>\n",
       "<li id=\"footer-places-disclaimer\"><a href=\"/wiki/Wikipedia:General_disclaimer\" title=\"Wikipedia:General disclaimer\">Disclaimers</a></li>\n",
       "<li id=\"footer-places-contact\"><a href=\"//en.wikipedia.org/wiki/Wikipedia:Contact_us\">Contact Wikipedia</a></li>\n",
       "<li id=\"footer-places-mobileview\"><a class=\"noprint stopMobileRedirectToggle\" href=\"//en.m.wikipedia.org/w/index.php?title=Python&amp;mobileaction=toggle_view_mobile\">Mobile view</a></li>\n",
       "<li id=\"footer-places-developers\"><a href=\"https://www.mediawiki.org/wiki/Special:MyLanguage/How_to_contribute\">Developers</a></li>\n",
       "<li id=\"footer-places-statslink\"><a href=\"https://stats.wikimedia.org/#/en.wikipedia.org\">Statistics</a></li>\n",
       "<li id=\"footer-places-cookiestatement\"><a href=\"https://foundation.wikimedia.org/wiki/Cookie_statement\">Cookie statement</a></li>\n",
       "</ul>\n",
       "<ul class=\"noprint\" id=\"footer-icons\">\n",
       "<li id=\"footer-copyrightico\"><a href=\"https://wikimediafoundation.org/\"><img alt=\"Wikimedia Foundation\" height=\"31\" loading=\"lazy\" src=\"/static/images/footer/wikimedia-button.png\" srcset=\"/static/images/footer/wikimedia-button-1.5x.png 1.5x, /static/images/footer/wikimedia-button-2x.png 2x\" width=\"88\"/></a></li>\n",
       "<li id=\"footer-poweredbyico\"><a href=\"https://www.mediawiki.org/\"><img alt=\"Powered by MediaWiki\" height=\"31\" loading=\"lazy\" src=\"/static/images/footer/poweredby_mediawiki_88x31.png\" srcset=\"/static/images/footer/poweredby_mediawiki_132x47.png 1.5x, /static/images/footer/poweredby_mediawiki_176x62.png 2x\" width=\"88\"/></a></li>\n",
       "</ul>\n",
       "</footer>\n",
       "<script>(RLQ=window.RLQ||[]).push(function(){mw.config.set({\"wgPageParseReport\":{\"limitreport\":{\"cputime\":\"0.169\",\"walltime\":\"0.236\",\"ppvisitednodes\":{\"value\":1320,\"limit\":1000000},\"postexpandincludesize\":{\"value\":6878,\"limit\":2097152},\"templateargumentsize\":{\"value\":1622,\"limit\":2097152},\"expansiondepth\":{\"value\":16,\"limit\":40},\"expensivefunctioncount\":{\"value\":1,\"limit\":500},\"unstrip-depth\":{\"value\":0,\"limit\":20},\"unstrip-size\":{\"value\":809,\"limit\":5000000},\"entityaccesscount\":{\"value\":0,\"limit\":400},\"timingprofile\":[\"100.00%  201.069      1 -total\",\" 73.43%  147.636      1 Template:Disambiguation\",\" 39.31%   79.050      1 Template:Dmbox\",\" 19.15%   38.512      4 Template:Main_other\",\" 17.91%   36.018      1 Template:Disambiguation_page_short_description\",\" 16.32%   32.811      1 Template:Wiktionary\",\" 15.99%   32.157      1 Template:Short_description\",\" 14.01%   28.167      1 Template:Sister_project\",\" 13.67%   27.491      1 Template:Category_handler\",\" 12.06%   24.256      1 Template:Side_box\"]},\"scribunto\":{\"limitreport-timeusage\":{\"value\":\"0.039\",\"limit\":\"10.000\"},\"limitreport-memusage\":{\"value\":1425222,\"limit\":52428800}},\"cachereport\":{\"origin\":\"mw1331\",\"timestamp\":\"20210401114949\",\"ttl\":2592000,\"transientcontent\":false}}});});</script>\n",
       "<script type=\"application/ld+json\">{\"@context\":\"https:\\/\\/schema.org\",\"@type\":\"Article\",\"name\":\"Python\",\"url\":\"https:\\/\\/en.wikipedia.org\\/wiki\\/Python\",\"sameAs\":\"http:\\/\\/www.wikidata.org\\/entity\\/Q747452\",\"mainEntity\":\"http:\\/\\/www.wikidata.org\\/entity\\/Q747452\",\"author\":{\"@type\":\"Organization\",\"name\":\"Contributors to Wikimedia projects\"},\"publisher\":{\"@type\":\"Organization\",\"name\":\"Wikimedia Foundation, Inc.\",\"logo\":{\"@type\":\"ImageObject\",\"url\":\"https:\\/\\/www.wikimedia.org\\/static\\/images\\/wmf-hor-googpub.png\"}},\"datePublished\":\"2004-05-11T17:28:52Z\",\"dateModified\":\"2021-01-01T06:46:30Z\",\"headline\":\"Wikimedia disambiguation page\"}</script>\n",
       "<script>(RLQ=window.RLQ||[]).push(function(){mw.config.set({\"wgBackendResponseTime\":139,\"wgHostname\":\"mw1352\"});});</script>\n",
       "</body></html>"
      ]
     },
     "metadata": {},
     "execution_count": 47
    }
   ],
   "source": [
    "# This is the url you will scrape in this exercise\n",
    "url ='https://en.wikipedia.org/wiki/Python' \n",
    "html = requests.get(url).content\n",
    "soup = BeautifulSoup(html, \"lxml\")\n",
    "soup"
   ]
  },
  {
   "cell_type": "code",
   "execution_count": 59,
   "metadata": {},
   "outputs": [
    {
     "output_type": "execute_result",
     "data": {
      "text/plain": [
       "['https://en.wikipedia.org/https://en.wiktionary.org/wiki/Python',\n",
       " 'https://en.wikipedia.org/https://en.wiktionary.org/wiki/python',\n",
       " 'https://en.wikipedia.org//wiki/Pythons',\n",
       " 'https://en.wikipedia.org//wiki/Python_(genus)',\n",
       " 'https://en.wikipedia.org//wiki/Python_(programming_language)',\n",
       " 'https://en.wikipedia.org//wiki/CMU_Common_Lisp',\n",
       " 'https://en.wikipedia.org//wiki/PERQ#PERQ_3',\n",
       " 'https://en.wikipedia.org//wiki/Python_of_Aenus',\n",
       " 'https://en.wikipedia.org//wiki/Python_(painter)',\n",
       " 'https://en.wikipedia.org//wiki/Python_of_Byzantium']"
      ]
     },
     "metadata": {},
     "execution_count": 59
    }
   ],
   "source": [
    "#your code\n",
    "rawlinks = soup.find_all('a')\n",
    "links = ['https://en.wikipedia.org/' + i['href'] for i in rawlinks[1:] if 'wiki' in i['href']]\n",
    "links[:10]"
   ]
  },
  {
   "cell_type": "markdown",
   "metadata": {},
   "source": [
    "#### Number of Titles that have changed in the United States Code since its last release point "
   ]
  },
  {
   "cell_type": "code",
   "execution_count": 60,
   "metadata": {},
   "outputs": [],
   "source": [
    "# This is the url you will scrape in this exercise\n",
    "url = 'http://uscode.house.gov/download/download.shtml'\n",
    "html = requests.get(url).content\n",
    "soup = BeautifulSoup(html, \"lxml\")"
   ]
  },
  {
   "cell_type": "code",
   "execution_count": 75,
   "metadata": {},
   "outputs": [
    {
     "output_type": "execute_result",
     "data": {
      "text/plain": [
       "['Title 1 - General Provisions ٭',\n",
       " 'Title 2 - The Congress',\n",
       " 'Title 3 - The President ٭',\n",
       " 'Title 4 - Flag and Seal, Seat of Government, and the States ٭',\n",
       " 'Title 5 - Government Organization and Employees ٭',\n",
       " 'Title 6 - Domestic Security',\n",
       " 'Title 7 - Agriculture',\n",
       " 'Title 8 - Aliens and Nationality',\n",
       " 'Title 9 - Arbitration ٭',\n",
       " 'Title 11 - Bankruptcy ٭',\n",
       " 'Title 12 - Banks and Banking',\n",
       " 'Title 13 - Census ٭',\n",
       " 'Title 14 - Coast Guard ٭',\n",
       " 'Title 15 - Commerce and Trade',\n",
       " 'Title 16 - Conservation',\n",
       " 'Title 17 - Copyrights ٭',\n",
       " 'Title 18 - Crimes and Criminal Procedure ٭',\n",
       " 'Title 19 - Customs Duties',\n",
       " 'Title 20 - Education',\n",
       " 'Title 21 - Food and Drugs',\n",
       " 'Title 22 - Foreign Relations and Intercourse',\n",
       " 'Title 23 - Highways ٭',\n",
       " 'Title 24 - Hospitals and Asylums',\n",
       " 'Title 25 - Indians',\n",
       " 'Title 26 - Internal Revenue Code',\n",
       " 'Title 27 - Intoxicating Liquors',\n",
       " 'Title 28 - Judiciary and Judicial Procedure ٭',\n",
       " 'Title 29 - Labor',\n",
       " 'Title 30 - Mineral Lands and Mining',\n",
       " 'Title 31 - Money and Finance ٭',\n",
       " 'Title 32 - National Guard ٭',\n",
       " 'Title 33 - Navigation and Navigable Waters',\n",
       " 'Title 34 - Crime Control and Law Enforcement',\n",
       " 'Title 35 - Patents ٭',\n",
       " 'Title 36 - Patriotic and National Observances, Ceremonies, and Organizations ٭',\n",
       " 'Title 37 - Pay and Allowances of the Uniformed Services ٭',\n",
       " 'Title 39 - Postal Service ٭',\n",
       " 'Title 40 - Public Buildings, Property, and Works ٭',\n",
       " 'Title 41 - Public Contracts ٭',\n",
       " 'Title 43 - Public Lands',\n",
       " 'Title 44 - Public Printing and Documents ٭',\n",
       " 'Title 45 - Railroads',\n",
       " 'Title 46 - Shipping ٭',\n",
       " 'Title 47 - Telecommunications',\n",
       " 'Title 48 - Territories and Insular Possessions',\n",
       " 'Title 49 - Transportation ٭',\n",
       " 'Title 51 - National and Commercial Space Programs ٭',\n",
       " 'Title 52 - Voting and Elections',\n",
       " 'Title 53 [Reserved]',\n",
       " 'Title 54 - National Park Service and Related Programs ٭']"
      ]
     },
     "metadata": {},
     "execution_count": 75
    }
   ],
   "source": [
    "#your code\n",
    "\n",
    "rawtitles = soup.find_all('div', class_='usctitle')[2:]\n",
    "titles = [t.text.strip() for t in rawtitles]\n",
    "titles\n"
   ]
  },
  {
   "cell_type": "markdown",
   "metadata": {},
   "source": [
    "#### A Python list with the top ten FBI's Most Wanted names "
   ]
  },
  {
   "cell_type": "code",
   "execution_count": 76,
   "metadata": {},
   "outputs": [],
   "source": [
    "# This is the url you will scrape in this exercise\n",
    "url = 'https://www.fbi.gov/wanted/topten'\n",
    "html = requests.get(url).content\n",
    "soup = BeautifulSoup(html, \"lxml\")"
   ]
  },
  {
   "cell_type": "code",
   "execution_count": 83,
   "metadata": {},
   "outputs": [
    {
     "output_type": "execute_result",
     "data": {
      "text/plain": [
       "['ALEJANDRO ROSALES CASTILLO',\n",
       " 'ARNOLDO JIMENEZ',\n",
       " 'JASON DEREK BROWN',\n",
       " 'ALEXIS FLORES',\n",
       " 'JOSE RODOLFO VILLARREAL-HERNANDEZ',\n",
       " 'EUGENE PALMER',\n",
       " 'RAFAEL CARO-QUINTERO',\n",
       " 'ROBERT WILLIAM FISHER',\n",
       " 'BHADRESHKUMAR CHETANBHAI PATEL',\n",
       " 'YASER ABDEL SAID']"
      ]
     },
     "metadata": {},
     "execution_count": 83
    }
   ],
   "source": [
    "#your code \n",
    "rawfbi = soup.find_all('h3', class_='title')\n",
    "fbi = [ r.select('a')[0].text for r in rawfbi ]\n",
    "fbi"
   ]
  },
  {
   "cell_type": "markdown",
   "metadata": {},
   "source": [
    "####  20 latest earthquakes info (date, time, latitude, longitude and region name) by the EMSC as a pandas dataframe"
   ]
  },
  {
   "cell_type": "code",
   "execution_count": 85,
   "metadata": {},
   "outputs": [],
   "source": [
    "# This is the url you will scrape in this exercise\n",
    "url = 'https://www.emsc-csem.org/Earthquake/'\n",
    "html = requests.get(url).content\n",
    "soup = BeautifulSoup(html, \"lxml\")"
   ]
  },
  {
   "cell_type": "code",
   "execution_count": 131,
   "metadata": {},
   "outputs": [
    {
     "output_type": "execute_result",
     "data": {
      "text/plain": [
       "          date        time latitude longitude                           region\n",
       "0   2021-04-02  04:05:20.7    19.18    155.49         ISLAND OF HAWAII, HAWAII\n",
       "1   2021-04-02  03:42:41.7    34.71     70.93      LIBERTADOR O'HIGGINS, CHILE\n",
       "2   2021-04-02  03:27:27.5    41.53     13.80                   SOUTHERN ITALY\n",
       "3   2021-04-02  03:23:59.7    39.23    120.10              NORTHERN CALIFORNIA\n",
       "4   2021-04-02  03:18:40.6    37.01     42.05  TURKEY-SYRIA-IRAQ BORDER REGION\n",
       "5   2021-04-02  03:17:49.2    39.79     22.11                           GREECE\n",
       "6   2021-04-02  03:08:13.3    27.70     18.06     CANARY ISLANDS, SPAIN REGION\n",
       "7   2021-04-02  03:07:37.2    47.20      9.49                      SWITZERLAND\n",
       "8   2021-04-02  03:06:34.6    16.24    168.06                          VANUATU\n",
       "9   2021-04-02  03:05:25.8    35.48      3.67              STRAIT OF GIBRALTAR\n",
       "10  2021-04-02  02:56:16.3    20.93     69.30                  TARAPACA, CHILE\n",
       "11  2021-04-02  02:52:14.4    33.13    115.67              SOUTHERN CALIFORNIA\n",
       "12  2021-04-02  02:51:00.8    17.93     66.82               PUERTO RICO REGION\n",
       "13  2021-04-02  02:41:41.1    61.86    149.48                  SOUTHERN ALASKA\n",
       "14  2021-04-02  02:39:04.5    45.17     16.13                          CROATIA\n",
       "15  2021-04-02  02:32:31.2    38.16     21.72                           GREECE\n",
       "16  2021-04-02  02:23:23.0    45.32     16.22                          CROATIA\n",
       "17  2021-04-02  02:20:33.1    36.76      7.09              STRAIT OF GIBRALTAR\n",
       "18  2021-04-02  02:13:42.6    40.48     36.88                   CENTRAL TURKEY\n",
       "19  2021-04-02  02:13:12.0    17.75    122.39               LUZON, PHILIPPINES\n",
       "20  2021-04-02  02:06:17.7    60.13    152.01                  SOUTHERN ALASKA\n",
       "21  2021-04-02  02:05:05.8    46.23      7.94                      SWITZERLAND\n",
       "22  2021-04-02  01:56:38.2    63.23    151.19                   CENTRAL ALASKA\n",
       "23  2021-04-02  01:54:18.1    63.25    151.22                   CENTRAL ALASKA\n",
       "24  2021-04-02  01:37:22.5    45.37     15.90                          CROATIA\n",
       "25  2021-04-02  01:09:53.2    38.66      0.40                            SPAIN\n",
       "26  2021-04-02  01:04:21.4    45.55     15.62                          CROATIA\n",
       "27  2021-04-02  00:59:42.2    37.23      3.76                            SPAIN\n",
       "28  2021-04-02  00:57:40.4    45.41     15.84                          CROATIA\n",
       "29  2021-04-02  00:32:31.4    34.75     23.55                    CRETE, GREECE\n",
       "30  2021-04-01  23:57:42.6    38.69      0.39                            SPAIN\n",
       "31  2021-04-01  23:53:58.0    22.00     69.10               ANTOFAGASTA, CHILE\n",
       "32  2021-04-01  23:45:10.0     8.47    126.04            MINDANAO, PHILIPPINES\n",
       "33  2021-04-01  23:41:12.0    12.77     88.74             OFFSHORE EL SALVADOR\n",
       "34  2021-04-01  23:36:45.6    18.03     66.87                      PUERTO RICO\n",
       "35  2021-04-01  23:16:08.3    37.90     27.14                   WESTERN TURKEY\n",
       "36  2021-04-01  22:51:36.6     7.17    129.41       KEPULAUAN BABAR, INDONESIA\n",
       "37  2021-04-01  22:50:39.0     5.57    126.53            MINDANAO, PHILIPPINES\n",
       "38  2021-04-01  22:43:49.0    16.70     99.21                 GUERRERO, MEXICO\n",
       "39  2021-04-01  22:42:10.9    39.18     40.23                   EASTERN TURKEY\n",
       "40  2021-04-01  22:35:54.0    19.28     70.09               DOMINICAN REPUBLIC\n",
       "41  2021-04-01  22:35:39.0    16.82     71.80                    SOUTHERN PERU\n",
       "42  2021-04-01  22:18:59.0    17.65     95.93                   OAXACA, MEXICO\n",
       "43  2021-04-01  22:16:55.2    35.19     26.10                    CRETE, GREECE\n",
       "44  2021-04-01  22:16:45.0    19.56    104.05                  JALISCO, MEXICO\n",
       "45  2021-04-01  22:12:05.4    37.77    178.22  OFF E. COAST OF N. ISLAND, N.Z.\n",
       "46  2021-04-01  22:10:34.0     8.53    126.78            MINDANAO, PHILIPPINES\n",
       "47  2021-04-01  22:10:10.6    30.02    177.57    KERMADEC ISLANDS, NEW ZEALAND\n",
       "48  2021-04-01  22:06:59.4    19.20    155.48         ISLAND OF HAWAII, HAWAII\n",
       "49  2021-04-01  22:06:51.3    27.55     59.97                SOUTHEASTERN IRAN"
      ],
      "text/html": "<div>\n<style scoped>\n    .dataframe tbody tr th:only-of-type {\n        vertical-align: middle;\n    }\n\n    .dataframe tbody tr th {\n        vertical-align: top;\n    }\n\n    .dataframe thead th {\n        text-align: right;\n    }\n</style>\n<table border=\"1\" class=\"dataframe\">\n  <thead>\n    <tr style=\"text-align: right;\">\n      <th></th>\n      <th>date</th>\n      <th>time</th>\n      <th>latitude</th>\n      <th>longitude</th>\n      <th>region</th>\n    </tr>\n  </thead>\n  <tbody>\n    <tr>\n      <th>0</th>\n      <td>2021-04-02</td>\n      <td>04:05:20.7</td>\n      <td>19.18</td>\n      <td>155.49</td>\n      <td>ISLAND OF HAWAII, HAWAII</td>\n    </tr>\n    <tr>\n      <th>1</th>\n      <td>2021-04-02</td>\n      <td>03:42:41.7</td>\n      <td>34.71</td>\n      <td>70.93</td>\n      <td>LIBERTADOR O'HIGGINS, CHILE</td>\n    </tr>\n    <tr>\n      <th>2</th>\n      <td>2021-04-02</td>\n      <td>03:27:27.5</td>\n      <td>41.53</td>\n      <td>13.80</td>\n      <td>SOUTHERN ITALY</td>\n    </tr>\n    <tr>\n      <th>3</th>\n      <td>2021-04-02</td>\n      <td>03:23:59.7</td>\n      <td>39.23</td>\n      <td>120.10</td>\n      <td>NORTHERN CALIFORNIA</td>\n    </tr>\n    <tr>\n      <th>4</th>\n      <td>2021-04-02</td>\n      <td>03:18:40.6</td>\n      <td>37.01</td>\n      <td>42.05</td>\n      <td>TURKEY-SYRIA-IRAQ BORDER REGION</td>\n    </tr>\n    <tr>\n      <th>5</th>\n      <td>2021-04-02</td>\n      <td>03:17:49.2</td>\n      <td>39.79</td>\n      <td>22.11</td>\n      <td>GREECE</td>\n    </tr>\n    <tr>\n      <th>6</th>\n      <td>2021-04-02</td>\n      <td>03:08:13.3</td>\n      <td>27.70</td>\n      <td>18.06</td>\n      <td>CANARY ISLANDS, SPAIN REGION</td>\n    </tr>\n    <tr>\n      <th>7</th>\n      <td>2021-04-02</td>\n      <td>03:07:37.2</td>\n      <td>47.20</td>\n      <td>9.49</td>\n      <td>SWITZERLAND</td>\n    </tr>\n    <tr>\n      <th>8</th>\n      <td>2021-04-02</td>\n      <td>03:06:34.6</td>\n      <td>16.24</td>\n      <td>168.06</td>\n      <td>VANUATU</td>\n    </tr>\n    <tr>\n      <th>9</th>\n      <td>2021-04-02</td>\n      <td>03:05:25.8</td>\n      <td>35.48</td>\n      <td>3.67</td>\n      <td>STRAIT OF GIBRALTAR</td>\n    </tr>\n    <tr>\n      <th>10</th>\n      <td>2021-04-02</td>\n      <td>02:56:16.3</td>\n      <td>20.93</td>\n      <td>69.30</td>\n      <td>TARAPACA, CHILE</td>\n    </tr>\n    <tr>\n      <th>11</th>\n      <td>2021-04-02</td>\n      <td>02:52:14.4</td>\n      <td>33.13</td>\n      <td>115.67</td>\n      <td>SOUTHERN CALIFORNIA</td>\n    </tr>\n    <tr>\n      <th>12</th>\n      <td>2021-04-02</td>\n      <td>02:51:00.8</td>\n      <td>17.93</td>\n      <td>66.82</td>\n      <td>PUERTO RICO REGION</td>\n    </tr>\n    <tr>\n      <th>13</th>\n      <td>2021-04-02</td>\n      <td>02:41:41.1</td>\n      <td>61.86</td>\n      <td>149.48</td>\n      <td>SOUTHERN ALASKA</td>\n    </tr>\n    <tr>\n      <th>14</th>\n      <td>2021-04-02</td>\n      <td>02:39:04.5</td>\n      <td>45.17</td>\n      <td>16.13</td>\n      <td>CROATIA</td>\n    </tr>\n    <tr>\n      <th>15</th>\n      <td>2021-04-02</td>\n      <td>02:32:31.2</td>\n      <td>38.16</td>\n      <td>21.72</td>\n      <td>GREECE</td>\n    </tr>\n    <tr>\n      <th>16</th>\n      <td>2021-04-02</td>\n      <td>02:23:23.0</td>\n      <td>45.32</td>\n      <td>16.22</td>\n      <td>CROATIA</td>\n    </tr>\n    <tr>\n      <th>17</th>\n      <td>2021-04-02</td>\n      <td>02:20:33.1</td>\n      <td>36.76</td>\n      <td>7.09</td>\n      <td>STRAIT OF GIBRALTAR</td>\n    </tr>\n    <tr>\n      <th>18</th>\n      <td>2021-04-02</td>\n      <td>02:13:42.6</td>\n      <td>40.48</td>\n      <td>36.88</td>\n      <td>CENTRAL TURKEY</td>\n    </tr>\n    <tr>\n      <th>19</th>\n      <td>2021-04-02</td>\n      <td>02:13:12.0</td>\n      <td>17.75</td>\n      <td>122.39</td>\n      <td>LUZON, PHILIPPINES</td>\n    </tr>\n    <tr>\n      <th>20</th>\n      <td>2021-04-02</td>\n      <td>02:06:17.7</td>\n      <td>60.13</td>\n      <td>152.01</td>\n      <td>SOUTHERN ALASKA</td>\n    </tr>\n    <tr>\n      <th>21</th>\n      <td>2021-04-02</td>\n      <td>02:05:05.8</td>\n      <td>46.23</td>\n      <td>7.94</td>\n      <td>SWITZERLAND</td>\n    </tr>\n    <tr>\n      <th>22</th>\n      <td>2021-04-02</td>\n      <td>01:56:38.2</td>\n      <td>63.23</td>\n      <td>151.19</td>\n      <td>CENTRAL ALASKA</td>\n    </tr>\n    <tr>\n      <th>23</th>\n      <td>2021-04-02</td>\n      <td>01:54:18.1</td>\n      <td>63.25</td>\n      <td>151.22</td>\n      <td>CENTRAL ALASKA</td>\n    </tr>\n    <tr>\n      <th>24</th>\n      <td>2021-04-02</td>\n      <td>01:37:22.5</td>\n      <td>45.37</td>\n      <td>15.90</td>\n      <td>CROATIA</td>\n    </tr>\n    <tr>\n      <th>25</th>\n      <td>2021-04-02</td>\n      <td>01:09:53.2</td>\n      <td>38.66</td>\n      <td>0.40</td>\n      <td>SPAIN</td>\n    </tr>\n    <tr>\n      <th>26</th>\n      <td>2021-04-02</td>\n      <td>01:04:21.4</td>\n      <td>45.55</td>\n      <td>15.62</td>\n      <td>CROATIA</td>\n    </tr>\n    <tr>\n      <th>27</th>\n      <td>2021-04-02</td>\n      <td>00:59:42.2</td>\n      <td>37.23</td>\n      <td>3.76</td>\n      <td>SPAIN</td>\n    </tr>\n    <tr>\n      <th>28</th>\n      <td>2021-04-02</td>\n      <td>00:57:40.4</td>\n      <td>45.41</td>\n      <td>15.84</td>\n      <td>CROATIA</td>\n    </tr>\n    <tr>\n      <th>29</th>\n      <td>2021-04-02</td>\n      <td>00:32:31.4</td>\n      <td>34.75</td>\n      <td>23.55</td>\n      <td>CRETE, GREECE</td>\n    </tr>\n    <tr>\n      <th>30</th>\n      <td>2021-04-01</td>\n      <td>23:57:42.6</td>\n      <td>38.69</td>\n      <td>0.39</td>\n      <td>SPAIN</td>\n    </tr>\n    <tr>\n      <th>31</th>\n      <td>2021-04-01</td>\n      <td>23:53:58.0</td>\n      <td>22.00</td>\n      <td>69.10</td>\n      <td>ANTOFAGASTA, CHILE</td>\n    </tr>\n    <tr>\n      <th>32</th>\n      <td>2021-04-01</td>\n      <td>23:45:10.0</td>\n      <td>8.47</td>\n      <td>126.04</td>\n      <td>MINDANAO, PHILIPPINES</td>\n    </tr>\n    <tr>\n      <th>33</th>\n      <td>2021-04-01</td>\n      <td>23:41:12.0</td>\n      <td>12.77</td>\n      <td>88.74</td>\n      <td>OFFSHORE EL SALVADOR</td>\n    </tr>\n    <tr>\n      <th>34</th>\n      <td>2021-04-01</td>\n      <td>23:36:45.6</td>\n      <td>18.03</td>\n      <td>66.87</td>\n      <td>PUERTO RICO</td>\n    </tr>\n    <tr>\n      <th>35</th>\n      <td>2021-04-01</td>\n      <td>23:16:08.3</td>\n      <td>37.90</td>\n      <td>27.14</td>\n      <td>WESTERN TURKEY</td>\n    </tr>\n    <tr>\n      <th>36</th>\n      <td>2021-04-01</td>\n      <td>22:51:36.6</td>\n      <td>7.17</td>\n      <td>129.41</td>\n      <td>KEPULAUAN BABAR, INDONESIA</td>\n    </tr>\n    <tr>\n      <th>37</th>\n      <td>2021-04-01</td>\n      <td>22:50:39.0</td>\n      <td>5.57</td>\n      <td>126.53</td>\n      <td>MINDANAO, PHILIPPINES</td>\n    </tr>\n    <tr>\n      <th>38</th>\n      <td>2021-04-01</td>\n      <td>22:43:49.0</td>\n      <td>16.70</td>\n      <td>99.21</td>\n      <td>GUERRERO, MEXICO</td>\n    </tr>\n    <tr>\n      <th>39</th>\n      <td>2021-04-01</td>\n      <td>22:42:10.9</td>\n      <td>39.18</td>\n      <td>40.23</td>\n      <td>EASTERN TURKEY</td>\n    </tr>\n    <tr>\n      <th>40</th>\n      <td>2021-04-01</td>\n      <td>22:35:54.0</td>\n      <td>19.28</td>\n      <td>70.09</td>\n      <td>DOMINICAN REPUBLIC</td>\n    </tr>\n    <tr>\n      <th>41</th>\n      <td>2021-04-01</td>\n      <td>22:35:39.0</td>\n      <td>16.82</td>\n      <td>71.80</td>\n      <td>SOUTHERN PERU</td>\n    </tr>\n    <tr>\n      <th>42</th>\n      <td>2021-04-01</td>\n      <td>22:18:59.0</td>\n      <td>17.65</td>\n      <td>95.93</td>\n      <td>OAXACA, MEXICO</td>\n    </tr>\n    <tr>\n      <th>43</th>\n      <td>2021-04-01</td>\n      <td>22:16:55.2</td>\n      <td>35.19</td>\n      <td>26.10</td>\n      <td>CRETE, GREECE</td>\n    </tr>\n    <tr>\n      <th>44</th>\n      <td>2021-04-01</td>\n      <td>22:16:45.0</td>\n      <td>19.56</td>\n      <td>104.05</td>\n      <td>JALISCO, MEXICO</td>\n    </tr>\n    <tr>\n      <th>45</th>\n      <td>2021-04-01</td>\n      <td>22:12:05.4</td>\n      <td>37.77</td>\n      <td>178.22</td>\n      <td>OFF E. COAST OF N. ISLAND, N.Z.</td>\n    </tr>\n    <tr>\n      <th>46</th>\n      <td>2021-04-01</td>\n      <td>22:10:34.0</td>\n      <td>8.53</td>\n      <td>126.78</td>\n      <td>MINDANAO, PHILIPPINES</td>\n    </tr>\n    <tr>\n      <th>47</th>\n      <td>2021-04-01</td>\n      <td>22:10:10.6</td>\n      <td>30.02</td>\n      <td>177.57</td>\n      <td>KERMADEC ISLANDS, NEW ZEALAND</td>\n    </tr>\n    <tr>\n      <th>48</th>\n      <td>2021-04-01</td>\n      <td>22:06:59.4</td>\n      <td>19.20</td>\n      <td>155.48</td>\n      <td>ISLAND OF HAWAII, HAWAII</td>\n    </tr>\n    <tr>\n      <th>49</th>\n      <td>2021-04-01</td>\n      <td>22:06:51.3</td>\n      <td>27.55</td>\n      <td>59.97</td>\n      <td>SOUTHEASTERN IRAN</td>\n    </tr>\n  </tbody>\n</table>\n</div>"
     },
     "metadata": {},
     "execution_count": 131
    }
   ],
   "source": [
    "#your code\n",
    "\n",
    "time = [ r.select('a')[0].text for r in soup.find_all('b') if any(r.select('a')) ][:-1]\n",
    "date = [ d[:10] for d in time ]\n",
    "timeT = [ t[-10:] for t in time ]\n",
    "coord = iter([ l.text.strip() for l in soup.find_all('td', class_ = 'tabev1') ])\n",
    "coords = [*zip(coord, coord)]\n",
    "lat = [ l[0] for l in coords ]\n",
    "lon = [ l[1] for l in coords ]\n",
    "region = [ r.text.strip() for r in soup.find_all('td', class_ = 'tb_region') ]\n",
    "\n",
    "d = {'date': date, 'time': timeT, 'latitude': lat, 'longitude': lon, 'region': region}\n",
    "data = pd.DataFrame( d, columns = d.keys() ) \n",
    "data\n"
   ]
  },
  {
   "cell_type": "markdown",
   "metadata": {},
   "source": [
    "#### Display the date, days, title, city, country of next 25 hackathon events as a Pandas dataframe table"
   ]
  },
  {
   "cell_type": "code",
   "execution_count": 134,
   "metadata": {},
   "outputs": [
    {
     "output_type": "error",
     "ename": "SSLError",
     "evalue": "HTTPSConnectionPool(host='hackevents.co', port=443): Max retries exceeded with url: /hackathons (Caused by SSLError(SSLCertVerificationError(\"hostname 'hackevents.co' doesn't match either of '*.5470.in', '*.allwooddiner.com', '*.arbecyglobalfoundation.com', '*.basicbasicgospel.net', '*.bloomycase.com', '*.champsaitoinc.com', '*.charlyhandymanllc.com', '*.cheapdfw.co', '*.chougaledu.in', '*.consumermarketplacenetwork.com', '*.csbp.net', '*.dofdrip.net', '*.dogalgaz.xyz', '*.dominasuchtsklavenbadcambergsiesuchtihnmarkt.de', '*.falcon.ps', '*.fromfactory.cl', '*.golf-club-shop.com', '*.guineenws.org', '*.imvictastores.com', '*.indian-choice.xyz', '*.isoprofessional.com', '*.jdeas4womensministry.com', '*.jhansi.news', '*.lacarte.me', '*.leahteirneydesign.com', '*.londonmarathontshirts.com', '*.mangoviddo.pw', '*.medip.me', '*.nerwalet.com', '*.netneet.in', '*.northmaconyouthsports.com', '*.pa4.in.ua', '*.pelislatino82.pw', '*.pornhuub.co', '*.privateadress.in', '*.rathmore.com', '*.romantic-suspense.com', '*.serversupport.biz', '*.shivaclub.net', '*.sngplus.net', '*.telephonysolution.biz', '*.terribleherbstslotjobs.com', '*.thegudda.co', '*.triviadaily.co', '*.trueroyourheart.com', '*.uscreditcards101.co', '*.westburybankonline.com', '*.wimbledonshop.com', '*.xmobies8.pw', '5470.in', 'allwooddiner.com', 'arbecyglobalfoundation.com', 'basicbasicgospel.net', 'bloomycase.com', 'champsaitoinc.com', 'charlyhandymanllc.com', 'cheapdfw.co', 'chougaledu.in', 'consumermarketplacenetwork.com', 'csbp.net', 'dofdrip.net', 'dogalgaz.xyz', 'dominasuchtsklavenbadcambergsiesuchtihnmarkt.de', 'falcon.ps', 'fromfactory.cl', 'golf-club-shop.com', 'guineenws.org', 'imvictastores.com', 'indian-choice.xyz', 'isoprofessional.com', 'jdeas4womensministry.com', 'jhansi.news', 'lacarte.me', 'leahteirneydesign.com', 'londonmarathontshirts.com', 'mangoviddo.pw', 'medip.me', 'nerwalet.com', 'netneet.in', 'northmaconyouthsports.com', 'pa4.in.ua', 'pelislatino82.pw', 'pornhuub.co', 'privateadress.in', 'rathmore.com', 'romantic-suspense.com', 'serversupport.biz', 'shivaclub.net', 'sngplus.net', 'telephonysolution.biz', 'terribleherbstslotjobs.com', 'thegudda.co', 'triviadaily.co', 'trueroyourheart.com', 'uscreditcards101.co', 'westburybankonline.com', 'wimbledonshop.com', 'xmobies8.pw'\")))",
     "traceback": [
      "\u001b[1;31m---------------------------------------------------------------------------\u001b[0m",
      "\u001b[1;31mSSLCertVerificationError\u001b[0m                  Traceback (most recent call last)",
      "\u001b[1;32m~\\anaconda3\\lib\\site-packages\\urllib3\\connectionpool.py\u001b[0m in \u001b[0;36murlopen\u001b[1;34m(self, method, url, body, headers, retries, redirect, assert_same_host, timeout, pool_timeout, release_conn, chunked, body_pos, **response_kw)\u001b[0m\n\u001b[0;32m    669\u001b[0m             \u001b[1;31m# Make the request on the httplib connection object.\u001b[0m\u001b[1;33m\u001b[0m\u001b[1;33m\u001b[0m\u001b[1;33m\u001b[0m\u001b[0m\n\u001b[1;32m--> 670\u001b[1;33m             httplib_response = self._make_request(\n\u001b[0m\u001b[0;32m    671\u001b[0m                 \u001b[0mconn\u001b[0m\u001b[1;33m,\u001b[0m\u001b[1;33m\u001b[0m\u001b[1;33m\u001b[0m\u001b[0m\n",
      "\u001b[1;32m~\\anaconda3\\lib\\site-packages\\urllib3\\connectionpool.py\u001b[0m in \u001b[0;36m_make_request\u001b[1;34m(self, conn, method, url, timeout, chunked, **httplib_request_kw)\u001b[0m\n\u001b[0;32m    380\u001b[0m         \u001b[1;32mtry\u001b[0m\u001b[1;33m:\u001b[0m\u001b[1;33m\u001b[0m\u001b[1;33m\u001b[0m\u001b[0m\n\u001b[1;32m--> 381\u001b[1;33m             \u001b[0mself\u001b[0m\u001b[1;33m.\u001b[0m\u001b[0m_validate_conn\u001b[0m\u001b[1;33m(\u001b[0m\u001b[0mconn\u001b[0m\u001b[1;33m)\u001b[0m\u001b[1;33m\u001b[0m\u001b[1;33m\u001b[0m\u001b[0m\n\u001b[0m\u001b[0;32m    382\u001b[0m         \u001b[1;32mexcept\u001b[0m \u001b[1;33m(\u001b[0m\u001b[0mSocketTimeout\u001b[0m\u001b[1;33m,\u001b[0m \u001b[0mBaseSSLError\u001b[0m\u001b[1;33m)\u001b[0m \u001b[1;32mas\u001b[0m \u001b[0me\u001b[0m\u001b[1;33m:\u001b[0m\u001b[1;33m\u001b[0m\u001b[1;33m\u001b[0m\u001b[0m\n",
      "\u001b[1;32m~\\anaconda3\\lib\\site-packages\\urllib3\\connectionpool.py\u001b[0m in \u001b[0;36m_validate_conn\u001b[1;34m(self, conn)\u001b[0m\n\u001b[0;32m    975\u001b[0m         \u001b[1;32mif\u001b[0m \u001b[1;32mnot\u001b[0m \u001b[0mgetattr\u001b[0m\u001b[1;33m(\u001b[0m\u001b[0mconn\u001b[0m\u001b[1;33m,\u001b[0m \u001b[1;34m\"sock\"\u001b[0m\u001b[1;33m,\u001b[0m \u001b[1;32mNone\u001b[0m\u001b[1;33m)\u001b[0m\u001b[1;33m:\u001b[0m  \u001b[1;31m# AppEngine might not have  `.sock`\u001b[0m\u001b[1;33m\u001b[0m\u001b[1;33m\u001b[0m\u001b[0m\n\u001b[1;32m--> 976\u001b[1;33m             \u001b[0mconn\u001b[0m\u001b[1;33m.\u001b[0m\u001b[0mconnect\u001b[0m\u001b[1;33m(\u001b[0m\u001b[1;33m)\u001b[0m\u001b[1;33m\u001b[0m\u001b[1;33m\u001b[0m\u001b[0m\n\u001b[0m\u001b[0;32m    977\u001b[0m \u001b[1;33m\u001b[0m\u001b[0m\n",
      "\u001b[1;32m~\\anaconda3\\lib\\site-packages\\urllib3\\connection.py\u001b[0m in \u001b[0;36mconnect\u001b[1;34m(self)\u001b[0m\n\u001b[0;32m    395\u001b[0m                 )\n\u001b[1;32m--> 396\u001b[1;33m             \u001b[0m_match_hostname\u001b[0m\u001b[1;33m(\u001b[0m\u001b[0mcert\u001b[0m\u001b[1;33m,\u001b[0m \u001b[0mself\u001b[0m\u001b[1;33m.\u001b[0m\u001b[0massert_hostname\u001b[0m \u001b[1;32mor\u001b[0m \u001b[0mserver_hostname\u001b[0m\u001b[1;33m)\u001b[0m\u001b[1;33m\u001b[0m\u001b[1;33m\u001b[0m\u001b[0m\n\u001b[0m\u001b[0;32m    397\u001b[0m \u001b[1;33m\u001b[0m\u001b[0m\n",
      "\u001b[1;32m~\\anaconda3\\lib\\site-packages\\urllib3\\connection.py\u001b[0m in \u001b[0;36m_match_hostname\u001b[1;34m(cert, asserted_hostname)\u001b[0m\n\u001b[0;32m    405\u001b[0m     \u001b[1;32mtry\u001b[0m\u001b[1;33m:\u001b[0m\u001b[1;33m\u001b[0m\u001b[1;33m\u001b[0m\u001b[0m\n\u001b[1;32m--> 406\u001b[1;33m         \u001b[0mmatch_hostname\u001b[0m\u001b[1;33m(\u001b[0m\u001b[0mcert\u001b[0m\u001b[1;33m,\u001b[0m \u001b[0masserted_hostname\u001b[0m\u001b[1;33m)\u001b[0m\u001b[1;33m\u001b[0m\u001b[1;33m\u001b[0m\u001b[0m\n\u001b[0m\u001b[0;32m    407\u001b[0m     \u001b[1;32mexcept\u001b[0m \u001b[0mCertificateError\u001b[0m \u001b[1;32mas\u001b[0m \u001b[0me\u001b[0m\u001b[1;33m:\u001b[0m\u001b[1;33m\u001b[0m\u001b[1;33m\u001b[0m\u001b[0m\n",
      "\u001b[1;32m~\\anaconda3\\lib\\ssl.py\u001b[0m in \u001b[0;36mmatch_hostname\u001b[1;34m(cert, hostname)\u001b[0m\n\u001b[0;32m    415\u001b[0m     \u001b[1;32mif\u001b[0m \u001b[0mlen\u001b[0m\u001b[1;33m(\u001b[0m\u001b[0mdnsnames\u001b[0m\u001b[1;33m)\u001b[0m \u001b[1;33m>\u001b[0m \u001b[1;36m1\u001b[0m\u001b[1;33m:\u001b[0m\u001b[1;33m\u001b[0m\u001b[1;33m\u001b[0m\u001b[0m\n\u001b[1;32m--> 416\u001b[1;33m         raise CertificateError(\"hostname %r \"\n\u001b[0m\u001b[0;32m    417\u001b[0m             \u001b[1;34m\"doesn't match either of %s\"\u001b[0m\u001b[1;33m\u001b[0m\u001b[1;33m\u001b[0m\u001b[0m\n",
      "\u001b[1;31mSSLCertVerificationError\u001b[0m: (\"hostname 'hackevents.co' doesn't match either of '*.5470.in', '*.allwooddiner.com', '*.arbecyglobalfoundation.com', '*.basicbasicgospel.net', '*.bloomycase.com', '*.champsaitoinc.com', '*.charlyhandymanllc.com', '*.cheapdfw.co', '*.chougaledu.in', '*.consumermarketplacenetwork.com', '*.csbp.net', '*.dofdrip.net', '*.dogalgaz.xyz', '*.dominasuchtsklavenbadcambergsiesuchtihnmarkt.de', '*.falcon.ps', '*.fromfactory.cl', '*.golf-club-shop.com', '*.guineenws.org', '*.imvictastores.com', '*.indian-choice.xyz', '*.isoprofessional.com', '*.jdeas4womensministry.com', '*.jhansi.news', '*.lacarte.me', '*.leahteirneydesign.com', '*.londonmarathontshirts.com', '*.mangoviddo.pw', '*.medip.me', '*.nerwalet.com', '*.netneet.in', '*.northmaconyouthsports.com', '*.pa4.in.ua', '*.pelislatino82.pw', '*.pornhuub.co', '*.privateadress.in', '*.rathmore.com', '*.romantic-suspense.com', '*.serversupport.biz', '*.shivaclub.net', '*.sngplus.net', '*.telephonysolution.biz', '*.terribleherbstslotjobs.com', '*.thegudda.co', '*.triviadaily.co', '*.trueroyourheart.com', '*.uscreditcards101.co', '*.westburybankonline.com', '*.wimbledonshop.com', '*.xmobies8.pw', '5470.in', 'allwooddiner.com', 'arbecyglobalfoundation.com', 'basicbasicgospel.net', 'bloomycase.com', 'champsaitoinc.com', 'charlyhandymanllc.com', 'cheapdfw.co', 'chougaledu.in', 'consumermarketplacenetwork.com', 'csbp.net', 'dofdrip.net', 'dogalgaz.xyz', 'dominasuchtsklavenbadcambergsiesuchtihnmarkt.de', 'falcon.ps', 'fromfactory.cl', 'golf-club-shop.com', 'guineenws.org', 'imvictastores.com', 'indian-choice.xyz', 'isoprofessional.com', 'jdeas4womensministry.com', 'jhansi.news', 'lacarte.me', 'leahteirneydesign.com', 'londonmarathontshirts.com', 'mangoviddo.pw', 'medip.me', 'nerwalet.com', 'netneet.in', 'northmaconyouthsports.com', 'pa4.in.ua', 'pelislatino82.pw', 'pornhuub.co', 'privateadress.in', 'rathmore.com', 'romantic-suspense.com', 'serversupport.biz', 'shivaclub.net', 'sngplus.net', 'telephonysolution.biz', 'terribleherbstslotjobs.com', 'thegudda.co', 'triviadaily.co', 'trueroyourheart.com', 'uscreditcards101.co', 'westburybankonline.com', 'wimbledonshop.com', 'xmobies8.pw'\",)",
      "\nDuring handling of the above exception, another exception occurred:\n",
      "\u001b[1;31mMaxRetryError\u001b[0m                             Traceback (most recent call last)",
      "\u001b[1;32m~\\anaconda3\\lib\\site-packages\\requests\\adapters.py\u001b[0m in \u001b[0;36msend\u001b[1;34m(self, request, stream, timeout, verify, cert, proxies)\u001b[0m\n\u001b[0;32m    438\u001b[0m             \u001b[1;32mif\u001b[0m \u001b[1;32mnot\u001b[0m \u001b[0mchunked\u001b[0m\u001b[1;33m:\u001b[0m\u001b[1;33m\u001b[0m\u001b[1;33m\u001b[0m\u001b[0m\n\u001b[1;32m--> 439\u001b[1;33m                 resp = conn.urlopen(\n\u001b[0m\u001b[0;32m    440\u001b[0m                     \u001b[0mmethod\u001b[0m\u001b[1;33m=\u001b[0m\u001b[0mrequest\u001b[0m\u001b[1;33m.\u001b[0m\u001b[0mmethod\u001b[0m\u001b[1;33m,\u001b[0m\u001b[1;33m\u001b[0m\u001b[1;33m\u001b[0m\u001b[0m\n",
      "\u001b[1;32m~\\anaconda3\\lib\\site-packages\\urllib3\\connectionpool.py\u001b[0m in \u001b[0;36murlopen\u001b[1;34m(self, method, url, body, headers, retries, redirect, assert_same_host, timeout, pool_timeout, release_conn, chunked, body_pos, **response_kw)\u001b[0m\n\u001b[0;32m    723\u001b[0m \u001b[1;33m\u001b[0m\u001b[0m\n\u001b[1;32m--> 724\u001b[1;33m             retries = retries.increment(\n\u001b[0m\u001b[0;32m    725\u001b[0m                 \u001b[0mmethod\u001b[0m\u001b[1;33m,\u001b[0m \u001b[0murl\u001b[0m\u001b[1;33m,\u001b[0m \u001b[0merror\u001b[0m\u001b[1;33m=\u001b[0m\u001b[0me\u001b[0m\u001b[1;33m,\u001b[0m \u001b[0m_pool\u001b[0m\u001b[1;33m=\u001b[0m\u001b[0mself\u001b[0m\u001b[1;33m,\u001b[0m \u001b[0m_stacktrace\u001b[0m\u001b[1;33m=\u001b[0m\u001b[0msys\u001b[0m\u001b[1;33m.\u001b[0m\u001b[0mexc_info\u001b[0m\u001b[1;33m(\u001b[0m\u001b[1;33m)\u001b[0m\u001b[1;33m[\u001b[0m\u001b[1;36m2\u001b[0m\u001b[1;33m]\u001b[0m\u001b[1;33m\u001b[0m\u001b[1;33m\u001b[0m\u001b[0m\n",
      "\u001b[1;32m~\\anaconda3\\lib\\site-packages\\urllib3\\util\\retry.py\u001b[0m in \u001b[0;36mincrement\u001b[1;34m(self, method, url, response, error, _pool, _stacktrace)\u001b[0m\n\u001b[0;32m    438\u001b[0m         \u001b[1;32mif\u001b[0m \u001b[0mnew_retry\u001b[0m\u001b[1;33m.\u001b[0m\u001b[0mis_exhausted\u001b[0m\u001b[1;33m(\u001b[0m\u001b[1;33m)\u001b[0m\u001b[1;33m:\u001b[0m\u001b[1;33m\u001b[0m\u001b[1;33m\u001b[0m\u001b[0m\n\u001b[1;32m--> 439\u001b[1;33m             \u001b[1;32mraise\u001b[0m \u001b[0mMaxRetryError\u001b[0m\u001b[1;33m(\u001b[0m\u001b[0m_pool\u001b[0m\u001b[1;33m,\u001b[0m \u001b[0murl\u001b[0m\u001b[1;33m,\u001b[0m \u001b[0merror\u001b[0m \u001b[1;32mor\u001b[0m \u001b[0mResponseError\u001b[0m\u001b[1;33m(\u001b[0m\u001b[0mcause\u001b[0m\u001b[1;33m)\u001b[0m\u001b[1;33m)\u001b[0m\u001b[1;33m\u001b[0m\u001b[1;33m\u001b[0m\u001b[0m\n\u001b[0m\u001b[0;32m    440\u001b[0m \u001b[1;33m\u001b[0m\u001b[0m\n",
      "\u001b[1;31mMaxRetryError\u001b[0m: HTTPSConnectionPool(host='hackevents.co', port=443): Max retries exceeded with url: /hackathons (Caused by SSLError(SSLCertVerificationError(\"hostname 'hackevents.co' doesn't match either of '*.5470.in', '*.allwooddiner.com', '*.arbecyglobalfoundation.com', '*.basicbasicgospel.net', '*.bloomycase.com', '*.champsaitoinc.com', '*.charlyhandymanllc.com', '*.cheapdfw.co', '*.chougaledu.in', '*.consumermarketplacenetwork.com', '*.csbp.net', '*.dofdrip.net', '*.dogalgaz.xyz', '*.dominasuchtsklavenbadcambergsiesuchtihnmarkt.de', '*.falcon.ps', '*.fromfactory.cl', '*.golf-club-shop.com', '*.guineenws.org', '*.imvictastores.com', '*.indian-choice.xyz', '*.isoprofessional.com', '*.jdeas4womensministry.com', '*.jhansi.news', '*.lacarte.me', '*.leahteirneydesign.com', '*.londonmarathontshirts.com', '*.mangoviddo.pw', '*.medip.me', '*.nerwalet.com', '*.netneet.in', '*.northmaconyouthsports.com', '*.pa4.in.ua', '*.pelislatino82.pw', '*.pornhuub.co', '*.privateadress.in', '*.rathmore.com', '*.romantic-suspense.com', '*.serversupport.biz', '*.shivaclub.net', '*.sngplus.net', '*.telephonysolution.biz', '*.terribleherbstslotjobs.com', '*.thegudda.co', '*.triviadaily.co', '*.trueroyourheart.com', '*.uscreditcards101.co', '*.westburybankonline.com', '*.wimbledonshop.com', '*.xmobies8.pw', '5470.in', 'allwooddiner.com', 'arbecyglobalfoundation.com', 'basicbasicgospel.net', 'bloomycase.com', 'champsaitoinc.com', 'charlyhandymanllc.com', 'cheapdfw.co', 'chougaledu.in', 'consumermarketplacenetwork.com', 'csbp.net', 'dofdrip.net', 'dogalgaz.xyz', 'dominasuchtsklavenbadcambergsiesuchtihnmarkt.de', 'falcon.ps', 'fromfactory.cl', 'golf-club-shop.com', 'guineenws.org', 'imvictastores.com', 'indian-choice.xyz', 'isoprofessional.com', 'jdeas4womensministry.com', 'jhansi.news', 'lacarte.me', 'leahteirneydesign.com', 'londonmarathontshirts.com', 'mangoviddo.pw', 'medip.me', 'nerwalet.com', 'netneet.in', 'northmaconyouthsports.com', 'pa4.in.ua', 'pelislatino82.pw', 'pornhuub.co', 'privateadress.in', 'rathmore.com', 'romantic-suspense.com', 'serversupport.biz', 'shivaclub.net', 'sngplus.net', 'telephonysolution.biz', 'terribleherbstslotjobs.com', 'thegudda.co', 'triviadaily.co', 'trueroyourheart.com', 'uscreditcards101.co', 'westburybankonline.com', 'wimbledonshop.com', 'xmobies8.pw'\")))",
      "\nDuring handling of the above exception, another exception occurred:\n",
      "\u001b[1;31mSSLError\u001b[0m                                  Traceback (most recent call last)",
      "\u001b[1;32m<ipython-input-134-c18f4eaca879>\u001b[0m in \u001b[0;36m<module>\u001b[1;34m\u001b[0m\n\u001b[0;32m      1\u001b[0m \u001b[1;31m# This is the url you will scrape in this exercise\u001b[0m\u001b[1;33m\u001b[0m\u001b[1;33m\u001b[0m\u001b[1;33m\u001b[0m\u001b[0m\n\u001b[0;32m      2\u001b[0m \u001b[0murl\u001b[0m \u001b[1;33m=\u001b[0m\u001b[1;34m'https://hackevents.co/hackathons'\u001b[0m\u001b[1;33m\u001b[0m\u001b[1;33m\u001b[0m\u001b[0m\n\u001b[1;32m----> 3\u001b[1;33m \u001b[0mhtml\u001b[0m \u001b[1;33m=\u001b[0m \u001b[0mrequests\u001b[0m\u001b[1;33m.\u001b[0m\u001b[0mget\u001b[0m\u001b[1;33m(\u001b[0m\u001b[0murl\u001b[0m\u001b[1;33m)\u001b[0m\u001b[1;33m.\u001b[0m\u001b[0mcontent\u001b[0m\u001b[1;33m\u001b[0m\u001b[1;33m\u001b[0m\u001b[0m\n\u001b[0m\u001b[0;32m      4\u001b[0m \u001b[0msoup\u001b[0m \u001b[1;33m=\u001b[0m \u001b[0mBeautifulSoup\u001b[0m\u001b[1;33m(\u001b[0m\u001b[0mhtml\u001b[0m\u001b[1;33m,\u001b[0m \u001b[1;34m\"lxml\"\u001b[0m\u001b[1;33m)\u001b[0m\u001b[1;33m\u001b[0m\u001b[1;33m\u001b[0m\u001b[0m\n",
      "\u001b[1;32m~\\anaconda3\\lib\\site-packages\\requests\\api.py\u001b[0m in \u001b[0;36mget\u001b[1;34m(url, params, **kwargs)\u001b[0m\n\u001b[0;32m     74\u001b[0m \u001b[1;33m\u001b[0m\u001b[0m\n\u001b[0;32m     75\u001b[0m     \u001b[0mkwargs\u001b[0m\u001b[1;33m.\u001b[0m\u001b[0msetdefault\u001b[0m\u001b[1;33m(\u001b[0m\u001b[1;34m'allow_redirects'\u001b[0m\u001b[1;33m,\u001b[0m \u001b[1;32mTrue\u001b[0m\u001b[1;33m)\u001b[0m\u001b[1;33m\u001b[0m\u001b[1;33m\u001b[0m\u001b[0m\n\u001b[1;32m---> 76\u001b[1;33m     \u001b[1;32mreturn\u001b[0m \u001b[0mrequest\u001b[0m\u001b[1;33m(\u001b[0m\u001b[1;34m'get'\u001b[0m\u001b[1;33m,\u001b[0m \u001b[0murl\u001b[0m\u001b[1;33m,\u001b[0m \u001b[0mparams\u001b[0m\u001b[1;33m=\u001b[0m\u001b[0mparams\u001b[0m\u001b[1;33m,\u001b[0m \u001b[1;33m**\u001b[0m\u001b[0mkwargs\u001b[0m\u001b[1;33m)\u001b[0m\u001b[1;33m\u001b[0m\u001b[1;33m\u001b[0m\u001b[0m\n\u001b[0m\u001b[0;32m     77\u001b[0m \u001b[1;33m\u001b[0m\u001b[0m\n\u001b[0;32m     78\u001b[0m \u001b[1;33m\u001b[0m\u001b[0m\n",
      "\u001b[1;32m~\\anaconda3\\lib\\site-packages\\requests\\api.py\u001b[0m in \u001b[0;36mrequest\u001b[1;34m(method, url, **kwargs)\u001b[0m\n\u001b[0;32m     59\u001b[0m     \u001b[1;31m# cases, and look like a memory leak in others.\u001b[0m\u001b[1;33m\u001b[0m\u001b[1;33m\u001b[0m\u001b[1;33m\u001b[0m\u001b[0m\n\u001b[0;32m     60\u001b[0m     \u001b[1;32mwith\u001b[0m \u001b[0msessions\u001b[0m\u001b[1;33m.\u001b[0m\u001b[0mSession\u001b[0m\u001b[1;33m(\u001b[0m\u001b[1;33m)\u001b[0m \u001b[1;32mas\u001b[0m \u001b[0msession\u001b[0m\u001b[1;33m:\u001b[0m\u001b[1;33m\u001b[0m\u001b[1;33m\u001b[0m\u001b[0m\n\u001b[1;32m---> 61\u001b[1;33m         \u001b[1;32mreturn\u001b[0m \u001b[0msession\u001b[0m\u001b[1;33m.\u001b[0m\u001b[0mrequest\u001b[0m\u001b[1;33m(\u001b[0m\u001b[0mmethod\u001b[0m\u001b[1;33m=\u001b[0m\u001b[0mmethod\u001b[0m\u001b[1;33m,\u001b[0m \u001b[0murl\u001b[0m\u001b[1;33m=\u001b[0m\u001b[0murl\u001b[0m\u001b[1;33m,\u001b[0m \u001b[1;33m**\u001b[0m\u001b[0mkwargs\u001b[0m\u001b[1;33m)\u001b[0m\u001b[1;33m\u001b[0m\u001b[1;33m\u001b[0m\u001b[0m\n\u001b[0m\u001b[0;32m     62\u001b[0m \u001b[1;33m\u001b[0m\u001b[0m\n\u001b[0;32m     63\u001b[0m \u001b[1;33m\u001b[0m\u001b[0m\n",
      "\u001b[1;32m~\\anaconda3\\lib\\site-packages\\requests\\sessions.py\u001b[0m in \u001b[0;36mrequest\u001b[1;34m(self, method, url, params, data, headers, cookies, files, auth, timeout, allow_redirects, proxies, hooks, stream, verify, cert, json)\u001b[0m\n\u001b[0;32m    528\u001b[0m         }\n\u001b[0;32m    529\u001b[0m         \u001b[0msend_kwargs\u001b[0m\u001b[1;33m.\u001b[0m\u001b[0mupdate\u001b[0m\u001b[1;33m(\u001b[0m\u001b[0msettings\u001b[0m\u001b[1;33m)\u001b[0m\u001b[1;33m\u001b[0m\u001b[1;33m\u001b[0m\u001b[0m\n\u001b[1;32m--> 530\u001b[1;33m         \u001b[0mresp\u001b[0m \u001b[1;33m=\u001b[0m \u001b[0mself\u001b[0m\u001b[1;33m.\u001b[0m\u001b[0msend\u001b[0m\u001b[1;33m(\u001b[0m\u001b[0mprep\u001b[0m\u001b[1;33m,\u001b[0m \u001b[1;33m**\u001b[0m\u001b[0msend_kwargs\u001b[0m\u001b[1;33m)\u001b[0m\u001b[1;33m\u001b[0m\u001b[1;33m\u001b[0m\u001b[0m\n\u001b[0m\u001b[0;32m    531\u001b[0m \u001b[1;33m\u001b[0m\u001b[0m\n\u001b[0;32m    532\u001b[0m         \u001b[1;32mreturn\u001b[0m \u001b[0mresp\u001b[0m\u001b[1;33m\u001b[0m\u001b[1;33m\u001b[0m\u001b[0m\n",
      "\u001b[1;32m~\\anaconda3\\lib\\site-packages\\requests\\sessions.py\u001b[0m in \u001b[0;36msend\u001b[1;34m(self, request, **kwargs)\u001b[0m\n\u001b[0;32m    641\u001b[0m \u001b[1;33m\u001b[0m\u001b[0m\n\u001b[0;32m    642\u001b[0m         \u001b[1;31m# Send the request\u001b[0m\u001b[1;33m\u001b[0m\u001b[1;33m\u001b[0m\u001b[1;33m\u001b[0m\u001b[0m\n\u001b[1;32m--> 643\u001b[1;33m         \u001b[0mr\u001b[0m \u001b[1;33m=\u001b[0m \u001b[0madapter\u001b[0m\u001b[1;33m.\u001b[0m\u001b[0msend\u001b[0m\u001b[1;33m(\u001b[0m\u001b[0mrequest\u001b[0m\u001b[1;33m,\u001b[0m \u001b[1;33m**\u001b[0m\u001b[0mkwargs\u001b[0m\u001b[1;33m)\u001b[0m\u001b[1;33m\u001b[0m\u001b[1;33m\u001b[0m\u001b[0m\n\u001b[0m\u001b[0;32m    644\u001b[0m \u001b[1;33m\u001b[0m\u001b[0m\n\u001b[0;32m    645\u001b[0m         \u001b[1;31m# Total elapsed time of the request (approximately)\u001b[0m\u001b[1;33m\u001b[0m\u001b[1;33m\u001b[0m\u001b[1;33m\u001b[0m\u001b[0m\n",
      "\u001b[1;32m~\\anaconda3\\lib\\site-packages\\requests\\adapters.py\u001b[0m in \u001b[0;36msend\u001b[1;34m(self, request, stream, timeout, verify, cert, proxies)\u001b[0m\n\u001b[0;32m    512\u001b[0m             \u001b[1;32mif\u001b[0m \u001b[0misinstance\u001b[0m\u001b[1;33m(\u001b[0m\u001b[0me\u001b[0m\u001b[1;33m.\u001b[0m\u001b[0mreason\u001b[0m\u001b[1;33m,\u001b[0m \u001b[0m_SSLError\u001b[0m\u001b[1;33m)\u001b[0m\u001b[1;33m:\u001b[0m\u001b[1;33m\u001b[0m\u001b[1;33m\u001b[0m\u001b[0m\n\u001b[0;32m    513\u001b[0m                 \u001b[1;31m# This branch is for urllib3 v1.22 and later.\u001b[0m\u001b[1;33m\u001b[0m\u001b[1;33m\u001b[0m\u001b[1;33m\u001b[0m\u001b[0m\n\u001b[1;32m--> 514\u001b[1;33m                 \u001b[1;32mraise\u001b[0m \u001b[0mSSLError\u001b[0m\u001b[1;33m(\u001b[0m\u001b[0me\u001b[0m\u001b[1;33m,\u001b[0m \u001b[0mrequest\u001b[0m\u001b[1;33m=\u001b[0m\u001b[0mrequest\u001b[0m\u001b[1;33m)\u001b[0m\u001b[1;33m\u001b[0m\u001b[1;33m\u001b[0m\u001b[0m\n\u001b[0m\u001b[0;32m    515\u001b[0m \u001b[1;33m\u001b[0m\u001b[0m\n\u001b[0;32m    516\u001b[0m             \u001b[1;32mraise\u001b[0m \u001b[0mConnectionError\u001b[0m\u001b[1;33m(\u001b[0m\u001b[0me\u001b[0m\u001b[1;33m,\u001b[0m \u001b[0mrequest\u001b[0m\u001b[1;33m=\u001b[0m\u001b[0mrequest\u001b[0m\u001b[1;33m)\u001b[0m\u001b[1;33m\u001b[0m\u001b[1;33m\u001b[0m\u001b[0m\n",
      "\u001b[1;31mSSLError\u001b[0m: HTTPSConnectionPool(host='hackevents.co', port=443): Max retries exceeded with url: /hackathons (Caused by SSLError(SSLCertVerificationError(\"hostname 'hackevents.co' doesn't match either of '*.5470.in', '*.allwooddiner.com', '*.arbecyglobalfoundation.com', '*.basicbasicgospel.net', '*.bloomycase.com', '*.champsaitoinc.com', '*.charlyhandymanllc.com', '*.cheapdfw.co', '*.chougaledu.in', '*.consumermarketplacenetwork.com', '*.csbp.net', '*.dofdrip.net', '*.dogalgaz.xyz', '*.dominasuchtsklavenbadcambergsiesuchtihnmarkt.de', '*.falcon.ps', '*.fromfactory.cl', '*.golf-club-shop.com', '*.guineenws.org', '*.imvictastores.com', '*.indian-choice.xyz', '*.isoprofessional.com', '*.jdeas4womensministry.com', '*.jhansi.news', '*.lacarte.me', '*.leahteirneydesign.com', '*.londonmarathontshirts.com', '*.mangoviddo.pw', '*.medip.me', '*.nerwalet.com', '*.netneet.in', '*.northmaconyouthsports.com', '*.pa4.in.ua', '*.pelislatino82.pw', '*.pornhuub.co', '*.privateadress.in', '*.rathmore.com', '*.romantic-suspense.com', '*.serversupport.biz', '*.shivaclub.net', '*.sngplus.net', '*.telephonysolution.biz', '*.terribleherbstslotjobs.com', '*.thegudda.co', '*.triviadaily.co', '*.trueroyourheart.com', '*.uscreditcards101.co', '*.westburybankonline.com', '*.wimbledonshop.com', '*.xmobies8.pw', '5470.in', 'allwooddiner.com', 'arbecyglobalfoundation.com', 'basicbasicgospel.net', 'bloomycase.com', 'champsaitoinc.com', 'charlyhandymanllc.com', 'cheapdfw.co', 'chougaledu.in', 'consumermarketplacenetwork.com', 'csbp.net', 'dofdrip.net', 'dogalgaz.xyz', 'dominasuchtsklavenbadcambergsiesuchtihnmarkt.de', 'falcon.ps', 'fromfactory.cl', 'golf-club-shop.com', 'guineenws.org', 'imvictastores.com', 'indian-choice.xyz', 'isoprofessional.com', 'jdeas4womensministry.com', 'jhansi.news', 'lacarte.me', 'leahteirneydesign.com', 'londonmarathontshirts.com', 'mangoviddo.pw', 'medip.me', 'nerwalet.com', 'netneet.in', 'northmaconyouthsports.com', 'pa4.in.ua', 'pelislatino82.pw', 'pornhuub.co', 'privateadress.in', 'rathmore.com', 'romantic-suspense.com', 'serversupport.biz', 'shivaclub.net', 'sngplus.net', 'telephonysolution.biz', 'terribleherbstslotjobs.com', 'thegudda.co', 'triviadaily.co', 'trueroyourheart.com', 'uscreditcards101.co', 'westburybankonline.com', 'wimbledonshop.com', 'xmobies8.pw'\")))"
     ]
    }
   ],
   "source": [
    "# This is the url you will scrape in this exercise\n",
    "url ='https://hackevents.co/hackathons' # BROWSER STATES THAT IT IS NOT A SAFE SITE\n",
    "html = requests.get(url).content\n",
    "soup = BeautifulSoup(html, \"lxml\")"
   ]
  },
  {
   "cell_type": "code",
   "execution_count": null,
   "metadata": {},
   "outputs": [],
   "source": [
    "#your code"
   ]
  },
  {
   "cell_type": "markdown",
   "metadata": {},
   "source": [
    "#### Count number of tweets by a given Twitter account."
   ]
  },
  {
   "cell_type": "markdown",
   "metadata": {},
   "source": [
    "You will need to include a ***try/except block*** for account names not found. \n",
    "<br>***Hint:*** the program should count the number of tweets for any provided account"
   ]
  },
  {
   "cell_type": "code",
   "execution_count": 137,
   "metadata": {},
   "outputs": [
    {
     "output_type": "execute_result",
     "data": {
      "text/plain": [
       "polling_enabled\":{\"value\":false},\"responsive_web_settings_timeline_polling_interval_ms\":{\"value\":0},\"responsive_web_settings_timeline_refresh_background_interval\":{\"value\":0},\"responsive_web_settings_timeline_refresh_enabled\":{\"value\":false},\"responsive_web_settings_timeline_refresh_instant_default\":{\"value\":true},\"responsive_web_sidebar_ttf_enabled\":{\"value\":false},\"responsive_web_trends_setting_new_endpoints\":{\"value\":true},\"responsive_web_trigger_test_backoff_on_bookmark\":{\"value\":false},\"responsive_web_unsupported_entry_tombstone\":{\"value\":false},\"responsive_web_use_app_prompt_copy_variant\":{\"value\":\"\"},\"responsive_web_use_app_prompt_enabled\":{\"value\":false},\"responsive_web_video_control_bar_refactor_enabled\":{\"value\":true},\"responsive_web_video_pcomplete_enabled\":{\"value\":true},\"responsive_web_video_promoted_logging_enabled\":{\"value\":false},\"responsive_web_virtual_keyboard_detector\":{\"value\":false},\"responsive_web_vod_muted_captions_enabled\":{\"value\":true},\"responsive_web_vs_config_resize_observer_enabled\":{\"value\":true},\"responsive_web_zipkin_api_requests_enabled\":{\"value\":false},\"responsive_web_zipkin_api_requests_paths_allowlist\":{\"value\":[\"/2/timeline/home.json\"]},\"rito_smart_block_list_enabled\":{\"value\":false},\"scribe_api_error_sample_size\":{\"value\":0},\"scribe_api_sample_size\":{\"value\":100},\"scribe_cdn_host_list\":{\"value\":[\"si0.twimg.com\",\"si1.twimg.com\",\"si2.twimg.com\",\"si3.twimg.com\",\"a0.twimg.com\",\"a1.twimg.com\",\"a2.twimg.com\",\"a3.twimg.com\",\"abs.twimg.com\",\"amp.twimg.com\",\"o.twimg.com\",\"pbs.twimg.com\",\"pbs-eb.twimg.com\",\"pbs-ec.twimg.com\",\"pbs-v6.twimg.com\",\"pbs-h1.twimg.com\",\"pbs-h2.twimg.com\",\"video.twimg.com\",\"platform.twitter.com\",\"cdn.api.twitter.com\",\"ton.twimg.com\",\"v.cdn.vine.co\",\"mtc.cdn.vine.co\",\"edge.vncdn.co\",\"mid.vncdn.co\"]},\"scribe_cdn_sample_size\":{\"value\":50},\"scribe_web_nav\":{\"value\":false},\"scribe_web_nav_sample_size\":{\"value\":0},\"search_channels_description_enabled\":{\"value\":true},\"search_channels_discovery_page_enabled\":{\"value\":false},\"soft_interventions_like_nudge_enabled\":{\"value\":true},\"soft_interventions_nudge_backend_control_enabled\":{\"value\":true},\"soft_interventions_retweet_nudge_enabled\":{\"value\":true},\"soft_interventions_share_nudge_enabled\":{\"value\":true},\"stateful_login_enabled\":{\"value\":false},\"topic_icons_enabled\":{\"value\":false},\"topic_landing_page_enabled\":{\"value\":true},\"topic_landing_page_share_enabled\":{\"value\":true},\"topics_discovery_page_enabled\":{\"value\":false},\"topics_discovery_topic_picker_page_enabled\":{\"value\":true},\"topics_new_social_context_icon_color_enabled\":{\"value\":false},\"topics_peek_home_enabled\":{\"value\":false},\"topics_peek_search_enabled\":{\"value\":false},\"traffic_rewrite_map\":{\"value\":[]},\"tweet_limited_actions_config_enabled\":{\"value\":true},\"tweet_limited_actions_config_non_compliant\":{\"value\":[\"reply\",\"retweet\",\"like\",\"send_via_dm\",\"add_to_bookmarks\",\"add_to_moment\",\"pin_to_profile\",\"view_tweet_activity\",\"share_tweet_via\"]},\"unified_cards_cta_color_blue_cta\":{\"value\":true},\"user_display_name_max_limit\":{\"value\":50},\"voice_consumption_enabled\":{\"value\":false},\"voice_rooms_consumption_enabled\":{\"value\":false},\"web_video_bitrate_persistence_enabled\":{\"value\":false},\"web_video_hls_android_mse_enabled\":{\"value\":true},\"web_video_hls_mp4_threshold_sec\":{\"value\":0},\"web_video_hlsjs_version\":{\"value\":\"\"},\"web_video_prefetch_playlist_autoplay_disabled\":{\"value\":false},\"web_video_smart_buffering_enabled\":{\"value\":false},\"web_video_smart_buffering_preroll_prebuffering_enabled\":{\"value\":true}},\"impression_pointers\":{\"responsive_web_graphql_redux_module_users\":[\"rweb_relay_users_module_11545\"]},\"impressions\":{\"rweb_relay_users_module_11545\":{\"key\":\"rweb_relay_users_module_11545\",\"bucket\":\"control\",\"version\":4}},\"featureSetToken\":\"e9237a748d4ccab9e1cf4c138eff8de4b134665a\",\"isLoaded\":true,\"isLoading\":false,\"keysRead\":{},\"settingsVersion\":\"df5f739989c4be117a3396c790433f25\"},\"session\":{\"country\":\"MX\",\"emailLiteLoginEligibility\":{\"fetchStatus\":\"none\"},\"guestId\":\"161733997628474214\",\"language\":\"en\",\"oneFactorLoginEligibility\":{\"fetchStatus\":\"none\"}},\"typeaheadUsers\":{\"fetchStatus\":\"none\",\"users\":{},\"denylist\":{},\"lastUpdated\":0,\"index\":{}},\"settings\":{\"local\":{\"nextPushCheckin\":0,\"shouldAutoPlayGif\":false,\"scale\":\"normal\",\"themeColor\":\"blue500\",\"highContrastEnabled\":false,\"themeBackground\":\"light\",\"loginPromptLastShown\":0,\"reducedMotionEnabled\":false,\"showTweetMediaDetailDrawer\":true,\"autoPollNewTweets\":false},\"remote\":{\"settings\":{\"display_sensitive_media\":false},\"fetchStatus\":\"none\"},\"dataSaver\":{\"dataSaverMode\":false},\"transient\":{\"dtabBarInfo\":{\"hide\":false},\"loginPromptShown\":false,\"lastViewedDmInboxPath\":\"/messages\",\"themeFocus\":\"\"}},\"devices\":{\"browserPush\":{\"fetchStatus\":\"none\",\"pushNotificationsPrompt\":{\"dismissed\":false,\"fetchStatus\":\"none\"},\"subscribed\":false,\"supported\":null},\"devices\":{\"data\":{\"emails\":[],\"phone_numbers\":[]},\"fetchStatus\":\"none\"},\"notificationSettings\":{\"push_settings\":{\"error\":null,\"fetchStatus\":\"none\"},\"push_settings_template\":{\"template\":{\"settings\":[]}},\"sms_settings\":{\"error\":null,\"fetchStatus\":\"none\"},\"sms_settings_template\":{\"template\":{\"settings\":[]}},\"checkin_time\":null}},\"audio\":{\"conversationLookup\":{}},\"hashflags\":{\"fetchStatus\":\"none\",\"hashflags\":{}}};window.__META_DATA__={\"env\":\"prod\",\"isLoggedIn\":false,\"isRTL\":false,\"hasMultiAccountCookie\":false,\"uaParserTags\":[\"m2\",\"rweb_unsupported\",\"msw\"],\"serverDate\":1617339976335,\"sha\":\"21a0fb0027dc27ffc332c36bb8c0a911727e1b4d\"};</script><script id=\"nonce-csp\" nonce=\"NjEzNDJjYjYtNDhhNi00MDk5LTgzOWYtYTBkOGI4ZTAxYjI2\"></script><script charset=\"utf-8\" nonce=\"NjEzNDJjYjYtNDhhNi00MDk5LTgzOWYtYTBkOGI4ZTAxYjI2\" type=\"text/javascript\">window.__SCRIPTS_LOADED__ = {};!function(e){function n(n){for(var o,r,i=n[0],c=n[1],l=n[2],m=0,s=[];m<i.length;m++)r=i[m],Object.prototype.hasOwnProperty.call(a,r)&&a[r]&&s.push(a[r][0]),a[r]=0;for(o in c)Object.prototype.hasOwnProperty.call(c,o)&&(e[o]=c[o]);for(u&&u(n);s.length;)s.shift()();return t.push.apply(t,l||[]),d()}function d(){for(var e,n=0;n<t.length;n++){for(var d=t[n],o=!0,i=1;i<d.length;i++){var c=d[i];0!==a[c]&&(o=!1)}o&&(t.splice(n--,1),e=r(r.s=d[0]))}return e}var o={},a={1:0},t=[];function r(n){if(o[n])return o[n].exports;var d=o[n]={i:n,l:!1,exports:{}};return e[n].call(d.exports,d,d.exports,r),d.l=!0,d.exports}r.e=function(e){var n=[],d=a[e];if(0!==d)if(d)n.push(d[2]);else{var o=new Promise((function(n,o){d=a[e]=[n,o]}));n.push(d[2]=o);var t,i=document.createElement(\"script\");i.charset=\"utf-8\",i.timeout=120,r.nc&&i.setAttribute(\"nonce\",r.nc),i.src=function(e){return r.p+\"\"+({0:\"sharedCore\",3:\"shared~loader.DMDrawer~bundle.Compose~bundle.RichTextCompose~bundle.ComposeMedia~bundle.DirectMessages~bundle\",4:\"shared~loader.DMDrawer~bundle.Compose~bundle.RichTextCompose~bundle.DirectMessages~bundle.DMRichTextCompose~b\",5:\"shared~bundle.ComposeMedia~bundle.DirectMessages~bundle.SettingsProfile~bundle.Ocf~bundle.UserLists\",6:\"shared~bundle.SettingsRevamp~ondemand.SettingsInternals~ondemand.SettingsRevamp~bundle.Settings~bundle.Settin\",7:\"shared~bundle.Compose~bundle.RichTextCompose~ondemand.ComposeScheduling~bundle.PlainTextCompose\",8:\"shared~bundle.MultiAccount~bundle.Login~bundle.LoggedOutHome~ondemand.IntentPrompt\",9:\"shared~bundle.SettingsRevamp~bundle.SettingsTransparency~bundle.Settings~ondemand.SettingsInternals\",10:\"shared~bundle.Birdwatch~bundle.Explore~bundle.Topics\",11:\"shared~bundle.Place~bundle.Search~bundle.QuoteTweetActivity\",12:\"shared~bundle.SettingsRevamp~bundle.AccountVerification~bundle.BadgeViolationsNotification\",13:\"shared~bundle.DMRichTextCompose~ondemand.RichText\",14:\"shared~bundle.Explore~loader.ExploreSidebar\",15:\"shared~bundle.Settings~bundle.Display\",16:\"shared~bundle.TopicPeek~bundle.Topics\",17:\"shared~bundle.TopicPeek~ondemand.EmojiPicker\",18:\"shared~bundle.TweetMediaDetail~bundle.UserAvatar\",19:\"shared~loader.AudioOnlyVideoPlayer~ondemand.InlinePlayer\",20:\"shared~loader.DashMenu~bundle.Account\",21:\"shared~loaders.video.VideoPlayerDefaultUI~loaders.video.VideoPlayerEventsUI\",22:\"shared~ondemand.EmojiPickerData~ondemand.EmojiPicker\",23:\"shared~ondemand.GraphQLModule~ondemand.UserProfileGraphQL\",24:\"shared~ondemand.SettingsRevamp~ondemand.SettingsInternals\",25:\"bundle.AboutThisAd\",26:\"bundle.Account\",28:\"bundle.AdvancedSearch\",29:\"bundle.AudioSpace\",30:\"bundle.BadgeViolationsNotification\",31:\"bundle.Birdwatch\",32:\"bundle.Bookmarks\",33:\"bundle.Collection\",34:\"bundle.Communities\",35:\"bundle.Compose\",36:\"bundle.ComposeMedia\",37:\"bundle.ConnectTab\",38:\"bundle.Conversation\",39:\"bundle.ConversationParticipants\",40:\"bundle.DMRichTextCompose\",41:\"bundle.DirectMessages\",42:\"bundle.Display\",43:\"bundle.Download\",44:\"bundle.Explore\",45:\"bundle.ExploreTopics\",46:\"bundle.FleetsNotification\",47:\"bundle.FollowerRequests\",48:\"bundle.GenericTimeline\",49:\"bundle.GifSearch\",50:\"bundle.HomeTimeline\",51:\"bundle.KeyboardShortcuts\",52:\"bundle.LiveEvent\",53:\"bundle.LoggedOutHome\",54:\"bundle.Login\",55:\"bundle.Logout\",56:\"bundle.Moment\",57:\"bundle.MomentMaker\",58:\"bundle.MultiAccount\",59:\"bundle.NetworkInstrument\",60:\"bundle.NewsLanding\",61:\"bundle.Newsletters\",62:\"bundle.NotMyAccount\",63:\"bundle.NotificationDetail\",64:\"bundle.Notifications\",65:\"bundle.OAuth\",66:\"bundle.Ocf\",67:\"bundle.Place\",68:\"bundle.PlainTextCompose\",69:\"bundle.ProfileRedirect\",70:\"bundle.QuoteTweetActivity\",71:\"bundle.Report\",72:\"bundle.RichTextCompose\",73:\"bundle.Search\",74:\"bundle.Settings\",75:\"bundle.SettingsBizProfile\",76:\"bundle.SettingsInternals\",77:\"bundle.SettingsProfile\",78:\"bundle.SettingsRevamp\",79:\"bundle.SettingsTransparency\",80:\"bundle.SmsLogin\",81:\"bundle.TopicPeek\",82:\"bundle.Topics\",83:\"bundle.Trends\",84:\"bundle.TweetActivity\",85:\"bundle.TweetMediaDetail\",86:\"bundle.TweetMediaTags\",87:\"bundle.Twitterversary\",88:\"bundle.UserAvatar\",89:\"bundle.UserFollowLists\",90:\"bundle.UserLists\",91:\"bundle.UserMoments\",92:\"bundle.UserProfile\",93:\"bundle.UserRedirect\",144:\"loader.AbsolutePower\",145:\"loader.AppModules\",146:\"loader.AudioOnlyVideoPlayer\",147:\"loader.DMDrawer\",148:\"loader.DashMenu\",149:\"loader.ExploreSidebar\",150:\"loader.FeedbackSheet\",151:\"loader.FeedbackTombstone\",152:\"loader.NewTweetsPill\",153:\"loader.ProfileClusterFollow\",154:\"loader.PushNotificationsPrompt\",155:\"loader.SideNav\",156:\"loader.SignupModule\",157:\"loader.TimelineRenderer\",158:\"loader.TweetCurationActionMenu\",159:\"loader.Typeahead\",160:\"loader.WideLayout\",161:\"loader.directMessagesData\",162:\"loader.graphQLDarkReads\",163:\"loader.personalizationData\",164:\"loaders.video.PlayerHls13\",165:\"loaders.video.PlayerHls14\",166:\"loaders.video.VideoPlayerDefaultUI\",167:\"loaders.video.VideoPlayerEventsUI\",169:\"ondemand.Balloons\",170:\"ondemand.BranchSdk\",171:\"ondemand.CarouselScroller\",172:\"ondemand.ComposeScheduling\",173:\"ondemand.Dropdown\",174:\"ondemand.EditBirthdate\",175:\"ondemand.EditPinned\",176:\"ondemand.EmojiPicker\",177:\"ondemand.FleetMediaDetail\",178:\"ondemand.GraphQLModule\",179:\"ondemand.HoverCard\",180:\"ondemand.InlinePlayer\",181:\"ondemand.IntentPrompt\",182:\"ondemand.LottieWeb\",183:\"ondemand.MicrosoftInterface\",184:\"ondemand.ProfileSidebar\",185:\"ondemand.ReactBeautifulDnd\",186:\"ondemand.RichText\",187:\"ondemand.SettingsInternals\",188:\"ondemand.SettingsRevamp\",189:\"ondemand.UserProfileGraphQL\",190:\"ondemand.countries-ar\",191:\"ondemand.countries-bg\",192:\"ondemand.countries-bn\",193:\"ondemand.countries-ca\",194:\"ondemand.countries-cs\",195:\"ondemand.countries-da\",196:\"ondemand.countries-de\",197:\"ondemand.countries-el\",198:\"ondemand.countries-en\",199:\"ondemand.countries-en-GB\",200:\"ondemand.countries-es\",201:\"ondemand.countries-eu\",202:\"ondemand.countries-fa\",203:\"ondemand.countries-fi\",204:\"ondemand.countries-fil\",205:\"ondemand.countries-fr\",206:\"ondemand.countries-ga\",207:\"ondemand.countries-gl\",208:\"ondemand.countries-gu\",209:\"ondemand.countries-he\",210:\"ondemand.countries-hi\",211:\"ondemand.countries-hr\",212:\"ondemand.countries-hu\",213:\"ondemand.countries-id\",214:\"ondemand.countries-it\",215:\"ondemand.countries-ja\",216:\"ondemand.countries-kn\",217:\"ondemand.countries-ko\",218:\"ondemand.countries-mr\",219:\"ondemand.countries-ms\",220:\"ondemand.countries-nb\",221:\"ondemand.countries-nl\",222:\"ondemand.countries-pl\",223:\"ondemand.countries-pt\",224:\"ondemand.countries-ro\",225:\"ondemand.countries-ru\",226:\"ondemand.countries-sk\",2228:\"ondemand.countries-sv\",229:\"ondemand.countries-ta\",230:\"ondemand.countries-th\",231:\"ondemand.countries-tr\",232:\"ondemand.countries-uk\",233:\"ondemand.countries-ur\",234:\"ondemand.countries-zh\",235:\"ondemand.countries-zh-Hant\",236:\"ondemand.emoji.ar\",237:\"ondemand.emoji.ar-x-fm\",238:\"ondemand.emoji.bg\",239:\"ondemand.emoji.bn\",240:\"ondemand.emoji.ca\",241:\"ondemand.emoji.cs\",242:\"ondemand.emoji.da\",243:\"ondemand.emoji.de\",244:\"ondemand.emoji.el\",245:\"ondemand.emoji.en\",246:\"ondemand.emoji.en-GB\",247:\"ondemand.emoji.en-ss\",248:\"ondemand.emoji.en-xx\",249:\"ondemand.emoji.es\",250:\"ondemand.emoji.eu\",251:\"ondemand.emoji.fa\",252:\"ondemand.emoji.fi\",253:\"ondemand.emoji.fil\",254:\"ondemand.emoji.fr\",255:\"ondemand.emoji.ga\",256:\"ondemand.emoji.gl\",257:\"ondemand.emoji.gu\",258:\"ondemand.emoji.he\",259:\"ondemand.emoji.hi\",260:\"ondemand.emoji.hr\",261:\"ondemand.emoji.hu\",262:\"ondemand.emoji.id\",263:\"ondemand.emoji.it\",264:\"ondemand.emoji.ja\",265:\"ondemand.emoji.kn\",266:\"ondemand.emoji.ko\",267:\"ondemand.emoji.mr\",268:\"ondemand.emoji.ms\",269:\"ondemand.emoji.nb\",270:\"ondemand.emoji.nl\",271:\"ondemand.emoji.pl\",272:\"ondemand.emoji.pt\",273:\"ondemand.emoji.ro\",274:\"ondemand.emoji.ru\",275:\"ondemand.emoji.sk\",276:\"ondemand.emoji.sr\",277:\"ondemand.emoji.sv\",278:\"ondemand.emoji.ta\",279:\"ondemand.emoji.th\",280:\"ondemand.emoji.tr\",281:\"ondemand.emoji.uk\",282:\"ondemand.emoji.ur\",283:\"ondemand.emoji.vi\",284:\"ondemand.emoji.zh\",285:\"ondemand.emoji.zh-Hant\",286:\"ondemand.framerateTracking\"}[e]||e)+\".\"+{0:\"c8a2077\",3:\"8a26b33\",4:\"ea4cc00\",5:\"788a398\",6:\"446e27d\",7:\"99adbff\",8:\"40dd54a\",9:\"e702564\",10:\"24c55d3\",11:\"866b69c\",12:\"942fd88\",13:\"19c0162\",14:\"439342d\",15:\"46f7391\",16:\"c17b4bb\",17:\"50b21d1\",18:\"0a17ba4\",19:\"96a22e2\",20:\"290df47\",21:\"9d71c63\",22:\"d95c065\",23:\"0fb5289\",24:\"8e33c02\",25:\"c9d83c3\",26:\"01a0cf0\",28:\"ce50d14\",29:\"e625b25\",30:\"dd4f9b7\",31:\"23c21dc\",32:\"4210f0b\",33:\"a4dc233\",34:\"2d688a0\",35:\"d72c280\",36:\"10c7e50\",37:\"95d9b51\",38:\"ab3a420\",39:\"8f2cef4\",40:\"d316862\",41:\"153685b\",42:\"3cdfbea\",43:\"64718ce\",44:\"1ff78ce\",45:\"65ce6fa\",46:\"70bebc8\",47:\"251e896\",48:\"19e7315\",49:\"64f0224\",50:\"11616bb\",51:\"074d025\",52:\"dc5197c\",53:\"e70f441\",54:\"0217c88\",55:\"00113ef\",56:\"29238b8\",57:\"dbe1d10\",58:\"99cba6b\",59:\"7dc00ca\",60:\"b88a0e1\",61:\"8ac2b36\",62:\"f910d7d\",63:\"aafefd4\",64:\"2b8844a\",65:\"17483ab\",66:\"d3a0244\",67:\"1a517c3\",68:\"4aef8e6\",69:\"00d02dd\",70:\"833a95d\",71:\"cb13d12\",72:\"b637f93\",73:\"0f4ad42\",74:\"1d43ba3\",75:\"6cc0d66\",76:\"e1f9acf\",77:\"253a3b6\",78:\"d68be36\",79:\"bd4ee0c\",80:\"e1e17de\",81:\"43aaee3\",82:\"bf62c77\",83:\"a665a50\",84:\"8879268\",85:\"789703e\",86:\"9e7b520\",87:\"67a4035\",88:\"4e4d6b5\",89:\"aade518\",90:\"cd5c5c3\",91:\"d76d8f1\",92:\"32ce4a3\",93:\"0a9b6f4\",144:\"257fcfa\",145:\"12bbd45\",146:\"914c294\",147:\"567b892\",148:\"4e2b174\",149:\"566cf83\",150:\"2576c1d\",151:\"3f779be\",152:\"e7509d3\",153:\"f5c3cbb\",154:\"73decdb\",155:\"c05b65d\",156:\"5ab4d39\",157:\"874bbca\",158:\"8088af6\",159:\"893c4c2\",160:\"c55e65c\",161:\"d9b8382\",162:\"45569dd\",163:\"a07c560\",164:\"297dfa3\",165:\"89c4072\",166:\"7557ff8\",167:\"e18e387\",169:\"93254af\",170:\"d35c816\",171:\"c9b2a29\",172:\"70f282f\",173:\"40baf2c\",174:\"aa9ce4d\",175:\"615b76d\",176:\"29da05f\",177:\"83a5917\",178:\"2cf3dd8\",179:\"f1240c1\",180:\"d8929a3\",181:\"f44016a\",182:\"9b6e16f\",183:\"074f5b8\",184:\"7ebe149\",185:\"6d54a68\",186:\"22911ea\",187:\"f6f6e59\",188:\"e66549d\",189:\"d2df83c\",190:\"5e02757\",191:\"3748772\",192:\"551fe10\",193:\"6e20cc8\",194:\"1a4c4eb\",195:\"905b657\",196:\"9f2947c\",197:\"f3fc69f\",198:\"3f16c84\",199:\"adb3c2d\",200:\"f596511\",201:\"f6f8cf0\",202:\"f8304a8\",203:\"6b0d96c\",204:\"eb9709e\",205:\"c7bfe18\",206:\"b843d01\",207:\"8f09442\",208:\"62860aa\",209:\"cd7cb75\",210:\"f87b56e\",211:\"b060c84\",212:\"8eaac5e\",213:\"d39a03a\",214:\"f2cfabe\",215:\"8119d9f\",216:\"ff6341c\",217:\"4d7b94d\",218:\"5e57f4b\",219:\"21a2aff\",220:\"390b1ca\",221:\"54d8599\",222:\"66953f0\",223:\"25fadf1\",224:\"aba5b33\",225:\"233d934\",226:\"7acdf84\",2228:\"5fa03b9\",229:\"a62b315\",230:\"3b04ce5\",231:\"a99020b\",232:\"9111fa3\",233:\"6de59d3\",234:\"cea23bc\",235:\"38fb7d3\",236:\"ac307e9\",237:\"047b7f8\",238:\"f2a8e87\",239:\"7a7eeaa\",240:\"dcc21fe\",241:\"28c8500\",242:\"53ff4df\",243:\"38354a1\",244:\"fdc6308\",245:\"d042a19\",246:\"34653a5\",247:\"019ccb1\",248:\"5438edb\",249:\"81466e2\",250:\"c06dc37\",251:\"49f83f2\",252:\"0953dc6\",253:\"1078fe9\",254:\"341c02c\",255:\"dcb62b9\",256:\"214e5d7\",257:\"20c14ac\",258:\"8c064d7\",259:\"3c763b0\",260:\"5e795bb\",261:\"2f89241\",262:\"eddf9b9\",263:\"9c2f6e9\",264:\"aca7544\",265:\"4f4d6b6\",266:\"bccec31\",267:\"4820961\",268:\"0b8299f\",269:\"23331d3\",270:\"05783c6\",271:\"4920b1c\",272:\"4f8dc9d\",273:\"977d60a\",274:\"6f917b1\",275:\"9f623e5\",276:\"92b6df8\",277:\"7d0e14c\",278:\"607e22f\",279:\"f9dbb5a\",280:\"edd1c39\",281:\"500c9f8\",282:\"da3e581\",283:\"cb44e67\",284:\"79fe921\",285:\"d22c15c\",286:\"b535496\"}[e]+\"5.js\"}(e);var c=new Error;t=function(n){i.onerror=i.onload=null,clearTimeout(l);var d=a[e];if(0!==d){if(d){var o=n&&(\"load\"===n.type?\"missing\":n.type),t=n&&n.target&&n.target.src;c.message=\"Loading chunk \"+e+\" failed.\\n(\"+o+\": \"+t+\")\",c.name=\"ChunkLoadError\",c.type=o,c.request=t,d[1](c)}a[e]=void 0}};var l=setTimeout((function(){t({type:\"timeout\",target:i})}),12e4);i.onerror=i.onload=t,document.head.appendChild(i)}return Promise.all(n)},r.m=e,r.c=o,r.d=function(e,n,d){r.o(e,n)||Object.defineProperty(e,n,{enumerable:!0,get:d})},r.r=function(e){\"undefined\"!=typeof Symbol&&Symbol.toStringTag&&Object.defineProperty(e,Symbol.toStringTag,{value:\"Module\"}),Object.defineProperty(e,\"__esModule\",{value:!0})},r.t=function(e,n){if(1&n&&(e=r(e)),8&n)return e;if(4&n&&\"object\"==typeof e&&e&&e.__esModule)return e;var d=Object.create(null);if(r.r(d),Object.defineProperty(d,\"default\",{enumerable:!0,value:e}),2&n&&\"string\"!=typeof e)for(var o in e)r.d(d,o,function(n){return e[n]}.bind(null,o));return d},r.n=function(e){var n=e&&e.__esModule?function(){return e.default}:function(){return e};return r.d(n,\"a\",n),n},r.o=function(e,n){return Object.prototype.hasOwnProperty.call(e,n)},r.p=\"https://abs.twimg.com/responsive-web/client-web-legacy/\",r.oe=function(e){throw e};var i=window.webpackJsonp=window.webpackJsonp||[],c=i.push.bind(i);i.push=n,i=i.slice();for(var l=0;l<i.length;l++)n(i[l]);var u=c;d()}([]),window.__SCRIPTS_LOADED__.runtime=!0;\n",
       "</script><script charset=\"utf-8\" crossorigin=\"anonymous\" nonce=\"NjEzNDJjYjYtNDhhNi00MDk5LTgzOWYtYTBkOGI4ZTAxYjI2\" src=\"https://abs.twimg.com/responsive-web/client-web-legacy/polyfills.98da7185.js\" type=\"text/javascript\"></script><script charset=\"utf-8\" crossorigin=\"anonymous\" nonce=\"NjEzNDJjYjYtNDhhNi00MDk5LTgzOWYtYTBkOGI4ZTAxYjI2\" src=\"https://abs.twimg.com/responsive-web/client-web-legacy/vendors~main.f53f6d75.js\" type=\"text/javascript\"></script><script charset=\"utf-8\" crossorigin=\"anonymous\" nonce=\"NjEzNDJjYjYtNDhhNi00MDk5LTgzOWYtYTBkOGI4ZTAxYjI2\" src=\"https://abs.twimg.com/responsive-web/client-web-legacy/i18n/en.5296e0c5.js\" type=\"text/javascript\"></script><script charset=\"utf-8\" crossorigin=\"anonymous\" nonce=\"NjEzNDJjYjYtNDhhNi00MDk5LTgzOWYtYTBkOGI4ZTAxYjI2\" src=\"https://abs.twimg.com/responsive-web/client-web-legacy/main.9718dfd5.js\" type=\"text/javascript\"></script><script nonce=\"NjEzNDJjYjYtNDhhNi00MDk5LTgzOWYtYTBkOGI4ZTAxYjI2\">(function () {\n",
       "  if (!window.__SCRIPTS_LOADED__['main']) {\n",
       "    document.getElementById('ScriptLoadFailure').style.display = 'block';\n",
       "    var criticalScripts = [\"polyfills\",\"vendors~main\",\"i18n\",\"main\"];\n",
       "    for (var i = 0; i < criticalScripts.length; i++) {\n",
       "      var criticalScript = criticalScripts[i];\n",
       "      if (!window.__SCRIPTS_LOADED__[criticalScript]) {\n",
       "        document.getElementsByName('failedScript')[0].value = criticalScript;\n",
       "        break;\n",
       "      }\n",
       "    }\n",
       "  }\n",
       "})();</script><script nonce=\"NjEzNDJjYjYtNDhhNi00MDk5LTgzOWYtYTBkOGI4ZTAxYjI2\">document.cookie = decodeURIComponent(\"gt=1377849842433585154; Max-Age=10800; Domain=.twitter.com; Path=/; Secure\");</script></body></link></html>"
      ]
     },
     "metadata": {},
     "execution_count": 137
    }
   ],
   "source": [
    "# This is the url you will scrape in this exercise \n",
    "# You will need to add the account credentials to this url\n",
    "\n",
    "from urllib.request import urlopen\n",
    "\n",
    "url = 'https://twitter.com/barackobama'\n",
    "html = urlopen(url)\n",
    "soup = BeautifulSoup(html, \"html.parser\")\n",
    "soup"
   ]
  },
  {
   "cell_type": "code",
   "execution_count": null,
   "metadata": {},
   "outputs": [],
   "source": [
    "#your code"
   ]
  },
  {
   "cell_type": "markdown",
   "metadata": {},
   "source": [
    "#### Number of followers of a given twitter account"
   ]
  },
  {
   "cell_type": "markdown",
   "metadata": {},
   "source": [
    "You will need to include a ***try/except block*** in case account/s name not found. \n",
    "<br>***Hint:*** the program should count the followers for any provided account"
   ]
  },
  {
   "cell_type": "code",
   "execution_count": 138,
   "metadata": {},
   "outputs": [
    {
     "output_type": "execute_result",
     "data": {
      "text/plain": [
       "e_show_enabled\":{\"value\":false},\"responsive_web_serviceworker_safari_disabled\":{\"value\":false},\"responsive_web_settings_revamp_enabled\":{\"value\":false},\"responsive_web_settings_timeline_polling_enabled\":{\"value\":false},\"responsive_web_settings_timeline_polling_interval_ms\":{\"value\":0},\"responsive_web_settings_timeline_refresh_background_interval\":{\"value\":0},\"responsive_web_settings_timeline_refresh_enabled\":{\"value\":false},\"responsive_web_settings_timeline_refresh_instant_default\":{\"value\":true},\"responsive_web_sidebar_ttf_enabled\":{\"value\":false},\"responsive_web_trends_setting_new_endpoints\":{\"value\":true},\"responsive_web_trigger_test_backoff_on_bookmark\":{\"value\":false},\"responsive_web_unsupported_entry_tombstone\":{\"value\":false},\"responsive_web_use_app_prompt_copy_variant\":{\"value\":\"\"},\"responsive_web_use_app_prompt_enabled\":{\"value\":false},\"responsive_web_video_control_bar_refactor_enabled\":{\"value\":true},\"responsive_web_video_pcomplete_enabled\":{\"value\":true},\"responsive_web_video_promoted_logging_enabled\":{\"value\":false},\"responsive_web_virtual_keyboard_detector\":{\"value\":false},\"responsive_web_vod_muted_captions_enabled\":{\"value\":true},\"responsive_web_vs_config_resize_observer_enabled\":{\"value\":true},\"responsive_web_zipkin_api_requests_enabled\":{\"value\":false},\"responsive_web_zipkin_api_requests_paths_allowlist\":{\"value\":[\"/2/timeline/home.json\"]},\"rito_smart_block_list_enabled\":{\"value\":false},\"scribe_api_error_sample_size\":{\"value\":0},\"scribe_api_sample_size\":{\"value\":100},\"scribe_cdn_host_list\":{\"value\":[\"si0.twimg.com\",\"si1.twimg.com\",\"si2.twimg.com\",\"si3.twimg.com\",\"a0.twimg.com\",\"a1.twimg.com\",\"a2.twimg.com\",\"a3.twimg.com\",\"abs.twimg.com\",\"amp.twimg.com\",\"o.twimg.com\",\"pbs.twimg.com\",\"pbs-eb.twimg.com\",\"pbs-ec.twimg.com\",\"pbs-v6.twimg.com\",\"pbs-h1.twimg.com\",\"pbs-h2.twimg.com\",\"video.twimg.com\",\"platform.twitter.com\",\"cdn.api.twitter.com\",\"ton.twimg.com\",\"v.cdn.vine.co\",\"mtc.cdn.vine.co\",\"edge.vncdn.co\",\"mid.vncdn.co\"]},\"scribe_cdn_sample_size\":{\"value\":50},\"scribe_web_nav\":{\"value\":false},\"scribe_web_nav_sample_size\":{\"value\":0},\"search_channels_description_enabled\":{\"value\":true},\"search_channels_discovery_page_enabled\":{\"value\":false},\"soft_interventions_like_nudge_enabled\":{\"value\":true},\"soft_interventions_nudge_backend_control_enabled\":{\"value\":true},\"soft_interventions_retweet_nudge_enabled\":{\"value\":true},\"soft_interventions_share_nudge_enabled\":{\"value\":true},\"stateful_login_enabled\":{\"value\":false},\"topic_icons_enabled\":{\"value\":false},\"topic_landing_page_enabled\":{\"value\":true},\"topic_landing_page_share_enabled\":{\"value\":true},\"topics_discovery_page_enabled\":{\"value\":false},\"topics_discovery_topic_picker_page_enabled\":{\"value\":true},\"topics_new_social_context_icon_color_enabled\":{\"value\":false},\"topics_peek_home_enabled\":{\"value\":false},\"topics_peek_search_enabled\":{\"value\":false},\"traffic_rewrite_map\":{\"value\":[]},\"tweet_limited_actions_config_enabled\":{\"value\":true},\"tweet_limited_actions_config_non_compliant\":{\"value\":[\"reply\",\"retweet\",\"like\",\"send_via_dm\",\"add_to_bookmarks\",\"add_to_moment\",\"pin_to_profile\",\"view_tweet_activity\",\"share_tweet_via\"]},\"unified_cards_cta_color_blue_cta\":{\"value\":true},\"user_display_name_max_limit\":{\"value\":50},\"voice_consumption_enabled\":{\"value\":false},\"voice_rooms_consumption_enabled\":{\"value\":false},\"web_video_bitrate_persistence_enabled\":{\"value\":false},\"web_video_hls_android_mse_enabled\":{\"value\":true},\"web_video_hls_mp4_threshold_sec\":{\"value\":0},\"web_video_hlsjs_version\":{\"value\":\"\"},\"web_video_prefetch_playlist_autoplay_disabled\":{\"value\":false},\"web_video_smart_buffering_enabled\":{\"value\":false},\"web_video_smart_buffering_preroll_prebuffering_enabled\":{\"value\":true}},\"impression_pointers\":{},\"impressions\":{},\"featureSetToken\":\"e9237a748d4ccab9e1cf4c138eff8de4b134665a\",\"isLoaded\":true,\"isLoading\":false,\"keysRead\":{},\"settingsVersion\":\"4ecdd210a252c9f0cbc82f584a08842b\"},\"session\":{\"country\":\"MX\",\"emailLiteLoginEligibility\":{\"fetchStatus\":\"none\"},\"guestId\":\"161734002619645657\",\"language\":\"en\",\"oneFactorLoginEligibility\":{\"fetchStatus\":\"none\"}},\"typeaheadUsers\":{\"fetchStatus\":\"none\",\"users\":{},\"denylist\":{},\"lastUpdated\":0,\"index\":{}},\"settings\":{\"local\":{\"nextPushCheckin\":0,\"shouldAutoPlayGif\":false,\"scale\":\"normal\",\"themeColor\":\"blue500\",\"highContrastEnabled\":false,\"themeBackground\":\"light\",\"loginPromptLastShown\":0,\"reducedMotionEnabled\":false,\"showTweetMediaDetailDrawer\":true,\"autoPollNewTweets\":false},\"remote\":{\"settings\":{\"display_sensitive_media\":false},\"fetchStatus\":\"none\"},\"dataSaver\":{\"dataSaverMode\":false},\"transient\":{\"dtabBarInfo\":{\"hide\":false},\"loginPromptShown\":false,\"lastViewedDmInboxPath\":\"/messages\",\"themeFocus\":\"\"}},\"devices\":{\"browserPush\":{\"fetchStatus\":\"none\",\"pushNotificationsPrompt\":{\"dismissed\":false,\"fetchStatus\":\"none\"},\"subscribed\":false,\"supported\":null},\"devices\":{\"data\":{\"emails\":[],\"phone_numbers\":[]},\"fetchStatus\":\"none\"},\"notificationSettings\":{\"push_settings\":{\"error\":null,\"fetchStatus\":\"none\"},\"push_settings_template\":{\"template\":{\"settings\":[]}},\"sms_settings\":{\"error\":null,\"fetchStatus\":\"none\"},\"sms_settings_template\":{\"template\":{\"settings\":[]}},\"checkin_time\":null}},\"audio\":{\"conversationLookup\":{}},\"hashflags\":{\"fetchStatus\":\"none\",\"hashflags\":{}}};window.__META_DATA__={\"env\":\"prod\",\"isLoggedIn\":false,\"isRTL\":false,\"hasMultiAccountCookie\":false,\"uaParserTags\":[\"m2\",\"rweb_unsupported\",\"msw\"],\"serverDate\":1617340026256,\"sha\":\"21a0fb0027dc27ffc332c36bb8c0a911727e1b4d\"};</script><script id=\"nonce-csp\" nonce=\"M2NlNWU1ZDgtNTNiOS00M2MzLTgzYmItM2RmOTIzZTAyZTkx\"></script><script charset=\"utf-8\" nonce=\"M2NlNWU1ZDgtNTNiOS00M2MzLTgzYmItM2RmOTIzZTAyZTkx\" type=\"text/javascript\">window.__SCRIPTS_LOADED__ = {};!function(e){function n(n){for(var o,r,i=n[0],c=n[1],l=n[2],m=0,s=[];m<i.length;m++)r=i[m],Object.prototype.hasOwnProperty.call(a,r)&&a[r]&&s.push(a[r][0]),a[r]=0;for(o in c)Object.prototype.hasOwnProperty.call(c,o)&&(e[o]=c[o]);for(u&&u(n);s.length;)s.shift()();return t.push.apply(t,l||[]),d()}function d(){for(var e,n=0;n<t.length;n++){for(var d=t[n],o=!0,i=1;i<d.length;i++){var c=d[i];0!==a[c]&&(o=!1)}o&&(t.splice(n--,1),e=r(r.s=d[0]))}return e}var o={},a={1:0},t=[];function r(n){if(o[n])return o[n].exports;var d=o[n]={i:n,l:!1,exports:{}};return e[n].call(d.exports,d,d.exports,r),d.l=!0,d.exports}r.e=function(e){var n=[],d=a[e];if(0!==d)if(d)n.push(d[2]);else{var o=new Promise((function(n,o){d=a[e]=[n,o]}));n.push(d[2]=o);var t,i=document.createElement(\"script\");i.charset=\"utf-8\",i.timeout=120,r.nc&&i.setAttribute(\"nonce\",r.nc),i.src=function(e){return r.p+\"\"+({0:\"sharedCore\",3:\"shared~loader.DMDrawer~bundle.Compose~bundle.RichTextCompose~bundle.ComposeMedia~bundle.DirectMessages~bundle\",4:\"shared~loader.DMDrawer~bundle.Compose~bundle.RichTextCompose~bundle.DirectMessages~bundle.DMRichTextCompose~b\",5:\"shared~bundle.ComposeMedia~bundle.DirectMessages~bundle.SettingsProfile~bundle.Ocf~bundle.UserLists\",6:\"shared~bundle.SettingsRevamp~ondemand.SettingsInternals~ondemand.SettingsRevamp~bundle.Settings~bundle.Settin\",7:\"shared~bundle.Compose~bundle.RichTextCompose~ondemand.ComposeScheduling~bundle.PlainTextCompose\",8:\"shared~bundle.MultiAccount~bundle.Login~bundle.LoggedOutHome~ondemand.IntentPrompt\",9:\"shared~bundle.SettingsRevamp~bundle.SettingsTransparency~bundle.Settings~ondemand.SettingsInternals\",10:\"shared~bundle.Birdwatch~bundle.Explore~bundle.Topics\",11:\"shared~bundle.Place~bundle.Search~bundle.QuoteTweetActivity\",12:\"shared~bundle.SettingsRevamp~bundle.AccountVerification~bundle.BadgeViolationsNotification\",13:\"shared~bundle.DMRichTextCompose~ondemand.RichText\",14:\"shared~bundle.Explore~loader.ExploreSidebar\",15:\"shared~bundle.Settings~bundle.Display\",16:\"shared~bundle.TopicPeek~bundle.Topics\",17:\"shared~bundle.TopicPeek~ondemand.EmojiPicker\",18:\"shared~bundle.TweetMediaDetail~bundle.UserAvatar\",19:\"shared~loader.AudioOnlyVideoPlayer~ondemand.InlinePlayer\",20:\"shared~loader.DashMenu~bundle.Account\",21:\"shared~loaders.video.VideoPlayerDefaultUI~loaders.video.VideoPlayerEventsUI\",22:\"shared~ondemand.EmojiPickerData~ondemand.EmojiPicker\",23:\"shared~ondemand.GraphQLModule~ondemand.UserProfileGraphQL\",24:\"shared~ondemand.SettingsRevamp~ondemand.SettingsInternals\",25:\"bundle.AboutThisAd\",26:\"bundle.Account\",28:\"bundle.AdvancedSearch\",29:\"bundle.AudioSpace\",30:\"bundle.BadgeViolationsNotification\",31:\"bundle.Birdwatch\",32:\"bundle.Bookmarks\",33:\"bundle.Collection\",34:\"bundle.Communities\",35:\"bundle.Compose\",36:\"bundle.ComposeMedia\",37:\"bundle.ConnectTab\",38:\"bundle.Conversation\",39:\"bundle.ConversationParticipants\",40:\"bundle.DMRichTextCompose\",41:\"bundle.DirectMessages\",42:\"bundle.Display\",43:\"bundle.Download\",44:\"bundle.Explore\",45:\"bundle.ExploreTopics\",46:\"bundle.FleetsNotification\",47:\"bundle.FollowerRequests\",48:\"bundle.GenericTimeline\",49:\"bundle.GifSearch\",50:\"bundle.HomeTimeline\",51:\"bundle.KeyboardShortcuts\",52:\"bundle.LiveEvent\",53:\"bundle.LoggedOutHome\",54:\"bundle.Login\",55:\"bundle.Logout\",56:\"bundle.Moment\",57:\"bundle.MomentMaker\",58:\"bundle.MultiAccount\",59:\"bundle.NetworkInstrument\",60:\"bundle.NewsLanding\",61:\"bundle.Newsletters\",62:\"bundle.NotMyAccount\",63:\"bundle.NotificationDetail\",64:\"bundle.Notifications\",65:\"bundle.OAuth\",66:\"bundle.Ocf\",67:\"bundle.Place\",68:\"bundle.PlainTextCompose\",69:\"bundle.ProfileRedirect\",70:\"bundle.QuoteTweetActivity\",71:\"bundle.Report\",72:\"bundle.RichTextCompose\",73:\"bundle.Search\",74:\"bundle.Settings\",75:\"bundle.SettingsBizProfile\",76:\"bundle.SettingsInternals\",77:\"bundle.SettingsProfile\",78:\"bundle.SettingsRevamp\",79:\"bundle.SettingsTransparency\",80:\"bundle.SmsLogin\",81:\"bundle.TopicPeek\",82:\"bundle.Topics\",83:\"bundle.Trends\",84:\"bundle.TweetActivity\",85:\"bundle.TweetMediaDetail\",86:\"bundle.TweetMediaTags\",87:\"bundle.Twitterversary\",88:\"bundle.UserAvatar\",89:\"bundle.UserFollowLists\",90:\"bundle.UserLists\",91:\"bundle.UserMoments\",92:\"bundle.UserProfile\",93:\"bundle.UserRedirect\",144:\"loader.AbsolutePower\",145:\"loader.AppModules\",146:\"loader.AudioOnlyVideoPlayer\",147:\"loader.DMDrawer\",148:\"loader.DashMenu\",149:\"loader.ExploreSidebar\",150:\"loader.FeedbackSheet\",151:\"loader.FeedbackTombstone\",152:\"loader.NewTweetsPill\",153:\"loader.ProfileClusterFollow\",154:\"loader.PushNotificationsPrompt\",155:\"loader.SideNav\",156:\"loader.SignupModule\",157:\"loader.TimelineRenderer\",158:\"loader.TweetCurationActionMenu\",159:\"loader.Typeahead\",160:\"loader.WideLayout\",161:\"loader.directMessagesData\",162:\"loader.graphQLDarkReads\",163:\"loader.personalizationData\",164:\"loaders.video.PlayerHls13\",165:\"loaders.video.PlayerHls14\",166:\"loaders.video.VideoPlayerDefaultUI\",167:\"loaders.video.VideoPlayerEventsUI\",169:\"ondemand.Balloons\",170:\"ondemand.BranchSdk\",171:\"ondemand.CarouselScroller\",172:\"ondemand.ComposeScheduling\",173:\"ondemand.Dropdown\",174:\"ondemand.EditBirthdate\",175:\"ondemand.EditPinned\",176:\"ondemand.EmojiPicker\",177:\"ondemand.FleetMediaDetail\",178:\"ondemand.GraphQLModule\",179:\"ondemand.HoverCard\",180:\"ondemand.InlinePlayer\",181:\"ondemand.IntentPrompt\",182:\"ondemand.LottieWeb\",183:\"ondemand.MicrosoftInterface\",184:\"ondemand.ProfileSidebar\",185:\"ondemand.ReactBeautifulDnd\",186:\"ondemand.RichText\",187:\"ondemand.SettingsInternals\",188:\"ondemand.SettingsRevamp\",189:\"ondemand.UserProfileGraphQL\",190:\"ondemand.countries-ar\",191:\"ondemand.countries-bg\",192:\"ondemand.countries-bn\",193:\"ondemand.countries-ca\",194:\"ondemand.countries-cs\",195:\"ondemand.countries-da\",196:\"ondemand.countries-de\",197:\"ondemand.countries-el\",198:\"ondemand.countries-en\",199:\"ondemand.countries-en-GB\",200:\"ondemand.countries-es\",201:\"ondemand.countries-eu\",202:\"ondemand.countries-fa\",203:\"ondemand.countries-fi\",204:\"ondemand.countries-fil\",205:\"ondemand.countries-fr\",206:\"ondemand.countries-ga\",207:\"ondemand.countries-gl\",208:\"ondemand.countries-gu\",209:\"ondemand.countries-he\",210:\"ondemand.countries-hi\",211:\"ondemand.countries-hr\",212:\"ondemand.countries-hu\",213:\"ondemand.countries-id\",214:\"ondemand.countries-it\",215:\"ondemand.countries-ja\",216:\"ondemand.countries-kn\",217:\"ondemand.countries-ko\",218:\"ondemand.countries-mr\",219:\"ondemand.countries-ms\",220:\"ondemand.countries-nb\",221:\"ondemand.countries-nl\",222:\"ondemand.countries-pl\",223:\"ondemand.countries-pt\",224:\"ondemand.countries-ro\",225:\"ondemand.countries-ru\",226:\"ondemand.countries-sk\",2228:\"ondemand.countries-sv\",229:\"ondemand.countries-ta\",230:\"ondemand.countries-th\",231:\"ondemand.countries-tr\",232:\"ondemand.countries-uk\",233:\"ondemand.countries-ur\",234:\"ondemand.countries-zh\",235:\"ondemand.countries-zh-Hant\",236:\"ondemand.emoji.ar\",237:\"ondemand.emoji.ar-x-fm\",238:\"ondemand.emoji.bg\",239:\"ondemand.emoji.bn\",240:\"ondemand.emoji.ca\",241:\"ondemand.emoji.cs\",242:\"ondemand.emoji.da\",243:\"ondemand.emoji.de\",244:\"ondemand.emoji.el\",245:\"ondemand.emoji.en\",246:\"ondemand.emoji.en-GB\",247:\"ondemand.emoji.en-ss\",248:\"ondemand.emoji.en-xx\",249:\"ondemand.emoji.es\",250:\"ondemand.emoji.eu\",251:\"ondemand.emoji.fa\",252:\"ondemand.emoji.fi\",253:\"ondemand.emoji.fil\",254:\"ondemand.emoji.fr\",255:\"ondemand.emoji.ga\",256:\"ondemand.emoji.gl\",257:\"ondemand.emoji.gu\",258:\"ondemand.emoji.he\",259:\"ondemand.emoji.hi\",260:\"ondemand.emoji.hr\",261:\"ondemand.emoji.hu\",262:\"ondemand.emoji.id\",263:\"ondemand.emoji.it\",264:\"ondemand.emoji.ja\",265:\"ondemand.emoji.kn\",266:\"ondemand.emoji.ko\",267:\"ondemand.emoji.mr\",268:\"ondemand.emoji.ms\",269:\"ondemand.emoji.nb\",270:\"ondemand.emoji.nl\",271:\"ondemand.emoji.pl\",272:\"ondemand.emoji.pt\",273:\"ondemand.emoji.ro\",274:\"ondemand.emoji.ru\",275:\"ondemand.emoji.sk\",276:\"ondemand.emoji.sr\",277:\"ondemand.emoji.sv\",278:\"ondemand.emoji.ta\",279:\"ondemand.emoji.th\",280:\"ondemand.emoji.tr\",281:\"ondemand.emoji.uk\",282:\"ondemand.emoji.ur\",283:\"ondemand.emoji.vi\",284:\"ondemand.emoji.zh\",285:\"ondemand.emoji.zh-Hant\",286:\"ondemand.framerateTracking\"}[e]||e)+\".\"+{0:\"c8a2077\",3:\"8a26b33\",4:\"ea4cc00\",5:\"788a398\",6:\"446e27d\",7:\"99adbff\",8:\"40dd54a\",9:\"e702564\",10:\"24c55d3\",11:\"866b69c\",12:\"942fd88\",13:\"19c0162\",14:\"439342d\",15:\"46f7391\",16:\"c17b4bb\",17:\"50b21d1\",18:\"0a17ba4\",19:\"96a22e2\",20:\"290df47\",21:\"9d71c63\",22:\"d95c065\",23:\"0fb5289\",24:\"8e33c02\",25:\"c9d83c3\",26:\"01a0cf0\",28:\"ce50d14\",29:\"e625b25\",30:\"dd4f9b7\",31:\"23c21dc\",32:\"4210f0b\",33:\"a4dc233\",34:\"2d688a0\",35:\"d72c280\",36:\"10c7e50\",37:\"95d9b51\",38:\"ab3a420\",39:\"8f2cef4\",40:\"d316862\",41:\"153685b\",42:\"3cdfbea\",43:\"64718ce\",44:\"1ff78ce\",45:\"65ce6fa\",46:\"70bebc8\",47:\"251e896\",48:\"19e7315\",49:\"64f0224\",50:\"11616bb\",51:\"074d025\",52:\"dc5197c\",53:\"e70f441\",54:\"0217c88\",55:\"00113ef\",56:\"29238b8\",57:\"dbe1d10\",58:\"99cba6b\",59:\"7dc00ca\",60:\"b88a0e1\",61:\"8ac2b36\",62:\"f910d7d\",63:\"aafefd4\",64:\"2b8844a\",65:\"17483ab\",66:\"d3a0244\",67:\"1a517c3\",68:\"4aef8e6\",69:\"00d02dd\",70:\"833a95d\",71:\"cb13d12\",72:\"b637f93\",73:\"0f4ad42\",74:\"1d43ba3\",75:\"6cc0d66\",76:\"e1f9acf\",77:\"253a3b6\",78:\"d68be36\",79:\"bd4ee0c\",80:\"e1e17de\",81:\"43aaee3\",82:\"bf62c77\",83:\"a665a50\",84:\"8879268\",85:\"789703e\",86:\"9e7b520\",87:\"67a4035\",88:\"4e4d6b5\",89:\"aade518\",90:\"cd5c5c3\",91:\"d76d8f1\",92:\"32ce4a3\",93:\"0a9b6f4\",144:\"257fcfa\",145:\"12bbd45\",146:\"914c294\",147:\"567b892\",148:\"4e2b174\",149:\"566cf83\",150:\"2576c1d\",151:\"3f779be\",152:\"e7509d3\",153:\"f5c3cbb\",154:\"73decdb\",155:\"c05b65d\",156:\"5ab4d39\",157:\"874bbca\",158:\"8088af6\",159:\"893c4c2\",160:\"c55e65c\",161:\"d9b8382\",162:\"45569dd\",163:\"a07c560\",164:\"297dfa3\",165:\"89c4072\",166:\"7557ff8\",167:\"e18e387\",169:\"93254af\",170:\"d35c816\",171:\"c9b2a29\",172:\"70f282f\",173:\"40baf2c\",174:\"aa9ce4d\",175:\"615b76d\",176:\"29da05f\",177:\"83a5917\",178:\"2cf3dd8\",179:\"f1240c1\",180:\"d8929a3\",181:\"f44016a\",182:\"9b6e16f\",183:\"074f5b8\",184:\"7ebe149\",185:\"6d54a68\",186:\"22911ea\",187:\"f6f6e59\",188:\"e66549d\",189:\"d2df83c\",190:\"5e02757\",191:\"3748772\",192:\"551fe10\",193:\"6e20cc8\",194:\"1a4c4eb\",195:\"905b657\",196:\"9f2947c\",197:\"f3fc69f\",198:\"3f16c84\",199:\"adb3c2d\",200:\"f596511\",201:\"f6f8cf0\",202:\"f8304a8\",203:\"6b0d96c\",204:\"eb9709e\",205:\"c7bfe18\",206:\"b843d01\",207:\"8f09442\",208:\"62860aa\",209:\"cd7cb75\",210:\"f87b56e\",211:\"b060c84\",212:\"8eaac5e\",213:\"d39a03a\",214:\"f2cfabe\",215:\"8119d9f\",216:\"ff6341c\",217:\"4d7b94d\",218:\"5e57f4b\",219:\"21a2aff\",220:\"390b1ca\",221:\"54d8599\",222:\"66953f0\",223:\"25fadf1\",224:\"aba5b33\",225:\"233d934\",226:\"7acdf84\",2228:\"5fa03b9\",229:\"a62b315\",230:\"3b04ce5\",231:\"a99020b\",232:\"9111fa3\",233:\"6de59d3\",234:\"cea23bc\",235:\"38fb7d3\",236:\"ac307e9\",237:\"047b7f8\",238:\"f2a8e87\",239:\"7a7eeaa\",240:\"dcc21fe\",241:\"28c8500\",242:\"53ff4df\",243:\"38354a1\",244:\"fdc6308\",245:\"d042a19\",246:\"34653a5\",247:\"019ccb1\",248:\"5438edb\",249:\"81466e2\",250:\"c06dc37\",251:\"49f83f2\",252:\"0953dc6\",253:\"1078fe9\",254:\"341c02c\",255:\"dcb62b9\",256:\"214e5d7\",257:\"20c14ac\",258:\"8c064d7\",259:\"3c763b0\",260:\"5e795bb\",261:\"2f89241\",262:\"eddf9b9\",263:\"9c2f6e9\",264:\"aca7544\",265:\"4f4d6b6\",266:\"bccec31\",267:\"4820961\",268:\"0b8299f\",269:\"23331d3\",270:\"05783c6\",271:\"4920b1c\",272:\"4f8dc9d\",273:\"977d60a\",274:\"6f917b1\",275:\"9f623e5\",276:\"92b6df8\",277:\"7d0e14c\",278:\"607e22f\",279:\"f9dbb5a\",280:\"edd1c39\",281:\"500c9f8\",282:\"da3e581\",283:\"cb44e67\",284:\"79fe921\",285:\"d22c15c\",286:\"b535496\"}[e]+\"5.js\"}(e);var c=new Error;t=function(n){i.onerror=i.onload=null,clearTimeout(l);var d=a[e];if(0!==d){if(d){var o=n&&(\"load\"===n.type?\"missing\":n.type),t=n&&n.target&&n.target.src;c.message=\"Loading chunk \"+e+\" failed.\\n(\"+o+\": \"+t+\")\",c.name=\"ChunkLoadError\",c.type=o,c.request=t,d[1](c)}a[e]=void 0}};var l=setTimeout((function(){t({type:\"timeout\",target:i})}),12e4);i.onerror=i.onload=t,document.head.appendChild(i)}return Promise.all(n)},r.m=e,r.c=o,r.d=function(e,n,d){r.o(e,n)||Object.defineProperty(e,n,{enumerable:!0,get:d})},r.r=function(e){\"undefined\"!=typeof Symbol&&Symbol.toStringTag&&Object.defineProperty(e,Symbol.toStringTag,{value:\"Module\"}),Object.defineProperty(e,\"__esModule\",{value:!0})},r.t=function(e,n){if(1&n&&(e=r(e)),8&n)return e;if(4&n&&\"object\"==typeof e&&e&&e.__esModule)return e;var d=Object.create(null);if(r.r(d),Object.defineProperty(d,\"default\",{enumerable:!0,value:e}),2&n&&\"string\"!=typeof e)for(var o in e)r.d(d,o,function(n){return e[n]}.bind(null,o));return d},r.n=function(e){var n=e&&e.__esModule?function(){return e.default}:function(){return e};return r.d(n,\"a\",n),n},r.o=function(e,n){return Object.prototype.hasOwnProperty.call(e,n)},r.p=\"https://abs.twimg.com/responsive-web/client-web-legacy/\",r.oe=function(e){throw e};var i=window.webpackJsonp=window.webpackJsonp||[],c=i.push.bind(i);i.push=n,i=i.slice();for(var l=0;l<i.length;l++)n(i[l]);var u=c;d()}([]),window.__SCRIPTS_LOADED__.runtime=!0;\n",
       "</script><script charset=\"utf-8\" crossorigin=\"anonymous\" nonce=\"M2NlNWU1ZDgtNTNiOS00M2MzLTgzYmItM2RmOTIzZTAyZTkx\" src=\"https://abs.twimg.com/responsive-web/client-web-legacy/polyfills.98da7185.js\" type=\"text/javascript\"></script><script charset=\"utf-8\" crossorigin=\"anonymous\" nonce=\"M2NlNWU1ZDgtNTNiOS00M2MzLTgzYmItM2RmOTIzZTAyZTkx\" src=\"https://abs.twimg.com/responsive-web/client-web-legacy/vendors~main.f53f6d75.js\" type=\"text/javascript\"></script><script charset=\"utf-8\" crossorigin=\"anonymous\" nonce=\"M2NlNWU1ZDgtNTNiOS00M2MzLTgzYmItM2RmOTIzZTAyZTkx\" src=\"https://abs.twimg.com/responsive-web/client-web-legacy/i18n/en.5296e0c5.js\" type=\"text/javascript\"></script><script charset=\"utf-8\" crossorigin=\"anonymous\" nonce=\"M2NlNWU1ZDgtNTNiOS00M2MzLTgzYmItM2RmOTIzZTAyZTkx\" src=\"https://abs.twimg.com/responsive-web/client-web-legacy/main.9718dfd5.js\" type=\"text/javascript\"></script><script nonce=\"M2NlNWU1ZDgtNTNiOS00M2MzLTgzYmItM2RmOTIzZTAyZTkx\">(function () {\n",
       "  if (!window.__SCRIPTS_LOADED__['main']) {\n",
       "    document.getElementById('ScriptLoadFailure').style.display = 'block';\n",
       "    var criticalScripts = [\"polyfills\",\"vendors~main\",\"i18n\",\"main\"];\n",
       "    for (var i = 0; i < criticalScripts.length; i++) {\n",
       "      var criticalScript = criticalScripts[i];\n",
       "      if (!window.__SCRIPTS_LOADED__[criticalScript]) {\n",
       "        document.getElementsByName('failedScript')[0].value = criticalScript;\n",
       "        break;\n",
       "      }\n",
       "    }\n",
       "  }\n",
       "})();</script><script nonce=\"M2NlNWU1ZDgtNTNiOS00M2MzLTgzYmItM2RmOTIzZTAyZTkx\">document.cookie = decodeURIComponent(\"gt=1377850051809046531; Max-Age=10800; Domain=.twitter.com; Path=/; Secure\");</script></body></html>"
      ]
     },
     "metadata": {},
     "execution_count": 138
    }
   ],
   "source": [
    "# This is the url you will scrape in this exercise \n",
    "# You will need to add the account credentials to this url\n",
    "url = 'https://twitter.com/barackobama'\n",
    "html = requests.get(url).content\n",
    "soup = BeautifulSoup(html, \"lxml\")\n",
    "soup"
   ]
  },
  {
   "cell_type": "code",
   "execution_count": null,
   "metadata": {},
   "outputs": [],
   "source": [
    "#your code"
   ]
  },
  {
   "cell_type": "markdown",
   "metadata": {},
   "source": [
    "#### List all language names and number of related articles in the order they appear in wikipedia.org"
   ]
  },
  {
   "cell_type": "code",
   "execution_count": 139,
   "metadata": {},
   "outputs": [],
   "source": [
    "# This is the url you will scrape in this exercise\n",
    "url = 'https://www.wikipedia.org/'\n",
    "html = requests.get(url).content\n",
    "soup = BeautifulSoup(html, \"lxml\")"
   ]
  },
  {
   "cell_type": "code",
   "execution_count": 141,
   "metadata": {},
   "outputs": [
    {
     "output_type": "execute_result",
     "data": {
      "text/plain": [
       "['English',\n",
       " 'Español',\n",
       " '日本語',\n",
       " 'Deutsch',\n",
       " 'Русский',\n",
       " 'Français',\n",
       " 'Italiano',\n",
       " '中文',\n",
       " 'Português',\n",
       " 'Polski']"
      ]
     },
     "metadata": {},
     "execution_count": 141
    }
   ],
   "source": [
    "#your code\n",
    "\n",
    "lang = [l.select('strong')[0].text for l in soup.find_all('a', class_ = 'link-box') ]\n",
    "lang\n"
   ]
  },
  {
   "cell_type": "markdown",
   "metadata": {},
   "source": [
    "#### A list with the different kind of datasets available in data.gov.uk "
   ]
  },
  {
   "cell_type": "code",
   "execution_count": 142,
   "metadata": {},
   "outputs": [],
   "source": [
    "# This is the url you will scrape in this exercise\n",
    "url = 'https://data.gov.uk/'\n",
    "html = requests.get(url).content\n",
    "soup = BeautifulSoup(html, \"lxml\")"
   ]
  },
  {
   "cell_type": "code",
   "execution_count": 152,
   "metadata": {},
   "outputs": [
    {
     "output_type": "execute_result",
     "data": {
      "text/plain": [
       "['Business and economy',\n",
       " 'Crime and justice',\n",
       " 'Defence',\n",
       " 'Education',\n",
       " 'Environment',\n",
       " 'Government',\n",
       " 'Government spending',\n",
       " 'Health',\n",
       " 'Mapping',\n",
       " 'Society',\n",
       " 'Towns and cities',\n",
       " 'Transport',\n",
       " 'Digital service performance',\n",
       " 'Government reference data']"
      ]
     },
     "metadata": {},
     "execution_count": 152
    }
   ],
   "source": [
    "#your code \n",
    "\n",
    "kind = [ k.select('a')[0].text for k in soup.find_all('h3', class_ = 'govuk-heading-s dgu-topics__heading') ]\n",
    "kind\n"
   ]
  },
  {
   "cell_type": "markdown",
   "metadata": {},
   "source": [
    "#### Top 10 languages by number of native speakers stored in a Pandas Dataframe"
   ]
  },
  {
   "cell_type": "code",
   "execution_count": 153,
   "metadata": {},
   "outputs": [],
   "source": [
    "# This is the url you will scrape in this exercise\n",
    "url = 'https://en.wikipedia.org/wiki/List_of_languages_by_number_of_native_speakers'\n",
    "html = requests.get(url).content\n",
    "soup = BeautifulSoup(html, \"lxml\")"
   ]
  },
  {
   "cell_type": "code",
   "execution_count": 161,
   "metadata": {},
   "outputs": [
    {
     "output_type": "execute_result",
     "data": {
      "text/plain": [
       "    Rank                            Language  Speakers(millions)  \\\n",
       "0      1                    Mandarin Chinese               918.0   \n",
       "1      2                             Spanish               480.0   \n",
       "2      3                             English               379.0   \n",
       "3      4  Hindi (sanskritised Hindustani)[9]               341.0   \n",
       "4      5                             Bengali               228.0   \n",
       "..   ...                                 ...                 ...   \n",
       "86    87                               Czech                10.7   \n",
       "87    88                Taʽizzi-Adeni Arabic                10.5   \n",
       "88    89                              Uyghur                10.4   \n",
       "89    90                    Min Dong Chinese                10.3   \n",
       "90    91                             Sylheti                10.3   \n",
       "\n",
       "   Percentageof world pop.(March 2019)[8] Language family        Branch  \n",
       "0                                 11.922%    Sino-Tibetan       Sinitic  \n",
       "1                                  5.994%   Indo-European       Romance  \n",
       "2                                  4.922%   Indo-European      Germanic  \n",
       "3                                  4.429%   Indo-European    Indo-Aryan  \n",
       "4                                  2.961%   Indo-European    Indo-Aryan  \n",
       "..                                    ...             ...           ...  \n",
       "86                                 0.139%   Indo-European  Balto-Slavic  \n",
       "87                                 0.136%     Afroasiatic       Semitic  \n",
       "88                                 0.135%          Turkic        Karluk  \n",
       "89                                 0.134%    Sino-Tibetan       Sinitic  \n",
       "90                                 0.134%   Indo-European    Indo-Aryan  \n",
       "\n",
       "[91 rows x 6 columns]"
      ],
      "text/html": "<div>\n<style scoped>\n    .dataframe tbody tr th:only-of-type {\n        vertical-align: middle;\n    }\n\n    .dataframe tbody tr th {\n        vertical-align: top;\n    }\n\n    .dataframe thead th {\n        text-align: right;\n    }\n</style>\n<table border=\"1\" class=\"dataframe\">\n  <thead>\n    <tr style=\"text-align: right;\">\n      <th></th>\n      <th>Rank</th>\n      <th>Language</th>\n      <th>Speakers(millions)</th>\n      <th>Percentageof world pop.(March 2019)[8]</th>\n      <th>Language family</th>\n      <th>Branch</th>\n    </tr>\n  </thead>\n  <tbody>\n    <tr>\n      <th>0</th>\n      <td>1</td>\n      <td>Mandarin Chinese</td>\n      <td>918.0</td>\n      <td>11.922%</td>\n      <td>Sino-Tibetan</td>\n      <td>Sinitic</td>\n    </tr>\n    <tr>\n      <th>1</th>\n      <td>2</td>\n      <td>Spanish</td>\n      <td>480.0</td>\n      <td>5.994%</td>\n      <td>Indo-European</td>\n      <td>Romance</td>\n    </tr>\n    <tr>\n      <th>2</th>\n      <td>3</td>\n      <td>English</td>\n      <td>379.0</td>\n      <td>4.922%</td>\n      <td>Indo-European</td>\n      <td>Germanic</td>\n    </tr>\n    <tr>\n      <th>3</th>\n      <td>4</td>\n      <td>Hindi (sanskritised Hindustani)[9]</td>\n      <td>341.0</td>\n      <td>4.429%</td>\n      <td>Indo-European</td>\n      <td>Indo-Aryan</td>\n    </tr>\n    <tr>\n      <th>4</th>\n      <td>5</td>\n      <td>Bengali</td>\n      <td>228.0</td>\n      <td>2.961%</td>\n      <td>Indo-European</td>\n      <td>Indo-Aryan</td>\n    </tr>\n    <tr>\n      <th>...</th>\n      <td>...</td>\n      <td>...</td>\n      <td>...</td>\n      <td>...</td>\n      <td>...</td>\n      <td>...</td>\n    </tr>\n    <tr>\n      <th>86</th>\n      <td>87</td>\n      <td>Czech</td>\n      <td>10.7</td>\n      <td>0.139%</td>\n      <td>Indo-European</td>\n      <td>Balto-Slavic</td>\n    </tr>\n    <tr>\n      <th>87</th>\n      <td>88</td>\n      <td>Taʽizzi-Adeni Arabic</td>\n      <td>10.5</td>\n      <td>0.136%</td>\n      <td>Afroasiatic</td>\n      <td>Semitic</td>\n    </tr>\n    <tr>\n      <th>88</th>\n      <td>89</td>\n      <td>Uyghur</td>\n      <td>10.4</td>\n      <td>0.135%</td>\n      <td>Turkic</td>\n      <td>Karluk</td>\n    </tr>\n    <tr>\n      <th>89</th>\n      <td>90</td>\n      <td>Min Dong Chinese</td>\n      <td>10.3</td>\n      <td>0.134%</td>\n      <td>Sino-Tibetan</td>\n      <td>Sinitic</td>\n    </tr>\n    <tr>\n      <th>90</th>\n      <td>91</td>\n      <td>Sylheti</td>\n      <td>10.3</td>\n      <td>0.134%</td>\n      <td>Indo-European</td>\n      <td>Indo-Aryan</td>\n    </tr>\n  </tbody>\n</table>\n<p>91 rows × 6 columns</p>\n</div>"
     },
     "metadata": {},
     "execution_count": 161
    }
   ],
   "source": [
    "#your code\n",
    "\n",
    "lan_nat = soup.find_all('table')[1]\n",
    "lan_nat_df = pd.read_html(str(lan_nat))[0]\n",
    "lan_nat_df\n"
   ]
  },
  {
   "cell_type": "markdown",
   "metadata": {},
   "source": [
    "### BONUS QUESTIONS"
   ]
  },
  {
   "cell_type": "markdown",
   "metadata": {},
   "source": [
    "#### Scrape a certain number of tweets of a given Twitter account."
   ]
  },
  {
   "cell_type": "code",
   "execution_count": null,
   "metadata": {},
   "outputs": [],
   "source": [
    "# This is the url you will scrape in this exercise \n",
    "# You will need to add the account credentials to this url\n",
    "url = 'https://twitter.com/'"
   ]
  },
  {
   "cell_type": "code",
   "execution_count": null,
   "metadata": {},
   "outputs": [],
   "source": [
    "# your code"
   ]
  },
  {
   "cell_type": "markdown",
   "metadata": {},
   "source": [
    "#### IMDB's Top 250 data (movie name, Initial release, director name and stars) as a pandas dataframe"
   ]
  },
  {
   "cell_type": "code",
   "execution_count": null,
   "metadata": {},
   "outputs": [],
   "source": [
    "# This is the url you will scrape in this exercise \n",
    "url = 'https://www.imdb.com/chart/top'"
   ]
  },
  {
   "cell_type": "code",
   "execution_count": null,
   "metadata": {},
   "outputs": [],
   "source": [
    "# your code"
   ]
  },
  {
   "cell_type": "markdown",
   "metadata": {},
   "source": [
    "#### Movie name, year and a brief summary of the top 10 random movies (IMDB) as a pandas dataframe."
   ]
  },
  {
   "cell_type": "code",
   "execution_count": null,
   "metadata": {},
   "outputs": [],
   "source": [
    "#This is the url you will scrape in this exercise\n",
    "url = 'http://www.imdb.com/chart/top'"
   ]
  },
  {
   "cell_type": "code",
   "execution_count": null,
   "metadata": {},
   "outputs": [],
   "source": [
    "#your code"
   ]
  },
  {
   "cell_type": "markdown",
   "metadata": {},
   "source": [
    "#### Find the live weather report (temperature, wind speed, description and weather) of a given city."
   ]
  },
  {
   "cell_type": "code",
   "execution_count": null,
   "metadata": {},
   "outputs": [],
   "source": [
    "#https://openweathermap.org/current\n",
    "city = city=input('Enter the city:')\n",
    "url = 'http://api.openweathermap.org/data/2.5/weather?'+'q='+city+'&APPID=b35975e18dc93725acb092f7272cc6b8&units=metric'"
   ]
  },
  {
   "cell_type": "code",
   "execution_count": null,
   "metadata": {},
   "outputs": [],
   "source": [
    "# your code"
   ]
  },
  {
   "cell_type": "markdown",
   "metadata": {},
   "source": [
    "#### Book name,price and stock availability as a pandas dataframe."
   ]
  },
  {
   "cell_type": "code",
   "execution_count": null,
   "metadata": {},
   "outputs": [],
   "source": [
    "# This is the url you will scrape in this exercise. \n",
    "# It is a fictional bookstore created to be scraped. \n",
    "url = 'http://books.toscrape.com/'"
   ]
  },
  {
   "cell_type": "code",
   "execution_count": null,
   "metadata": {},
   "outputs": [],
   "source": [
    "#your code"
   ]
  }
 ],
 "metadata": {
  "kernelspec": {
   "display_name": "Python 3",
   "language": "python",
   "name": "python3"
  },
  "language_info": {
   "codemirror_mode": {
    "name": "ipython",
    "version": 3
   },
   "file_extension": ".py",
   "mimetype": "text/x-python",
   "name": "python",
   "nbconvert_exporter": "python",
   "pygments_lexer": "ipython3",
   "version": "3.8.3-final"
  }
 },
 "nbformat": 4,
 "nbformat_minor": 2
}